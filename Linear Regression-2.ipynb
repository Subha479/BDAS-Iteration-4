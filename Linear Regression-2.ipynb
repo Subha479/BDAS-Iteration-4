{
 "cells": [
  {
   "cell_type": "code",
   "execution_count": 9,
   "metadata": {},
   "outputs": [],
   "source": [
    "# Must be included at the beginning of each new notebook. Remember to change the app name.\n",
    "import findspark\n",
    "findspark.init('/home/ubuntu/spark-2.1.1-bin-hadoop2.7')\n",
    "import pyspark\n",
    "import pyspark.sql.functions as F\n",
    "import pyspark.sql.types as T\n",
    "from pyspark.sql import SparkSession\n",
    "spark = SparkSession.builder.appName('LinearRegression2').getOrCreate()\n",
    "import pandas as pd"
   ]
  },
  {
   "cell_type": "code",
   "execution_count": 2,
   "metadata": {},
   "outputs": [],
   "source": [
    "df = spark.read.load(\"./finalEdited-HumanHappiness-BDAS-mining.csv\", format=\"csv\", header=True, inferSchema=True)"
   ]
  },
  {
   "cell_type": "code",
   "execution_count": 3,
   "metadata": {},
   "outputs": [],
   "source": [
    "# Import VectorAssembler and Vectors\n",
    "from pyspark.ml.linalg import Vectors\n",
    "from pyspark.ml.feature import VectorAssembler\n",
    "\n",
    "# The input columns are the feature column names, and the output column is what you'd like the new column to be named. \n",
    "vector_assembler = VectorAssembler(\n",
    "    inputCols=['Year',\n",
    " 'Rule of Law',\n",
    " 'Disappearances, Conflicts, and Terrorism',\n",
    " 'Women Security & Safety',\n",
    " 'Security & Safety',\n",
    " 'Women Movement',\n",
    " 'Movement',\n",
    " 'Legal and Regulatory Restrictions',\n",
    " 'State Control over Internet Access',\n",
    " 'Expression & Information',\n",
    " 'Same Sex Relationships',\n",
    " 'Divorce',\n",
    " 'PERSONAL FREEDOM (Score)',\n",
    " 'PERSONAL FREEDOM (Rank)',\n",
    " 'Government  enterprises and investment',\n",
    " 'Top marginal income tax rate',\n",
    " 'Legal enforcement of contracts',\n",
    " 'Reliability of police',\n",
    " 'Gender Legal Rights Adjustment',\n",
    " 'Money growth',\n",
    " 'Inflation: Most recent year',\n",
    " 'Compliance costs of importing and exporting',\n",
    " 'Regulatory trade barriers',\n",
    " 'Foreign ownership/investment restrictions',\n",
    " 'Freedom to trade internationally',\n",
    " 'Hiring regulations and minimum wage',\n",
    " 'Labour market regulations',\n",
    " 'Licensing restrictions',\n",
    " 'Business regulations',\n",
    " 'ECONOMIC FREEDOM (Score)',\n",
    " 'ECONOMIC FREEDOM (Rank)'],\n",
    "    outputCol=\"features\")"
   ]
  },
  {
   "cell_type": "code",
   "execution_count": 4,
   "metadata": {},
   "outputs": [
    {
     "name": "stdout",
     "output_type": "stream",
     "text": [
      "root\n",
      " |-- Year: integer (nullable = true)\n",
      " |-- Countries: string (nullable = true)\n",
      " |-- Region: string (nullable = true)\n",
      " |-- HUMAN FREEDOM (Score): double (nullable = true)\n",
      " |-- HUMAN FREEDOM (Rank): integer (nullable = true)\n",
      " |-- HUMAN FREEDOM (Quartile): integer (nullable = true)\n",
      " |-- Rule of Law: double (nullable = true)\n",
      " |-- Disappearances, Conflicts, and Terrorism: double (nullable = true)\n",
      " |-- Women Security & Safety: double (nullable = true)\n",
      " |-- Security & Safety: double (nullable = true)\n",
      " |-- Women Movement: double (nullable = true)\n",
      " |-- Movement: double (nullable = true)\n",
      " |-- Legal and Regulatory Restrictions: double (nullable = true)\n",
      " |-- State Control over Internet Access: double (nullable = true)\n",
      " |-- Expression & Information: double (nullable = true)\n",
      " |-- Same Sex Relationships: integer (nullable = true)\n",
      " |-- Divorce: double (nullable = true)\n",
      " |-- PERSONAL FREEDOM (Score): double (nullable = true)\n",
      " |-- PERSONAL FREEDOM (Rank): integer (nullable = true)\n",
      " |-- Government  enterprises and investment: integer (nullable = true)\n",
      " |-- Top marginal income tax rate: integer (nullable = true)\n",
      " |-- Legal enforcement of contracts: double (nullable = true)\n",
      " |-- Reliability of police: double (nullable = true)\n",
      " |-- Gender Legal Rights Adjustment: double (nullable = true)\n",
      " |-- Money growth: double (nullable = true)\n",
      " |-- Inflation: Most recent year: double (nullable = true)\n",
      " |-- Compliance costs of importing and exporting: double (nullable = true)\n",
      " |-- Regulatory trade barriers: double (nullable = true)\n",
      " |-- Foreign ownership/investment restrictions: double (nullable = true)\n",
      " |-- Freedom to trade internationally: double (nullable = true)\n",
      " |-- Hiring regulations and minimum wage: double (nullable = true)\n",
      " |-- Labour market regulations: double (nullable = true)\n",
      " |-- Licensing restrictions: double (nullable = true)\n",
      " |-- Business regulations: double (nullable = true)\n",
      " |-- ECONOMIC FREEDOM (Score): double (nullable = true)\n",
      " |-- ECONOMIC FREEDOM (Rank): integer (nullable = true)\n",
      " |-- features: vector (nullable = true)\n",
      "\n"
     ]
    },
    {
     "data": {
      "text/plain": [
       "[Row(Year=2017, Countries='Albania', Region='Eastern Europe', HUMAN FREEDOM (Score)=7.84, HUMAN FREEDOM (Rank)=38, HUMAN FREEDOM (Quartile)=1, Rule of Law=5.291751647, Disappearances, Conflicts, and Terrorism=10.0, Women Security & Safety=8.75, Security & Safety=9.276666667, Women Movement=10.0, Movement=10.0, Legal and Regulatory Restrictions=8.011111111, State Control over Internet Access=10.0, Expression & Information=8.607142857, Same Sex Relationships=10, Divorce=7.5, PERSONAL FREEDOM (Score)=8.005411457, PERSONAL FREEDOM (Rank)=46, Government  enterprises and investment=8, Top marginal income tax rate=9, Legal enforcement of contracts=4.387444055, Reliability of police=6.824168762, Gender Legal Rights Adjustment=0.9524, Money growth=9.253087019, Inflation: Most recent year=9.601214379, Compliance costs of importing and exporting=9.405327776, Regulatory trade barriers=7.706503738, Foreign ownership/investment restrictions=6.306105852, Freedom to trade internationally=8.343862962, Hiring regulations and minimum wage=5.566666667, Labour market regulations=6.938448195, Licensing restrictions=6.031964728, Business regulations=6.652097679, ECONOMIC FREEDOM (Score)=7.67, ECONOMIC FREEDOM (Rank)=30, features=DenseVector([2017.0, 5.2918, 10.0, 8.75, 9.2767, 10.0, 10.0, 8.0111, 10.0, 8.6071, 10.0, 7.5, 8.0054, 46.0, 8.0, 9.0, 4.3874, 6.8242, 0.9524, 9.2531, 9.6012, 9.4053, 7.7065, 6.3061, 8.3439, 5.5667, 6.9384, 6.032, 6.6521, 7.67, 30.0]))]"
      ]
     },
     "execution_count": 4,
     "metadata": {},
     "output_type": "execute_result"
    }
   ],
   "source": [
    "#reduce data\n",
    "vector_output = vector_assembler.transform(df)\n",
    "vector_output.printSchema()\n",
    "vector_output.head(1)"
   ]
  },
  {
   "cell_type": "code",
   "execution_count": 5,
   "metadata": {},
   "outputs": [
    {
     "name": "stdout",
     "output_type": "stream",
     "text": [
      "[Row(features=DenseVector([2017.0, 5.2918, 10.0, 8.75, 9.2767, 10.0, 10.0, 8.0111, 10.0, 8.6071, 10.0, 7.5, 8.0054, 46.0, 8.0, 9.0, 4.3874, 6.8242, 0.9524, 9.2531, 9.6012, 9.4053, 7.7065, 6.3061, 8.3439, 5.5667, 6.9384, 6.032, 6.6521, 7.67, 30.0]), HUMAN FREEDOM (Rank)=38)]\n",
      "+--------------------+--------------------+\n",
      "|            features|HUMAN FREEDOM (Rank)|\n",
      "+--------------------+--------------------+\n",
      "|[2017.0,5.2917516...|                  38|\n",
      "|[2017.0,3.7960803...|                 155|\n",
      "|[2017.0,3.4119028...|                 151|\n",
      "+--------------------+--------------------+\n",
      "only showing top 3 rows\n",
      "\n"
     ]
    }
   ],
   "source": [
    "vector_output = vector_output.select(['features', 'HUMAN FREEDOM (Rank)'])\n",
    "print(vector_output.head(1))\n",
    "vector_output.show(3)"
   ]
  },
  {
   "cell_type": "code",
   "execution_count": 6,
   "metadata": {},
   "outputs": [
    {
     "name": "stdout",
     "output_type": "stream",
     "text": [
      "+-------+--------------------+\n",
      "|summary|HUMAN FREEDOM (Rank)|\n",
      "+-------+--------------------+\n",
      "|  count|                1243|\n",
      "|   mean|   75.09734513274336|\n",
      "| stddev|   45.46075815908157|\n",
      "|    min|                   0|\n",
      "|    max|                 162|\n",
      "+-------+--------------------+\n",
      "\n",
      "+-------+--------------------+\n",
      "|summary|HUMAN FREEDOM (Rank)|\n",
      "+-------+--------------------+\n",
      "|  count|                 326|\n",
      "|   mean|    78.2760736196319|\n",
      "| stddev|   46.10647054120355|\n",
      "|    min|                   0|\n",
      "|    max|                 162|\n",
      "+-------+--------------------+\n",
      "\n"
     ]
    }
   ],
   "source": [
    "train_data,test_data = vector_output.randomSplit([0.8,0.2])\n",
    "train_data.describe().show()\n",
    "test_data.describe().show()"
   ]
  },
  {
   "cell_type": "code",
   "execution_count": 12,
   "metadata": {},
   "outputs": [
    {
     "name": "stdout",
     "output_type": "stream",
     "text": [
      "Coefficients: \n",
      "\t(HUMAN FREEDOM (Rank)/Year): 0.14907733074184285\n",
      "\t(HUMAN FREEDOM (Rank)/Countries): 0.4925633192351139\n",
      "\t(HUMAN FREEDOM (Rank)/Region): -0.2836827995584551\n",
      "\t(HUMAN FREEDOM (Rank)/HUMAN FREEDOM (Score)): -0.5405468326019882\n",
      "\t(HUMAN FREEDOM (Rank)/HUMAN FREEDOM (Rank)): 0.29943643067622955\n",
      "\t(HUMAN FREEDOM (Rank)/HUMAN FREEDOM (Quartile)): 0.040332099656476376\n",
      "\t(HUMAN FREEDOM (Rank)/Rule of Law): -0.3553965926642917\n",
      "\t(HUMAN FREEDOM (Rank)/Disappearances, Conflicts, and Terrorism): -0.18021662406486694\n",
      "\t(HUMAN FREEDOM (Rank)/Women Security & Safety): 0.027047214690210018\n",
      "\t(HUMAN FREEDOM (Rank)/Security & Safety): 0.035567246812678484\n",
      "\t(HUMAN FREEDOM (Rank)/Women Movement): -0.02987978937748049\n",
      "\t(HUMAN FREEDOM (Rank)/Movement): 0.04956984671981605\n",
      "\t(HUMAN FREEDOM (Rank)/Legal and Regulatory Restrictions): 5.7844333828459416\n",
      "\t(HUMAN FREEDOM (Rank)/State Control over Internet Access): 0.7924243974824557\n",
      "\t(HUMAN FREEDOM (Rank)/Expression & Information): -0.24773340067269714\n",
      "\t(HUMAN FREEDOM (Rank)/Same Sex Relationships): 0.08886685156191347\n",
      "\t(HUMAN FREEDOM (Rank)/Divorce): 0.2059327992997592\n",
      "\t(HUMAN FREEDOM (Rank)/PERSONAL FREEDOM (Score)): -0.008780856538279754\n",
      "\t(HUMAN FREEDOM (Rank)/PERSONAL FREEDOM (Rank)): -4.982529612654144\n",
      "\t(HUMAN FREEDOM (Rank)/Government  enterprises and investment): -0.08873980863890182\n",
      "\t(HUMAN FREEDOM (Rank)/Top marginal income tax rate): -0.12292256497460331\n",
      "\t(HUMAN FREEDOM (Rank)/Legal enforcement of contracts): 0.09889912586144\n",
      "\t(HUMAN FREEDOM (Rank)/Reliability of police): -0.5407523671307561\n",
      "\t(HUMAN FREEDOM (Rank)/Gender Legal Rights Adjustment): 0.10483240681122129\n",
      "\t(HUMAN FREEDOM (Rank)/Money growth): 0.08700036151074693\n",
      "\t(HUMAN FREEDOM (Rank)/Inflation: Most recent year): -0.09155515536902002\n",
      "\t(HUMAN FREEDOM (Rank)/Compliance costs of importing and exporting): -0.0941272398820036\n",
      "\t(HUMAN FREEDOM (Rank)/Regulatory trade barriers): 0.10367574549268155\n",
      "\t(HUMAN FREEDOM (Rank)/Foreign ownership/investment restrictions): 0.19612842436830236\n",
      "\t(HUMAN FREEDOM (Rank)/Freedom to trade internationally): -7.001212003366816\n",
      "\t(HUMAN FREEDOM (Rank)/Hiring regulations and minimum wage): 0.28258313498248255\n",
      "Intercept: -288.0244496447636\n",
      "\n",
      "RMSE: 4.200608344255569\n",
      "R2: 0.9914552262924792\n",
      "\n",
      "\n"
     ]
    },
    {
     "data": {
      "text/html": [
       "<div>\n",
       "<style scoped>\n",
       "    .dataframe tbody tr th:only-of-type {\n",
       "        vertical-align: middle;\n",
       "    }\n",
       "\n",
       "    .dataframe tbody tr th {\n",
       "        vertical-align: top;\n",
       "    }\n",
       "\n",
       "    .dataframe thead th {\n",
       "        text-align: right;\n",
       "    }\n",
       "</style>\n",
       "<table border=\"1\" class=\"dataframe\">\n",
       "  <thead>\n",
       "    <tr style=\"text-align: right;\">\n",
       "      <th></th>\n",
       "      <th>residuals</th>\n",
       "    </tr>\n",
       "  </thead>\n",
       "  <tbody>\n",
       "    <tr>\n",
       "      <th>0</th>\n",
       "      <td>-1.386268</td>\n",
       "    </tr>\n",
       "    <tr>\n",
       "      <th>1</th>\n",
       "      <td>-1.216354</td>\n",
       "    </tr>\n",
       "    <tr>\n",
       "      <th>2</th>\n",
       "      <td>-0.321974</td>\n",
       "    </tr>\n",
       "    <tr>\n",
       "      <th>3</th>\n",
       "      <td>-0.224801</td>\n",
       "    </tr>\n",
       "    <tr>\n",
       "      <th>4</th>\n",
       "      <td>-0.319905</td>\n",
       "    </tr>\n",
       "    <tr>\n",
       "      <th>5</th>\n",
       "      <td>-1.606207</td>\n",
       "    </tr>\n",
       "    <tr>\n",
       "      <th>6</th>\n",
       "      <td>-0.543248</td>\n",
       "    </tr>\n",
       "    <tr>\n",
       "      <th>7</th>\n",
       "      <td>-0.449178</td>\n",
       "    </tr>\n",
       "    <tr>\n",
       "      <th>8</th>\n",
       "      <td>-0.341914</td>\n",
       "    </tr>\n",
       "    <tr>\n",
       "      <th>9</th>\n",
       "      <td>-0.450908</td>\n",
       "    </tr>\n",
       "  </tbody>\n",
       "</table>\n",
       "</div>"
      ],
      "text/plain": [
       "   residuals\n",
       "0  -1.386268\n",
       "1  -1.216354\n",
       "2  -0.321974\n",
       "3  -0.224801\n",
       "4  -0.319905\n",
       "5  -1.606207\n",
       "6  -0.543248\n",
       "7  -0.449178\n",
       "8  -0.341914\n",
       "9  -0.450908"
      ]
     },
     "execution_count": 12,
     "metadata": {},
     "output_type": "execute_result"
    }
   ],
   "source": [
    "#Linear Regression.\n",
    "from pyspark.ml.regression import LinearRegression\n",
    "\n",
    "lr = LinearRegression(featuresCol='features', labelCol='HUMAN FREEDOM (Rank)')\n",
    "lr_model = lr.fit(train_data)\n",
    "print(\"Coefficients: \") \n",
    "x = 0\n",
    "for coe in str(lr_model.coefficients)[1:].replace(\"]\",\"\").split(','):\n",
    "    print(\"\\t(HUMAN FREEDOM (Rank)/\"+df.columns[x]+\"): \"+coe)\n",
    "    x += 1\n",
    "\n",
    "print(\"Intercept: \" + str(lr_model.intercept) + \"\\n\")\n",
    "\n",
    "data_summary = lr_model.summary\n",
    "print(\"RMSE: \" + str(data_summary.rootMeanSquaredError))\n",
    "print(\"R2: \" + str(data_summary.r2))\n",
    "print(\"\\n\")\n",
    "\n",
    "data_resi = data_summary.residuals\n",
    "pd.DataFrame(data_resi.take(10), columns=data_resi.columns)"
   ]
  },
  {
   "cell_type": "code",
   "execution_count": 11,
   "metadata": {},
   "outputs": [
    {
     "data": {
      "text/plain": [
       "<Figure size 640x480 with 1 Axes>"
      ]
     },
     "metadata": {},
     "output_type": "display_data"
    }
   ],
   "source": [
    "#Plotting for residuals.\n",
    "import numpy as np\n",
    "import matplotlib.pyplot as plt\n",
    "\n",
    "resi = data_resi.toPandas()\n",
    "\n",
    "plt.hist(resi['residuals'], 50)\n",
    "plt.xlabel('residuals')\n",
    "plt.title('residuals Histogram')\n",
    "\n",
    "plt.show()"
   ]
  },
  {
   "cell_type": "code",
   "execution_count": 13,
   "metadata": {},
   "outputs": [
    {
     "name": "stdout",
     "output_type": "stream",
     "text": [
      "Coefficients: [0.14907733074184285,0.4925633192351139,-0.2836827995584551,-0.5405468326019882,0.29943643067622955,0.040332099656476376,-0.3553965926642917,-0.18021662406486694,0.027047214690210018,0.035567246812678484,-0.02987978937748049,0.04956984671981605,5.7844333828459416,0.7924243974824557,-0.24773340067269714,0.08886685156191347,0.2059327992997592,-0.008780856538279754,-4.982529612654144,-0.08873980863890182,-0.12292256497460331,0.09889912586144,-0.5407523671307561,0.10483240681122129,0.08700036151074693,-0.09155515536902002,-0.0941272398820036,0.10367574549268155,0.19612842436830236,-7.001212003366816,0.28258313498248255]\n",
      "Intercept: -288.0244496447636\n",
      "\n",
      "RMSE: 4.200608344255569\n",
      "R2: 0.9914552262924792\n"
     ]
    }
   ],
   "source": [
    "from pyspark.ml.regression import LinearRegression\n",
    "# Instantiate the instance.\n",
    "lr = LinearRegression(featuresCol='features', labelCol='HUMAN FREEDOM (Rank)')\n",
    "\n",
    "# Fit the training data.\n",
    "lr_model = lr.fit(train_data)\n",
    "\n",
    "# Print the coefficients.\n",
    "print(\"Coefficients: \" + str(lr_model.coefficients))\n",
    "\n",
    "# Print the intercept.\n",
    "print(\"Intercept: \" + str(lr_model.intercept) + \"\\n\")\n",
    "\n",
    "# Summarise the model and print out some evaluation metrics.\n",
    "training_summary = lr_model.summary\n",
    "\n",
    "# Print RMSE. \n",
    "print(\"RMSE: \" + str(training_summary.rootMeanSquaredError))\n",
    "\n",
    "# Print R2.\n",
    "print(\"R2: \" + str(training_summary.r2))"
   ]
  },
  {
   "cell_type": "code",
   "execution_count": 14,
   "metadata": {},
   "outputs": [
    {
     "name": "stdout",
     "output_type": "stream",
     "text": [
      "Coefficients: [-0.021241907885245662,-0.3407116851751436,0.048024197811845394,0.0,0.0,0.30717125432066017,-0.4002970743844292,0.0,0.029024168628260127,0.0,-0.13135030707861817,0.0,-0.4869657532355111,0.574437856034127,-0.1584328260096321,0.0,0.28981932789286713,0.05243595072114934,-3.7526957622733357,-0.17976961048406154,-0.145906465840162,-0.1749316495365746,0.08187513580383814,0.2158796995215783,0.0,0.0,-0.044284934814299404,0.18006170447693234,0.029191097775110558,0.20866475857484446,0.43973742958641543]\n",
      "Intercept: 50.27894684550508\n"
     ]
    }
   ],
   "source": [
    "# Linear Regression on train data\n",
    "from pyspark.ml.regression import LinearRegression\n",
    "lr = LinearRegression(featuresCol = 'features', labelCol='HUMAN FREEDOM (Rank)', maxIter=10, regParam=0.3, elasticNetParam=0.8)\n",
    "lr_model = lr.fit(train_data)\n",
    "print(\"Coefficients: \" + str(lr_model.coefficients))\n",
    "print(\"Intercept: \" + str(lr_model.intercept))"
   ]
  },
  {
   "cell_type": "code",
   "execution_count": 16,
   "metadata": {},
   "outputs": [
    {
     "name": "stdout",
     "output_type": "stream",
     "text": [
      "+------------------+--------------------+--------------------+\n",
      "|        prediction|HUMAN FREEDOM (Rank)|            features|\n",
      "+------------------+--------------------+--------------------+\n",
      "|3.1469821247594183|                   0|(31,[0,2,4,9,12,1...|\n",
      "| 2.413118323792176|                   0|(31,[0,2,4,9,12,1...|\n",
      "|3.1870975028749697|                   0|(31,[0,2,4,9,12,1...|\n",
      "| 1.338755204903876|                   0|(31,[0,2,4,9,12,1...|\n",
      "|1.4932634640058922|                   0|(31,[0,2,4,9,12,1...|\n",
      "+------------------+--------------------+--------------------+\n",
      "only showing top 5 rows\n",
      "\n",
      "R Squared (R2) = 0.988282\n",
      "Mean Absolute Error (MAE) = 3.81486\n",
      "Root Mean Squared Error (RMSE) = 4.98336\n"
     ]
    }
   ],
   "source": [
    "#iteration-1\n",
    "lr_predictions = lr_model.transform(test_data)\n",
    "lr_predictions.select(\"prediction\",\"HUMAN FREEDOM (Rank)\",\"features\").show(5)\n",
    "\n",
    "from pyspark.ml.evaluation import RegressionEvaluator\n",
    "\n",
    "lrR2_evaluator = RegressionEvaluator(predictionCol=\"prediction\", \\\n",
    "                 labelCol=\"HUMAN FREEDOM (Rank)\",metricName=\"r2\")\n",
    "print(\"R Squared (R2) = %g\" % lrR2_evaluator.evaluate(lr_predictions))\n",
    "\n",
    "lrMAE_evaluator = RegressionEvaluator(predictionCol=\"prediction\", \\\n",
    "                 labelCol=\"HUMAN FREEDOM (Rank)\",metricName=\"mae\")\n",
    "print(\"Mean Absolute Error (MAE) = %g\" % lrMAE_evaluator.evaluate(lr_predictions))\n",
    "\n",
    "lrRMSE_evaluator = RegressionEvaluator(predictionCol=\"prediction\", \\\n",
    "                 labelCol=\"HUMAN FREEDOM (Rank)\",metricName=\"rmse\")\n",
    "print(\"Root Mean Squared Error (RMSE) = %g\" % lrRMSE_evaluator.evaluate(lr_predictions))"
   ]
  },
  {
   "cell_type": "code",
   "execution_count": 17,
   "metadata": {},
   "outputs": [
    {
     "name": "stdout",
     "output_type": "stream",
     "text": [
      "Coefficients: [0.0,0.0,0.0,-0.04321835487811509,0.0,0.0,-0.27777417651024777,0.0,0.0,0.0,0.0,0.0,0.0,0.6321292214730826,-0.149566600396131,0.0,0.0,0.0,-2.586347512567945,-0.13686551039838157,-0.013680486144485285,-0.0045660061668169405,-0.07362279811176987,0.0,-0.05138223756383596,-0.002049840856597456,-0.07469398932805128,0.0,0.0,-0.05497100188497124,0.40048143370904343]\n",
      "Intercept: 6.053333292585164\n"
     ]
    }
   ],
   "source": [
    "# Linear Regression on train data---I3\n",
    "#difference in regParam &maxIte\n",
    "from pyspark.ml.regression import LinearRegression\n",
    "lr = LinearRegression(featuresCol = 'features', labelCol='HUMAN FREEDOM (Rank)', maxIter=15, regParam=0.5, elasticNetParam=0.8)\n",
    "lr_model = lr.fit(train_data)\n",
    "print(\"Coefficients: \" + str(lr_model.coefficients))\n",
    "print(\"Intercept: \" + str(lr_model.intercept))"
   ]
  },
  {
   "cell_type": "code",
   "execution_count": 18,
   "metadata": {},
   "outputs": [
    {
     "name": "stdout",
     "output_type": "stream",
     "text": [
      "+------------------+--------------------+--------------------+\n",
      "|        prediction|HUMAN FREEDOM (Rank)|            features|\n",
      "+------------------+--------------------+--------------------+\n",
      "| 2.953328744240054|                   0|(31,[0,2,4,9,12,1...|\n",
      "| 2.447434222795506|                   0|(31,[0,2,4,9,12,1...|\n",
      "| 3.334651943914833|                   0|(31,[0,2,4,9,12,1...|\n",
      "|2.2154983097276344|                   0|(31,[0,2,4,9,12,1...|\n",
      "| 2.378737005888699|                   0|(31,[0,2,4,9,12,1...|\n",
      "+------------------+--------------------+--------------------+\n",
      "only showing top 5 rows\n",
      "\n",
      "R Squared (R2) = 0.98951\n",
      "Mean Absolute Error (MAE) = 3.72063\n",
      "Root Mean Squared Error (RMSE) = 4.71499\n"
     ]
    }
   ],
   "source": [
    "lr_predictions = lr_model.transform(test_data)\n",
    "lr_predictions.select(\"prediction\",\"HUMAN FREEDOM (Rank)\",\"features\").show(5)\n",
    "\n",
    "from pyspark.ml.evaluation import RegressionEvaluator\n",
    "\n",
    "lrR2_evaluator = RegressionEvaluator(predictionCol=\"prediction\", \\\n",
    "                 labelCol=\"HUMAN FREEDOM (Rank)\",metricName=\"r2\")\n",
    "print(\"R Squared (R2) = %g\" % lrR2_evaluator.evaluate(lr_predictions))\n",
    "\n",
    "lrMAE_evaluator = RegressionEvaluator(predictionCol=\"prediction\", \\\n",
    "                 labelCol=\"HUMAN FREEDOM (Rank)\",metricName=\"mae\")\n",
    "print(\"Mean Absolute Error (MAE) = %g\" % lrMAE_evaluator.evaluate(lr_predictions))\n",
    "\n",
    "lrRMSE_evaluator = RegressionEvaluator(predictionCol=\"prediction\", \\\n",
    "                 labelCol=\"HUMAN FREEDOM (Rank)\",metricName=\"rmse\")\n",
    "print(\"Root Mean Squared Error (RMSE) = %g\" % lrRMSE_evaluator.evaluate(lr_predictions))"
   ]
  },
  {
   "cell_type": "code",
   "execution_count": 20,
   "metadata": {},
   "outputs": [
    {
     "name": "stdout",
     "output_type": "stream",
     "text": [
      "+------------------+--------------------+--------------------+\n",
      "|        prediction|HUMAN FREEDOM (Rank)|            features|\n",
      "+------------------+--------------------+--------------------+\n",
      "| 2.953328744240054|                   0|(31,[0,2,4,9,12,1...|\n",
      "| 2.447434222795506|                   0|(31,[0,2,4,9,12,1...|\n",
      "| 3.334651943914833|                   0|(31,[0,2,4,9,12,1...|\n",
      "|2.2154983097276344|                   0|(31,[0,2,4,9,12,1...|\n",
      "| 2.378737005888699|                   0|(31,[0,2,4,9,12,1...|\n",
      "|1.9601444828852745|                   0|(31,[0,2,4,9,12,1...|\n",
      "|137.42592645179292|                 136|[2008.0,3.38,6.68...|\n",
      "|122.12145025058342|                 122|[2008.0,3.5,7.984...|\n",
      "|127.83607752903153|                 128|[2008.0,3.58,9.48...|\n",
      "| 112.3792217075672|                 119|[2008.0,3.62,10.0...|\n",
      "| 82.12906008956766|                  90|[2008.0,3.7,9.0,1...|\n",
      "| 73.59996979681239|                  71|[2008.0,3.77,9.5,...|\n",
      "|121.85045101727647|                 129|[2008.0,3.88,6.74...|\n",
      "|120.64300147397438|                 124|[2008.0,4.11,5.41...|\n",
      "| 79.16120332191136|                  78|[2008.0,4.2,6.820...|\n",
      "|113.40197606266875|                 118|[2008.0,4.59,8.45...|\n",
      "| 84.44853410093543|                  91|[2008.0,4.6,8.991...|\n",
      "| 67.45260658372972|                  65|[2008.0,4.6,9.0,1...|\n",
      "|  65.9032373122585|                  59|[2008.0,4.6,9.5,1...|\n",
      "|126.37978552344622|                 123|[2008.0,4.65,9.5,...|\n",
      "+------------------+--------------------+--------------------+\n",
      "only showing top 20 rows\n",
      "\n"
     ]
    }
   ],
   "source": [
    "# Using our Linear Regression model to make some predictions.\n",
    "\n",
    "predictions = lr_model.transform(test_data)\n",
    "predictions.select(\"prediction\",\"HUMAN FREEDOM (Rank)\",\"features\").show()"
   ]
  },
  {
   "cell_type": "code",
   "execution_count": 21,
   "metadata": {},
   "outputs": [
    {
     "name": "stdout",
     "output_type": "stream",
     "text": [
      "Coefficients: [0.11540138470540937,0.6861123326181542,-0.2678733499134898,-0.4858353506801283,0.30556442607538925,0.027817982228263313,-0.3649491806387045,-0.19855966885902993,0.04337822153900211,0.055972136520043174,-0.02992561093521512,0.06583233018813646,5.263561126203077,0.7817072726161441,-0.2636123122374812,0.08426024159005013,0.17882790207957888,-0.06104485165865486,-4.502110012517984,0.02136668049390136,-0.1646083888587058,-0.04064971152244311,-0.28654610289844046,0.040685600363948346,0.21216002725850436,-0.1012529478659213,-0.08938442464486558,0.19089989905886579,0.030070119802875737,-6.6883537417264085,0.2912646322696561]\n",
      "Intercept: -221.41646093493333\n",
      "\n",
      "MAE: 3.2367101035716\n",
      "RMSE: 4.251169205294572\n",
      "R2: 0.9913027830940386\n"
     ]
    }
   ],
   "source": [
    "# Importing the LR package. ---I2\n",
    "from pyspark.ml.regression import LinearRegression\n",
    "\n",
    "# Instantiate the instance.\n",
    "lr = LinearRegression(featuresCol='features', labelCol='HUMAN FREEDOM (Rank)')\n",
    "\n",
    "# Fit the vector_output\n",
    "lr_model = lr.fit(vector_output)\n",
    "\n",
    "# Print the coefficients.\n",
    "print(\"Coefficients: \" + str(lr_model.coefficients))\n",
    "\n",
    "# Print the intercept.\n",
    "print(\"Intercept: \" + str(lr_model.intercept) + \"\\n\")\n",
    "\n",
    "# Summarise the model and print out some evaluation metrics.\n",
    "vdf3_Summary = lr_model.summary\n",
    "\n",
    "# Print MAE (Mean Absolute Error)\n",
    "print(\"MAE: \" + str(vdf3_Summary.meanAbsoluteError))\n",
    "\n",
    "# Print RMSE (Root Mean Squared Error) \n",
    "print(\"RMSE: \" + str(vdf3_Summary.rootMeanSquaredError))\n",
    "\n",
    "# Print R2 (R Squarred)\n",
    "print(\"R2: \" + str(vdf3_Summary.r2))"
   ]
  },
  {
   "cell_type": "code",
   "execution_count": 22,
   "metadata": {},
   "outputs": [
    {
     "name": "stdout",
     "output_type": "stream",
     "text": [
      "+-------+--------------------+\n",
      "|summary|HUMAN FREEDOM (Rank)|\n",
      "+-------+--------------------+\n",
      "|  count|                1569|\n",
      "|   mean|   75.75780752071383|\n",
      "| stddev|   45.59914326627794|\n",
      "|    min|                   0|\n",
      "|    max|                 162|\n",
      "+-------+--------------------+\n",
      "\n"
     ]
    }
   ],
   "source": [
    "vector_output.describe().show()"
   ]
  },
  {
   "cell_type": "code",
   "execution_count": 23,
   "metadata": {},
   "outputs": [
    {
     "name": "stdout",
     "output_type": "stream",
     "text": [
      "+------------------+--------------------+--------------------+\n",
      "|        prediction|HUMAN FREEDOM (Rank)|            features|\n",
      "+------------------+--------------------+--------------------+\n",
      "| 35.51632876285382|                  38|[2017.0,5.2917516...|\n",
      "|162.21448558672367|                 155|[2017.0,3.7960803...|\n",
      "| 142.5681375057687|                 151|[2017.0,3.4119028...|\n",
      "| 82.33736360342365|                  77|[2017.0,5.7447910...|\n",
      "| 51.28203368761237|                  54|[2017.0,4.9326094...|\n",
      "+------------------+--------------------+--------------------+\n",
      "only showing top 5 rows\n",
      "\n",
      "R Squared (R2) = 0.991303\n",
      "Mean Absolute Error (MAE) = 3.23671\n",
      "Root Mean Squared Error (RMSE) = 4.25117\n"
     ]
    }
   ],
   "source": [
    "# Linear Regression model \n",
    "\n",
    "lr_predictions = lr_model.transform(vector_output)\n",
    "lr_predictions.select(\"prediction\",\"HUMAN FREEDOM (Rank)\",\"features\").show(5)\n",
    "from pyspark.ml.evaluation import RegressionEvaluator\n",
    "\n",
    "lrR2_evaluator = RegressionEvaluator(predictionCol=\"prediction\", \\\n",
    "                 labelCol=\"HUMAN FREEDOM (Rank)\",metricName=\"r2\")\n",
    "print(\"R Squared (R2) = %g\" % lrR2_evaluator.evaluate(lr_predictions))\n",
    "\n",
    "lrMAE_evaluator = RegressionEvaluator(predictionCol=\"prediction\", \\\n",
    "                 labelCol=\"HUMAN FREEDOM (Rank)\",metricName=\"mae\")\n",
    "print(\"Mean Absolute Error (MAE) = %g\" % lrMAE_evaluator.evaluate(lr_predictions))\n",
    "\n",
    "lrRMSE_evaluator = RegressionEvaluator(predictionCol=\"prediction\", \\\n",
    "                 labelCol=\"HUMAN FREEDOM (Rank)\",metricName=\"rmse\")\n",
    "print(\"Root Mean Squared Error (RMSE) = %g\" % lrRMSE_evaluator.evaluate(lr_predictions))"
   ]
  },
  {
   "cell_type": "code",
   "execution_count": 24,
   "metadata": {},
   "outputs": [
    {
     "data": {
      "text/plain": [
       "<matplotlib.axes._subplots.AxesSubplot at 0x7f5173f419e8>"
      ]
     },
     "execution_count": 24,
     "metadata": {},
     "output_type": "execute_result"
    },
    {
     "data": {
      "image/png": "[encoded data removed]",
      "text/plain": [
       "<Figure size 432x288 with 1 Axes>"
      ]
     },
     "metadata": {},
     "output_type": "display_data"
    }
   ],
   "source": [
    "# Convert the Pyspark contructed dataframe to Pandas dataframe to visualize\n",
    "lr_predictionsPandas = lr_predictions.toPandas()\n",
    "\n",
    "plt.style.use('Solarize_Light2')\n",
    "lr_predictionsPandas.plot(x=\"HUMAN FREEDOM (Rank)\" ,y='prediction')"
   ]
  },
  {
   "cell_type": "code",
   "execution_count": 25,
   "metadata": {},
   "outputs": [
    {
     "name": "stdout",
     "output_type": "stream",
     "text": [
      "+-------+--------------------+-------------------+\n",
      "|summary|HUMAN FREEDOM (Rank)|         prediction|\n",
      "+-------+--------------------+-------------------+\n",
      "|  count|                1569|               1569|\n",
      "|   mean|   75.75780752071383|  75.75780752071385|\n",
      "| stddev|   45.59914326627794|   45.4004174123533|\n",
      "|    min|                   0|-3.4880485366292078|\n",
      "|    max|                 162| 174.37495033849646|\n",
      "+-------+--------------------+-------------------+\n",
      "\n"
     ]
    }
   ],
   "source": [
    "lr_predictions.describe().show()"
   ]
  },
  {
   "cell_type": "code",
   "execution_count": 26,
   "metadata": {},
   "outputs": [
    {
     "name": "stdout",
     "output_type": "stream",
     "text": [
      "+--------------------+--------------------+------------------+\n",
      "|            features|HUMAN FREEDOM (Rank)|        prediction|\n",
      "+--------------------+--------------------+------------------+\n",
      "|[2017.0,5.2917516...|                  38| 35.51632876285382|\n",
      "|[2017.0,3.7960803...|                 155|162.21448558672367|\n",
      "|[2017.0,3.4119028...|                 151| 142.5681375057687|\n",
      "|[2017.0,5.7447910...|                  77| 82.33736360342365|\n",
      "|[2017.0,4.9326094...|                  54| 51.28203368761237|\n",
      "|[2017.0,7.7762787...|                   5| 6.857864998503004|\n",
      "|[2017.0,8.1717488...|                  13| 12.03636569148486|\n",
      "|[2017.0,4.2912703...|                 121|120.93160281090022|\n",
      "|[2017.0,6.4007902...|                  48| 46.98011652315458|\n",
      "|[2017.0,5.8980375...|                  95|100.84912419573917|\n",
      "|[2017.0,3.1328924...|                 138|137.08089058013255|\n",
      "|[2017.0,6.6992874...|                  66| 75.93975032477809|\n",
      "|[2017.0,5.1289249...|                  92| 92.34371955082034|\n",
      "|[2017.0,7.7511009...|                  23| 20.59975762390434|\n",
      "|[2017.0,4.2688720...|                  68| 75.83205418154674|\n",
      "|[2017.0,4.1803094...|                  85|  86.5852478288443|\n",
      "|[2017.0,6.1878977...|                 105|103.37010835247881|\n",
      "|[2017.0,3.0514018...|                  97|  94.7959974730804|\n",
      "|[2017.0,5.4700803...|                  55|59.877249648789444|\n",
      "|[2017.0,5.6416839...|                  60| 65.13283405170486|\n",
      "+--------------------+--------------------+------------------+\n",
      "only showing top 20 rows\n",
      "\n"
     ]
    }
   ],
   "source": [
    "lr_predictions.show()"
   ]
  },
  {
   "cell_type": "code",
   "execution_count": 27,
   "metadata": {},
   "outputs": [
    {
     "name": "stdout",
     "output_type": "stream",
     "text": [
      "+-------+--------------------+\n",
      "|summary|HUMAN FREEDOM (Rank)|\n",
      "+-------+--------------------+\n",
      "|  count|                1243|\n",
      "|   mean|   75.09734513274336|\n",
      "| stddev|   45.46075815908157|\n",
      "|    min|                   0|\n",
      "|    max|                 162|\n",
      "+-------+--------------------+\n",
      "\n"
     ]
    }
   ],
   "source": [
    "train_data.describe().show()"
   ]
  },
  {
   "cell_type": "code",
   "execution_count": 28,
   "metadata": {},
   "outputs": [
    {
     "name": "stdout",
     "output_type": "stream",
     "text": [
      "RMSE on test data: 4.400142077363856\n",
      "R2 on test data: 0.9908642568221222\n"
     ]
    }
   ],
   "source": [
    "test_results = lr_model.evaluate(test_data)\n",
    "print(\"RMSE on test data: \" + str(test_results.rootMeanSquaredError))\n",
    "print(\"R2 on test data: \" + str(test_results.r2))"
   ]
  },
  {
   "cell_type": "code",
   "execution_count": null,
   "metadata": {},
   "outputs": [],
   "source": []
  }
 ],
 "metadata": {
  "kernelspec": {
   "display_name": "Python 3",
   "language": "python",
   "name": "python3"
  },
  "language_info": {
   "codemirror_mode": {
    "name": "ipython",
    "version": 3
   },
   "file_extension": ".py",
   "mimetype": "text/x-python",
   "name": "python",
   "nbconvert_exporter": "python",
   "pygments_lexer": "ipython3",
   "version": "3.5.2"
  }
 },
 "nbformat": 4,
 "nbformat_minor": 2
}
