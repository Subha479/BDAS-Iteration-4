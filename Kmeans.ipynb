{
 "cells": [
  {
   "cell_type": "code",
   "execution_count": 3,
   "metadata": {},
   "outputs": [],
   "source": [
    "# Must be included at the beginning of each new notebook. Remember to change the app name.\n",
    "import findspark\n",
    "findspark.init('/home/ubuntu/spark-2.1.1-bin-hadoop2.7')\n",
    "import pyspark\n",
    "import pyspark.sql.functions as F\n",
    "import pyspark.sql.types as T\n",
    "from pyspark.sql import SparkSession\n",
    "spark = SparkSession.builder.appName('kmeans1').getOrCreate()\n"
   ]
  },
  {
   "cell_type": "code",
   "execution_count": 4,
   "metadata": {},
   "outputs": [],
   "source": [
    "# Import VectorAssembler and Vectors\n",
    "from pyspark.ml.linalg import Vectors\n",
    "from pyspark.ml.feature import VectorAssembler"
   ]
  },
  {
   "cell_type": "code",
   "execution_count": 5,
   "metadata": {},
   "outputs": [],
   "source": [
    "df = spark.read.load(\"./finalEdited-HumanHappiness-BDAS-mining.csv\", format=\"csv\", header=True, inferSchema=True)"
   ]
  },
  {
   "cell_type": "markdown",
   "metadata": {},
   "source": [
    "# vector Assembler"
   ]
  },
  {
   "cell_type": "code",
   "execution_count": 6,
   "metadata": {},
   "outputs": [],
   "source": [
    "# The input columns are the feature column names, and the output column is what you'd like the new column to be named. \n",
    "assembler = VectorAssembler(\n",
    "    inputCols=['Year',\n",
    " 'Rule of Law',\n",
    " 'Disappearances, Conflicts, and Terrorism',\n",
    " 'Women Security & Safety',\n",
    " 'Security & Safety',\n",
    " 'Women Movement',\n",
    " 'Movement',\n",
    " 'Legal and Regulatory Restrictions',\n",
    " 'State Control over Internet Access',\n",
    " 'Expression & Information',\n",
    " 'Same Sex Relationships',\n",
    " 'Divorce',\n",
    " 'PERSONAL FREEDOM (Score)',\n",
    " 'PERSONAL FREEDOM (Rank)',\n",
    " 'Government  enterprises and investment',\n",
    " 'Top marginal income tax rate',\n",
    " 'Legal enforcement of contracts',\n",
    " 'Reliability of police',\n",
    " 'Gender Legal Rights Adjustment',\n",
    " 'Money growth',\n",
    " 'Inflation: Most recent year',\n",
    " 'Compliance costs of importing and exporting',\n",
    " 'Regulatory trade barriers',\n",
    " 'Foreign ownership/investment restrictions',\n",
    " 'Freedom to trade internationally',\n",
    " 'Hiring regulations and minimum wage',\n",
    " 'Labour market regulations',\n",
    " 'Licensing restrictions',\n",
    " 'Business regulations',\n",
    " 'ECONOMIC FREEDOM (Score)',\n",
    " 'ECONOMIC FREEDOM (Rank)'],\n",
    "    outputCol=\"features\")"
   ]
  },
  {
   "cell_type": "code",
   "execution_count": 7,
   "metadata": {},
   "outputs": [],
   "source": [
    "# Now that we've created the assembler variable, let's actually transform the data.\n",
    "output = assembler.transform(df)"
   ]
  },
  {
   "cell_type": "code",
   "execution_count": 8,
   "metadata": {},
   "outputs": [
    {
     "name": "stdout",
     "output_type": "stream",
     "text": [
      "+----+---------+--------------------------+---------------------+--------------------+------------------------+-----------+----------------------------------------+-----------------------+-----------------+--------------+-----------+---------------------------------+----------------------------------+------------------------+----------------------+-------+------------------------+-----------------------+--------------------------------------+----------------------------+------------------------------+---------------------+------------------------------+------------+---------------------------+-------------------------------------------+-------------------------+-----------------------------------------+--------------------------------+-----------------------------------+-------------------------+----------------------+--------------------+------------------------+-----------------------+-----------------------------------------------------------------------------------------------------------------------------------------------------------------------------------------------------------------------------------------------------------------------------------------------+\n",
      "|Year|Countries|Region                    |HUMAN FREEDOM (Score)|HUMAN FREEDOM (Rank)|HUMAN FREEDOM (Quartile)|Rule of Law|Disappearances, Conflicts, and Terrorism|Women Security & Safety|Security & Safety|Women Movement|Movement   |Legal and Regulatory Restrictions|State Control over Internet Access|Expression & Information|Same Sex Relationships|Divorce|PERSONAL FREEDOM (Score)|PERSONAL FREEDOM (Rank)|Government  enterprises and investment|Top marginal income tax rate|Legal enforcement of contracts|Reliability of police|Gender Legal Rights Adjustment|Money growth|Inflation: Most recent year|Compliance costs of importing and exporting|Regulatory trade barriers|Foreign ownership/investment restrictions|Freedom to trade internationally|Hiring regulations and minimum wage|Labour market regulations|Licensing restrictions|Business regulations|ECONOMIC FREEDOM (Score)|ECONOMIC FREEDOM (Rank)|features                                                                                                                                                                                                                                                                                       |\n",
      "+----+---------+--------------------------+---------------------+--------------------+------------------------+-----------+----------------------------------------+-----------------------+-----------------+--------------+-----------+---------------------------------+----------------------------------+------------------------+----------------------+-------+------------------------+-----------------------+--------------------------------------+----------------------------+------------------------------+---------------------+------------------------------+------------+---------------------------+-------------------------------------------+-------------------------+-----------------------------------------+--------------------------------+-----------------------------------+-------------------------+----------------------+--------------------+------------------------+-----------------------+-----------------------------------------------------------------------------------------------------------------------------------------------------------------------------------------------------------------------------------------------------------------------------------------------+\n",
      "|2017|Albania  |Eastern Europe            |7.84                 |38                  |1                       |5.291751647|10.0                                    |8.75                   |9.276666667      |10.0          |10.0       |8.011111111                      |10.0                              |8.607142857             |10                    |7.5    |8.005411457             |46                     |8                                     |9                           |4.387444055                   |6.824168762          |0.9524                        |9.253087019 |9.601214379                |9.405327776                                |7.706503738              |6.306105852                              |8.343862962                     |5.566666667                        |6.938448195              |6.031964728           |6.652097679         |7.67                    |30                     |[2017.0,5.291751647,10.0,8.75,9.276666667,10.0,10.0,8.011111111,10.0,8.607142857,10.0,7.5,8.005411457,46.0,8.0,9.0,4.387444055,6.824168762,0.9524,9.253087019,9.601214379,9.405327776,7.706503738,6.306105852,8.343862962,5.566666667,6.938448195,6.031964728,6.652097679,7.67,30.0]           |\n",
      "|2017|Algeria  |Middle East & North Africa|4.99                 |155                 |4                       |3.79608038 |8.865434414                             |5.0                    |7.773896003      |2.5           |5.833333333|2.961111111                      |7.5                               |7.311802542             |0                     |0.0    |5.201489165             |146                    |0                                     |7                           |4.392091659                   |6.101120313          |0.8333                        |6.989729298 |8.881776818                |0.473372781                                |2.623042784              |3.664828738                              |2.774951125                     |5.566666667                        |5.418019148              |8.687187496           |5.715304296         |4.77                    |159                    |[2017.0,3.79608038,8.865434414,5.0,7.773896003,2.5,5.833333333,2.961111111,7.5,7.311802542,0.0,0.0,5.201489165,146.0,0.0,7.0,4.392091659,6.101120313,0.8333,6.989729298,8.881776818,0.473372781,2.623042784,3.664828738,2.774951125,5.566666667,5.418019148,8.687187496,5.715304296,4.77,159.0]|\n",
      "+----+---------+--------------------------+---------------------+--------------------+------------------------+-----------+----------------------------------------+-----------------------+-----------------+--------------+-----------+---------------------------------+----------------------------------+------------------------+----------------------+-------+------------------------+-----------------------+--------------------------------------+----------------------------+------------------------------+---------------------+------------------------------+------------+---------------------------+-------------------------------------------+-------------------------+-----------------------------------------+--------------------------------+-----------------------------------+-------------------------+----------------------+--------------------+------------------------+-----------------------+-----------------------------------------------------------------------------------------------------------------------------------------------------------------------------------------------------------------------------------------------------------------------------------------------+\n",
      "only showing top 2 rows\n",
      "\n"
     ]
    }
   ],
   "source": [
    "output.show(2, truncate=False)"
   ]
  },
  {
   "cell_type": "markdown",
   "metadata": {},
   "source": [
    "# StandardScaler"
   ]
  },
  {
   "cell_type": "code",
   "execution_count": 9,
   "metadata": {},
   "outputs": [],
   "source": [
    "from pyspark.ml.feature import VectorAssembler, StandardScaler\n",
    "standard_scaler = StandardScaler(inputCol=\"features\", outputCol=\"scaled\")"
   ]
  },
  {
   "cell_type": "code",
   "execution_count": 10,
   "metadata": {},
   "outputs": [],
   "source": [
    "train = standard_scaler.fit(output).transform(output)"
   ]
  },
  {
   "cell_type": "code",
   "execution_count": 11,
   "metadata": {},
   "outputs": [
    {
     "name": "stdout",
     "output_type": "stream",
     "text": [
      "+---------------------------------------------------------------------------------------------------------------------------------------------------------------------------------------------------------------------------------------------------------------------------------------------------------------------------------------------------------------------------------------------------------------------------------------------------------------------------------------------------------------------------------------------------------------------------------------+\n",
      "|scaled                                                                                                                                                                                                                                                                                                                                                                                                                                                                                                                                                                                 |\n",
      "+---------------------------------------------------------------------------------------------------------------------------------------------------------------------------------------------------------------------------------------------------------------------------------------------------------------------------------------------------------------------------------------------------------------------------------------------------------------------------------------------------------------------------------------------------------------------------------------+\n",
      "|[706.8554430098237,3.117780586847438,5.128996223657399,3.431997065933765,5.243619978491513,2.8008620135872753,3.567361506692918,3.770726240686915,2.5067292723084567,4.853400989169869,2.410500795287759,2.027081300281675,4.824324510050712,1.0085121503488699,2.526119027463664,3.268480088004444,2.4812543948835697,2.803142409254238,6.975908079624603,8.919217864231474,6.766355470550336,3.350621079266912,3.9791816801144217,3.078843577527503,5.911893943834013,1.8857993314364514,4.126206054640887,2.7755662778024073,4.456060683908219,6.484735014920543,0.6579588814598905]|\n",
      "|[706.8554430098237,2.2365648474047606,4.547077963048834,1.96114118053358,4.394181429096089,0.7002155033968188,2.0809608787852896,1.393756647876967,1.8800469542313425,4.122983698486737,0.0,0.0,3.1345886219915147,3.200929868498587,0.0,2.5421511795590117,2.483882778905364,2.5061380645458295,6.103553341821905,6.737526437701354,6.259339369833007,0.16863769728654268,1.3543837967381427,1.7892871904696859,1.9661416810218797,1.8857993314364514,3.2220264220965134,3.9973484179903407,3.828528082258388,4.032879533399085,3.48718207173742]                                     |\n",
      "+---------------------------------------------------------------------------------------------------------------------------------------------------------------------------------------------------------------------------------------------------------------------------------------------------------------------------------------------------------------------------------------------------------------------------------------------------------------------------------------------------------------------------------------------------------------------------------------+\n",
      "only showing top 2 rows\n",
      "\n"
     ]
    }
   ],
   "source": [
    "train.select(\"scaled\").show(2, truncate=False)"
   ]
  },
  {
   "cell_type": "code",
   "execution_count": 12,
   "metadata": {},
   "outputs": [],
   "source": [
    "scalerModel = standard_scaler.fit(output)"
   ]
  },
  {
   "cell_type": "code",
   "execution_count": 13,
   "metadata": {},
   "outputs": [],
   "source": [
    "# Normalize each feature to have unit standard deviation.\n",
    "cluster_final_data = scalerModel.transform(output)"
   ]
  },
  {
   "cell_type": "code",
   "execution_count": 14,
   "metadata": {},
   "outputs": [],
   "source": [
    "from pyspark.sql import SparkSession\n",
    "spark = SparkSession.builder.appName('find_hacker').getOrCreate()\n",
    "from pyspark.ml.clustering import KMeans"
   ]
  },
  {
   "cell_type": "code",
   "execution_count": 15,
   "metadata": {},
   "outputs": [],
   "source": [
    "kmeans3 = KMeans(featuresCol='scaled',k=3)\n",
    "kmeans2 = KMeans(featuresCol='scaled',k=2)\n",
    "kmeans4 = KMeans(featuresCol='scaled',k=4)\n",
    "kmeans5 = KMeans(featuresCol='scaled',k=5)"
   ]
  },
  {
   "cell_type": "code",
   "execution_count": 16,
   "metadata": {},
   "outputs": [],
   "source": [
    "model_k3 = kmeans3.fit(cluster_final_data)\n",
    "model_k2 = kmeans2.fit(cluster_final_data)\n",
    "model_k4 = kmeans4.fit(cluster_final_data)\n",
    "model_k5 = kmeans5.fit(cluster_final_data)"
   ]
  },
  {
   "cell_type": "code",
   "execution_count": 17,
   "metadata": {},
   "outputs": [],
   "source": [
    "wssse_k3 = model_k3.computeCost(cluster_final_data)\n",
    "wssse_k2 = model_k2.computeCost(cluster_final_data)\n",
    "wssse_k4 = model_k4.computeCost(cluster_final_data)\n",
    "wssse_k5 = model_k5.computeCost(cluster_final_data)"
   ]
  },
  {
   "cell_type": "code",
   "execution_count": 28,
   "metadata": {},
   "outputs": [
    {
     "name": "stdout",
     "output_type": "stream",
     "text": [
      "With K=3\n",
      "Within Set Sum of Squared Errors = 30424.831201529385\n",
      "------------------------------------------------------------\n",
      "With K=2\n",
      "Within Set Sum of Squared Errors = 37088.31139936291\n",
      "------------------------------------------------------------\n",
      "With K=4\n",
      "Within Set Sum of Squared Errors = 27325.001510417664\n",
      "------------------------------------------------------------\n",
      "With K=5\n",
      "Within Set Sum of Squared Errors = 25040.35169856845\n"
     ]
    }
   ],
   "source": [
    "print(\"With K=3\")\n",
    "print(\"Within Set Sum of Squared Errors = \" + str(wssse_k3))\n",
    "print('--'*30)\n",
    "print(\"With K=2\")\n",
    "print(\"Within Set Sum of Squared Errors = \" + str(wssse_k2))\n",
    "print('--'*30)\n",
    "print(\"With K=4\")\n",
    "print(\"Within Set Sum of Squared Errors = \" + str(wssse_k4))\n",
    "print('--'*30)\n",
    "print(\"With K=5\")\n",
    "print(\"Within Set Sum of Squared Errors = \" + str(wssse_k5))"
   ]
  },
  {
   "cell_type": "code",
   "execution_count": 19,
   "metadata": {},
   "outputs": [
    {
     "name": "stdout",
     "output_type": "stream",
     "text": [
      "With K=2\n",
      "Within Set Sum of Squared Errors = 37088.31139936291\n",
      "------------------------------------------------------------\n",
      "With K=3\n",
      "Within Set Sum of Squared Errors = 30424.831201529385\n",
      "------------------------------------------------------------\n",
      "With K=4\n",
      "Within Set Sum of Squared Errors = 27325.001510417664\n",
      "------------------------------------------------------------\n",
      "With K=5\n",
      "Within Set Sum of Squared Errors = 25040.35169856845\n",
      "------------------------------------------------------------\n",
      "With K=6\n",
      "Within Set Sum of Squared Errors = 24171.434321481815\n",
      "------------------------------------------------------------\n",
      "With K=7\n",
      "Within Set Sum of Squared Errors = 23309.555882499706\n",
      "------------------------------------------------------------\n",
      "With K=8\n",
      "Within Set Sum of Squared Errors = 22588.624274133326\n",
      "------------------------------------------------------------\n",
      "With K=9\n",
      "Within Set Sum of Squared Errors = 21866.685797117418\n",
      "------------------------------------------------------------\n"
     ]
    }
   ],
   "source": [
    "for k in range(2,10):\n",
    "    kmeans = KMeans(featuresCol='scaled',k=k)\n",
    "    model = kmeans.fit(cluster_final_data)\n",
    "    wssse = model.computeCost(cluster_final_data)\n",
    "    print(\"With K={}\".format(k))\n",
    "    print(\"Within Set Sum of Squared Errors = \" + str(wssse))\n",
    "    print('--'*30)"
   ]
  },
  {
   "cell_type": "code",
   "execution_count": 20,
   "metadata": {},
   "outputs": [
    {
     "name": "stdout",
     "output_type": "stream",
     "text": [
      "+----------+-----+\n",
      "|prediction|count|\n",
      "+----------+-----+\n",
      "|         1|  667|\n",
      "|         2|   32|\n",
      "|         0|  870|\n",
      "+----------+-----+\n",
      "\n"
     ]
    }
   ],
   "source": [
    "model_k3.transform(cluster_final_data).groupBy('prediction').count().show()"
   ]
  },
  {
   "cell_type": "code",
   "execution_count": 21,
   "metadata": {},
   "outputs": [
    {
     "name": "stdout",
     "output_type": "stream",
     "text": [
      "+----------+-----+\n",
      "|prediction|count|\n",
      "+----------+-----+\n",
      "|         1|  793|\n",
      "|         0|  776|\n",
      "+----------+-----+\n",
      "\n"
     ]
    }
   ],
   "source": [
    "model_k2.transform(cluster_final_data).groupBy('prediction').count().show()"
   ]
  },
  {
   "cell_type": "code",
   "execution_count": 22,
   "metadata": {},
   "outputs": [
    {
     "name": "stdout",
     "output_type": "stream",
     "text": [
      "+----------+-----+\n",
      "|prediction|count|\n",
      "+----------+-----+\n",
      "|         1|  471|\n",
      "|         3|  441|\n",
      "|         2|   32|\n",
      "|         0|  625|\n",
      "+----------+-----+\n",
      "\n"
     ]
    }
   ],
   "source": [
    "model_k4.transform(cluster_final_data).groupBy('prediction').count().show()"
   ]
  },
  {
   "cell_type": "code",
   "execution_count": 23,
   "metadata": {},
   "outputs": [
    {
     "name": "stdout",
     "output_type": "stream",
     "text": [
      "+----------+-----+\n",
      "|prediction|count|\n",
      "+----------+-----+\n",
      "|         1|  468|\n",
      "|         3|  155|\n",
      "|         4|  621|\n",
      "|         2|   32|\n",
      "|         0|  293|\n",
      "+----------+-----+\n",
      "\n"
     ]
    }
   ],
   "source": [
    "model_k5.transform(cluster_final_data).groupBy('prediction').count().show()"
   ]
  },
  {
   "cell_type": "code",
   "execution_count": 29,
   "metadata": {},
   "outputs": [],
   "source": [
    "# Training a k-means model for cluster=5... we will do below steps for which this model fits best.\n",
    "kmeans5 = KMeans(featuresCol='scaled',k=5)\n",
    "model = kmeans5.fit(cluster_final_data)"
   ]
  },
  {
   "cell_type": "code",
   "execution_count": 30,
   "metadata": {},
   "outputs": [
    {
     "name": "stdout",
     "output_type": "stream",
     "text": [
      "Cluster Centers: \n",
      "[705.36243466   2.16293188   3.64369963   2.227037     3.71313739\n",
      "   1.56349489   1.82440406   3.23609883   1.4965975    3.82989334\n",
      "   0.98236163   1.29816508   3.3413114    2.83715371   1.38201204\n",
      "   2.19391129   1.75576456   1.19505937   5.67606167   7.86962824\n",
      "   5.74621623   1.24878615   2.04945155   1.78668491   3.90382065\n",
      "   1.76630298   3.26115979   3.00177986   3.3713686    4.68307871\n",
      "   2.95751015]\n",
      "[7.05294148e+02 4.18291192e+00 5.01619481e+00 3.81856816e+00\n",
      " 5.40903205e+00 2.71857173e+00 3.43968350e+00 3.43784534e+00\n",
      " 2.37683999e+00 5.17503755e+00 2.34096712e+00 2.57572154e+00\n",
      " 5.27977090e+00 5.63985404e-01 2.61045794e+00 2.37531281e+00\n",
      " 3.07980457e+00 2.93642758e+00 7.17811523e+00 8.62210767e+00\n",
      " 6.72690337e+00 3.14145991e+00 3.97531817e+00 3.31071306e+00\n",
      " 5.73216322e+00 2.22053619e+00 4.05058395e+00 3.80560514e+00\n",
      " 4.87358726e+00 6.51373021e+00 5.93147120e-01]\n",
      "[7.04478961e+02 0.00000000e+00 4.66095035e-01 0.00000000e+00\n",
      " 5.17205051e-01 0.00000000e+00 0.00000000e+00 0.00000000e+00\n",
      " 0.00000000e+00 4.38402468e-01 0.00000000e+00 0.00000000e+00\n",
      " 3.75215906e-01 0.00000000e+00 0.00000000e+00 0.00000000e+00\n",
      " 0.00000000e+00 0.00000000e+00 6.69066216e+00 6.50211238e+00\n",
      " 3.44089605e+00 0.00000000e+00 0.00000000e+00 0.00000000e+00\n",
      " 7.28759670e-01 0.00000000e+00 9.85775030e-02 0.00000000e+00\n",
      " 3.19469268e-01 1.10376458e+00 0.00000000e+00]\n",
      "[7.05440169e+02 3.12717251e+00 4.55102183e+00 2.18755242e+00\n",
      " 4.35038808e+00 1.27475130e+00 1.87515156e+00 2.78438712e+00\n",
      " 1.11142377e+00 3.45883991e+00 6.02625199e-01 5.37089917e-01\n",
      " 3.43537178e+00 2.80629468e+00 1.42296609e+00 3.23123245e+00\n",
      " 2.52540181e+00 2.73721157e+00 5.02060276e+00 8.59100776e+00\n",
      " 6.44799371e+00 2.54680937e+00 3.39312103e+00 2.95949132e+00\n",
      " 5.13790373e+00 3.06930997e+00 4.38516424e+00 4.02659975e+00\n",
      " 4.69140249e+00 5.79605845e+00 1.72348674e+00]\n",
      "[705.30184263   2.74963047   4.58180859   3.30918099   4.41864476\n",
      "   2.24722947   3.01205564   3.51452224   1.57023782   4.41467412\n",
      "   1.98934244   2.24904833   4.2763179    1.74471967   1.86916537\n",
      "   2.8421566    2.33930277   1.79152417   6.71687619   8.2494225\n",
      "   6.1772802    2.20817778   3.01359231   2.64530574   4.93095709\n",
      "   2.0857133    3.77919858   3.42894246   4.05157759   5.65768818\n",
      "   1.925033  ]\n"
     ]
    }
   ],
   "source": [
    "centers = model.clusterCenters()\n",
    "print(\"Cluster Centers: \")\n",
    "for center in centers:\n",
    "    print(center)"
   ]
  },
  {
   "cell_type": "code",
   "execution_count": 31,
   "metadata": {},
   "outputs": [
    {
     "name": "stdout",
     "output_type": "stream",
     "text": [
      "+----------+\n",
      "|prediction|\n",
      "+----------+\n",
      "|         1|\n",
      "|         0|\n",
      "|         0|\n",
      "|         4|\n",
      "|         1|\n",
      "|         1|\n",
      "|         1|\n",
      "|         3|\n",
      "|         4|\n",
      "|         3|\n",
      "|         0|\n",
      "|         4|\n",
      "|         4|\n",
      "|         1|\n",
      "|         4|\n",
      "|         4|\n",
      "|         3|\n",
      "|         4|\n",
      "|         4|\n",
      "|         3|\n",
      "+----------+\n",
      "only showing top 20 rows\n",
      "\n"
     ]
    }
   ],
   "source": [
    "model.transform(cluster_final_data).select('prediction').show()"
   ]
  },
  {
   "cell_type": "code",
   "execution_count": null,
   "metadata": {},
   "outputs": [],
   "source": []
  }
 ],
 "metadata": {
  "kernelspec": {
   "display_name": "Python 3",
   "language": "python",
   "name": "python3"
  },
  "language_info": {
   "codemirror_mode": {
    "name": "ipython",
    "version": 3
   },
   "file_extension": ".py",
   "mimetype": "text/x-python",
   "name": "python",
   "nbconvert_exporter": "python",
   "pygments_lexer": "ipython3",
   "version": "3.5.2"
  }
 },
 "nbformat": 4,
 "nbformat_minor": 2
}
