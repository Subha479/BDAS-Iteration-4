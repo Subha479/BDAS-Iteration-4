{
 "cells": [
  {
   "cell_type": "code",
   "execution_count": 3,
   "metadata": {},
   "outputs": [],
   "source": [
    "# Must be included at the beginning of each new notebook. Remember to change the app name.\n",
    "import findspark\n",
    "findspark.init('/home/ubuntu/spark-2.1.1-bin-hadoop2.7')\n",
    "import pyspark\n",
    "import pyspark.sql.functions as F\n",
    "import pyspark.sql.types as T\n",
    "from pyspark.sql import SparkSession\n",
    "spark = SparkSession.builder.appName('kmeans1').getOrCreate()\n"
   ]
  },
  {
   "cell_type": "code",
   "execution_count": 4,
   "metadata": {},
   "outputs": [],
   "source": [
    "# Import VectorAssembler and Vectors\n",
    "from pyspark.ml.linalg import Vectors\n",
    "from pyspark.ml.feature import VectorAssembler"
   ]
  },
  {
   "cell_type": "code",
   "execution_count": 5,
   "metadata": {},
   "outputs": [],
   "source": [
    "df = spark.read.load(\"./finalEdited-HumanHappiness-BDAS-mining.csv\", format=\"csv\", header=True, inferSchema=True)"
   ]
  },
  {
   "cell_type": "markdown",
   "metadata": {},
   "source": [
    "# vector Assembler"
   ]
  },
  {
   "cell_type": "code",
   "execution_count": 6,
   "metadata": {},
   "outputs": [],
   "source": [
    "# The input columns are the feature column names, and the output column is what you'd like the new column to be named. \n",
    "assembler = VectorAssembler(\n",
    "    inputCols=['Year',\n",
    " 'Rule of Law',\n",
    " 'Disappearances, Conflicts, and Terrorism',\n",
    " 'Women Security & Safety',\n",
    " 'Security & Safety',\n",
    " 'Women Movement',\n",
    " 'Movement',\n",
    " 'Legal and Regulatory Restrictions',\n",
    " 'State Control over Internet Access',\n",
    " 'Expression & Information',\n",
    " 'Same Sex Relationships',\n",
    " 'Divorce',\n",
    " 'PERSONAL FREEDOM (Score)',\n",
    " 'PERSONAL FREEDOM (Rank)',\n",
    " 'Government  enterprises and investment',\n",
    " 'Top marginal income tax rate',\n",
    " 'Legal enforcement of contracts',\n",
    " 'Reliability of police',\n",
    " 'Gender Legal Rights Adjustment',\n",
    " 'Money growth',\n",
    " 'Inflation: Most recent year',\n",
    " 'Compliance costs of importing and exporting',\n",
    " 'Regulatory trade barriers',\n",
    " 'Foreign ownership/investment restrictions',\n",
    " 'Freedom to trade internationally',\n",
    " 'Hiring regulations and minimum wage',\n",
    " 'Labour market regulations',\n",
    " 'Licensing restrictions',\n",
    " 'Business regulations',\n",
    " 'ECONOMIC FREEDOM (Score)',\n",
    " 'ECONOMIC FREEDOM (Rank)'],\n",
    "    outputCol=\"features\")"
   ]
  },
  {
   "cell_type": "code",
   "execution_count": 7,
   "metadata": {},
   "outputs": [],
   "source": [
    "# Now that we've created the assembler variable, let's actually transform the data.\n",
    "output = assembler.transform(df)"
   ]
  },
  {
   "cell_type": "code",
   "execution_count": 8,
   "metadata": {},
   "outputs": [
    {
     "name": "stdout",
     "output_type": "stream",
     "text": [
      "+----+---------+--------------------------+---------------------+--------------------+------------------------+-----------+----------------------------------------+-----------------------+-----------------+--------------+-----------+---------------------------------+----------------------------------+------------------------+----------------------+-------+------------------------+-----------------------+--------------------------------------+----------------------------+------------------------------+---------------------+------------------------------+------------+---------------------------+-------------------------------------------+-------------------------+-----------------------------------------+--------------------------------+-----------------------------------+-------------------------+----------------------+--------------------+------------------------+-----------------------+-----------------------------------------------------------------------------------------------------------------------------------------------------------------------------------------------------------------------------------------------------------------------------------------------+\n",
      "|Year|Countries|Region                    |HUMAN FREEDOM (Score)|HUMAN FREEDOM (Rank)|HUMAN FREEDOM (Quartile)|Rule of Law|Disappearances, Conflicts, and Terrorism|Women Security & Safety|Security & Safety|Women Movement|Movement   |Legal and Regulatory Restrictions|State Control over Internet Access|Expression & Information|Same Sex Relationships|Divorce|PERSONAL FREEDOM (Score)|PERSONAL FREEDOM (Rank)|Government  enterprises and investment|Top marginal income tax rate|Legal enforcement of contracts|Reliability of police|Gender Legal Rights Adjustment|Money growth|Inflation: Most recent year|Compliance costs of importing and exporting|Regulatory trade barriers|Foreign ownership/investment restrictions|Freedom to trade internationally|Hiring regulations and minimum wage|Labour market regulations|Licensing restrictions|Business regulations|ECONOMIC FREEDOM (Score)|ECONOMIC FREEDOM (Rank)|features                                                                                                                                                                                                                                                                                       |\n",
      "+----+---------+--------------------------+---------------------+--------------------+------------------------+-----------+----------------------------------------+-----------------------+-----------------+--------------+-----------+---------------------------------+----------------------------------+------------------------+----------------------+-------+------------------------+-----------------------+--------------------------------------+----------------------------+------------------------------+---------------------+------------------------------+------------+---------------------------+-------------------------------------------+-------------------------+-----------------------------------------+--------------------------------+-----------------------------------+-------------------------+----------------------+--------------------+------------------------+-----------------------+-----------------------------------------------------------------------------------------------------------------------------------------------------------------------------------------------------------------------------------------------------------------------------------------------+\n",
      "|2017|Albania  |Eastern Europe            |7.84                 |38                  |1                       |5.291751647|10.0                                    |8.75                   |9.276666667      |10.0          |10.0       |8.011111111                      |10.0                              |8.607142857             |10                    |7.5    |8.005411457             |46                     |8                                     |9                           |4.387444055                   |6.824168762          |0.9524                        |9.253087019 |9.601214379                |9.405327776                                |7.706503738              |6.306105852                              |8.343862962                     |5.566666667                        |6.938448195              |6.031964728           |6.652097679         |7.67                    |30                     |[2017.0,5.291751647,10.0,8.75,9.276666667,10.0,10.0,8.011111111,10.0,8.607142857,10.0,7.5,8.005411457,46.0,8.0,9.0,4.387444055,6.824168762,0.9524,9.253087019,9.601214379,9.405327776,7.706503738,6.306105852,8.343862962,5.566666667,6.938448195,6.031964728,6.652097679,7.67,30.0]           |\n",
      "|2017|Algeria  |Middle East & North Africa|4.99                 |155                 |4                       |3.79608038 |8.865434414                             |5.0                    |7.773896003      |2.5           |5.833333333|2.961111111                      |7.5                               |7.311802542             |0                     |0.0    |5.201489165             |146                    |0                                     |7                           |4.392091659                   |6.101120313          |0.8333                        |6.989729298 |8.881776818                |0.473372781                                |2.623042784              |3.664828738                              |2.774951125                     |5.566666667                        |5.418019148              |8.687187496           |5.715304296         |4.77                    |159                    |[2017.0,3.79608038,8.865434414,5.0,7.773896003,2.5,5.833333333,2.961111111,7.5,7.311802542,0.0,0.0,5.201489165,146.0,0.0,7.0,4.392091659,6.101120313,0.8333,6.989729298,8.881776818,0.473372781,2.623042784,3.664828738,2.774951125,5.566666667,5.418019148,8.687187496,5.715304296,4.77,159.0]|\n",
      "+----+---------+--------------------------+---------------------+--------------------+------------------------+-----------+----------------------------------------+-----------------------+-----------------+--------------+-----------+---------------------------------+----------------------------------+------------------------+----------------------+-------+------------------------+-----------------------+--------------------------------------+----------------------------+------------------------------+---------------------+------------------------------+------------+---------------------------+-------------------------------------------+-------------------------+-----------------------------------------+--------------------------------+-----------------------------------+-------------------------+----------------------+--------------------+------------------------+-----------------------+-----------------------------------------------------------------------------------------------------------------------------------------------------------------------------------------------------------------------------------------------------------------------------------------------+\n",
      "only showing top 2 rows\n",
      "\n"
     ]
    }
   ],
   "source": [
    "output.show(2, truncate=False)"
   ]
  },
  {
   "cell_type": "markdown",
   "metadata": {},
   "source": [
    "# StandardScaler"
   ]
  },
  {
   "cell_type": "code",
   "execution_count": 9,
   "metadata": {},
   "outputs": [],
   "source": [
    "from pyspark.ml.feature import VectorAssembler, StandardScaler\n",
    "standard_scaler = StandardScaler(inputCol=\"features\", outputCol=\"scaled\")"
   ]
  },
  {
   "cell_type": "code",
   "execution_count": 10,
   "metadata": {},
   "outputs": [],
   "source": [
    "train = standard_scaler.fit(output).transform(output)"
   ]
  },
  {
   "cell_type": "code",
   "execution_count": 11,
   "metadata": {},
   "outputs": [
    {
     "name": "stdout",
     "output_type": "stream",
     "text": [
      "+---------------------------------------------------------------------------------------------------------------------------------------------------------------------------------------------------------------------------------------------------------------------------------------------------------------------------------------------------------------------------------------------------------------------------------------------------------------------------------------------------------------------------------------------------------------------------------------+\n",
      "|scaled                                                                                                                                                                                                                                                                                                                                                                                                                                                                                                                                                                                 |\n",
      "+---------------------------------------------------------------------------------------------------------------------------------------------------------------------------------------------------------------------------------------------------------------------------------------------------------------------------------------------------------------------------------------------------------------------------------------------------------------------------------------------------------------------------------------------------------------------------------------+\n",
      "|[706.8554430098237,3.117780586847438,5.128996223657399,3.431997065933765,5.243619978491513,2.8008620135872753,3.567361506692918,3.770726240686915,2.5067292723084567,4.853400989169869,2.410500795287759,2.027081300281675,4.824324510050712,1.0085121503488699,2.526119027463664,3.268480088004444,2.4812543948835697,2.803142409254238,6.975908079624603,8.919217864231474,6.766355470550336,3.350621079266912,3.9791816801144217,3.078843577527503,5.911893943834013,1.8857993314364514,4.126206054640887,2.7755662778024073,4.456060683908219,6.484735014920543,0.6579588814598905]|\n",
      "|[706.8554430098237,2.2365648474047606,4.547077963048834,1.96114118053358,4.394181429096089,0.7002155033968188,2.0809608787852896,1.393756647876967,1.8800469542313425,4.122983698486737,0.0,0.0,3.1345886219915147,3.200929868498587,0.0,2.5421511795590117,2.483882778905364,2.5061380645458295,6.103553341821905,6.737526437701354,6.259339369833007,0.16863769728654268,1.3543837967381427,1.7892871904696859,1.9661416810218797,1.8857993314364514,3.2220264220965134,3.9973484179903407,3.828528082258388,4.032879533399085,3.48718207173742]                                     |\n",
      "+---------------------------------------------------------------------------------------------------------------------------------------------------------------------------------------------------------------------------------------------------------------------------------------------------------------------------------------------------------------------------------------------------------------------------------------------------------------------------------------------------------------------------------------------------------------------------------------+\n",
      "only showing top 2 rows\n",
      "\n"
     ]
    }
   ],
   "source": [
    "train.select(\"scaled\").show(2, truncate=False)"
   ]
  },
  {
   "cell_type": "code",
   "execution_count": 12,
   "metadata": {},
   "outputs": [],
   "source": [
    "scalerModel = standard_scaler.fit(output)"
   ]
  },
  {
   "cell_type": "code",
   "execution_count": 13,
   "metadata": {},
   "outputs": [],
   "source": [
    "# Normalize each feature to have unit standard deviation.\n",
    "cluster_final_data = scalerModel.transform(output)"
   ]
  },
  {
   "cell_type": "code",
   "execution_count": 14,
   "metadata": {},
   "outputs": [],
   "source": [
    "from pyspark.sql import SparkSession\n",
    "spark = SparkSession.builder.appName('find_hacker').getOrCreate()\n",
    "from pyspark.ml.clustering import KMeans"
   ]
  },
  {
   "cell_type": "code",
   "execution_count": 15,
   "metadata": {},
   "outputs": [],
   "source": [
    "kmeans3 = KMeans(featuresCol='scaled',k=3)\n",
    "kmeans2 = KMeans(featuresCol='scaled',k=2)\n",
    "kmeans4 = KMeans(featuresCol='scaled',k=4)\n",
    "kmeans5 = KMeans(featuresCol='scaled',k=5)"
   ]
  },
  {
   "cell_type": "code",
   "execution_count": 16,
   "metadata": {},
   "outputs": [],
   "source": [
    "model_k3 = kmeans3.fit(cluster_final_data)\n",
    "model_k2 = kmeans2.fit(cluster_final_data)\n",
    "model_k4 = kmeans4.fit(cluster_final_data)\n",
    "model_k5 = kmeans5.fit(cluster_final_data)"
   ]
  },
  {
   "cell_type": "code",
   "execution_count": 21,
   "metadata": {},
   "outputs": [],
   "source": [
    "wssse_k3 = model_k3.computeCost(cluster_final_data)\n",
    "wssse_k2 = model_k2.computeCost(cluster_final_data)\n",
    "wssse_k4 = model_k4.computeCost(cluster_final_data)\n",
    "wssse_k5 = model_k5.computeCost(cluster_final_data)"
   ]
  },
  {
   "cell_type": "code",
   "execution_count": 22,
   "metadata": {},
   "outputs": [
    {
     "name": "stdout",
     "output_type": "stream",
     "text": [
      "With K=3\n",
      "Within Set Sum of Squared Errors = 30557.633703834457\n",
      "------------------------------------------------------------\n",
      "With K=2\n",
      "Within Set Sum of Squared Errors = 37108.50877482409\n",
      "------------------------------------------------------------\n",
      "With K=4\n",
      "Within Set Sum of Squared Errors = 27455.056435769737\n",
      "------------------------------------------------------------\n",
      "With K=4\n",
      "Within Set Sum of Squared Errors = 25050.72873867154\n"
     ]
    }
   ],
   "source": [
    "print(\"With K=3\")\n",
    "print(\"Within Set Sum of Squared Errors = \" + str(wssse_k3))\n",
    "print('--'*30)\n",
    "print(\"With K=2\")\n",
    "print(\"Within Set Sum of Squared Errors = \" + str(wssse_k2))\n",
    "print('--'*30)\n",
    "print(\"With K=4\")\n",
    "print(\"Within Set Sum of Squared Errors = \" + str(wssse_k4))\n",
    "print('--'*30)\n",
    "print(\"With K=4\")\n",
    "print(\"Within Set Sum of Squared Errors = \" + str(wssse_k5))"
   ]
  },
  {
   "cell_type": "code",
   "execution_count": 24,
   "metadata": {},
   "outputs": [
    {
     "name": "stdout",
     "output_type": "stream",
     "text": [
      "With K=2\n",
      "Within Set Sum of Squared Errors = 37108.50877482409\n",
      "------------------------------------------------------------\n",
      "With K=3\n",
      "Within Set Sum of Squared Errors = 30557.633703834457\n",
      "------------------------------------------------------------\n",
      "With K=4\n",
      "Within Set Sum of Squared Errors = 27455.056435769737\n",
      "------------------------------------------------------------\n",
      "With K=5\n",
      "Within Set Sum of Squared Errors = 25050.72873867154\n",
      "------------------------------------------------------------\n",
      "With K=6\n",
      "Within Set Sum of Squared Errors = 24183.74249648865\n",
      "------------------------------------------------------------\n",
      "With K=7\n",
      "Within Set Sum of Squared Errors = 23061.537249005807\n",
      "------------------------------------------------------------\n",
      "With K=8\n",
      "Within Set Sum of Squared Errors = 22285.251136750332\n",
      "------------------------------------------------------------\n",
      "With K=9\n",
      "Within Set Sum of Squared Errors = 21794.84046553681\n",
      "------------------------------------------------------------\n"
     ]
    }
   ],
   "source": [
    "for k in range(2,10):\n",
    "    kmeans = KMeans(featuresCol='scaled',k=k)\n",
    "    model = kmeans.fit(cluster_final_data)\n",
    "    wssse = model.computeCost(cluster_final_data)\n",
    "    print(\"With K={}\".format(k))\n",
    "    print(\"Within Set Sum of Squared Errors = \" + str(wssse))\n",
    "    print('--'*30)"
   ]
  },
  {
   "cell_type": "code",
   "execution_count": 25,
   "metadata": {},
   "outputs": [
    {
     "name": "stdout",
     "output_type": "stream",
     "text": [
      "+----------+-----+\n",
      "|prediction|count|\n",
      "+----------+-----+\n",
      "|         1|  618|\n",
      "|         2|  913|\n",
      "|         0|   38|\n",
      "+----------+-----+\n",
      "\n"
     ]
    }
   ],
   "source": [
    "model_k3.transform(cluster_final_data).groupBy('prediction').count().show()"
   ]
  },
  {
   "cell_type": "code",
   "execution_count": 26,
   "metadata": {},
   "outputs": [
    {
     "name": "stdout",
     "output_type": "stream",
     "text": [
      "+----------+-----+\n",
      "|prediction|count|\n",
      "+----------+-----+\n",
      "|         1|  903|\n",
      "|         0|  666|\n",
      "+----------+-----+\n",
      "\n"
     ]
    }
   ],
   "source": [
    "model_k2.transform(cluster_final_data).groupBy('prediction').count().show()"
   ]
  },
  {
   "cell_type": "code",
   "execution_count": 27,
   "metadata": {},
   "outputs": [
    {
     "name": "stdout",
     "output_type": "stream",
     "text": [
      "+----------+-----+\n",
      "|prediction|count|\n",
      "+----------+-----+\n",
      "|         1|  507|\n",
      "|         3|   32|\n",
      "|         2|  378|\n",
      "|         0|  652|\n",
      "+----------+-----+\n",
      "\n"
     ]
    }
   ],
   "source": [
    "model_k4.transform(cluster_final_data).groupBy('prediction').count().show()"
   ]
  },
  {
   "cell_type": "code",
   "execution_count": 28,
   "metadata": {},
   "outputs": [
    {
     "name": "stdout",
     "output_type": "stream",
     "text": [
      "+----------+-----+\n",
      "|prediction|count|\n",
      "+----------+-----+\n",
      "|         1|  468|\n",
      "|         3|  597|\n",
      "|         4|  279|\n",
      "|         2|  193|\n",
      "|         0|   32|\n",
      "+----------+-----+\n",
      "\n"
     ]
    }
   ],
   "source": [
    "model_k5.transform(cluster_final_data).groupBy('prediction').count().show()"
   ]
  },
  {
   "cell_type": "code",
   "execution_count": 32,
   "metadata": {},
   "outputs": [],
   "source": [
    "# Training a k-means model for cluster=3... we will do below steps for which this model fits best.\n",
    "kmeans3 = KMeans(featuresCol='scaled',k=3)\n",
    "model = kmeans3.fit(cluster_final_data)"
   ]
  },
  {
   "cell_type": "code",
   "execution_count": 36,
   "metadata": {},
   "outputs": [
    {
     "name": "stdout",
     "output_type": "stream",
     "text": [
      "Cluster Centers: \n",
      "[7.04673899e+02 3.41151629e-01 6.76496378e-01 5.27056692e-01\n",
      " 1.10320872e+00 1.92559263e-01 9.66160408e-02 6.58504255e-01\n",
      " 7.83352898e-02 6.95904594e-01 9.03937798e-02 1.52031098e-01\n",
      " 7.78774139e-01 6.48407540e-01 1.97353049e-01 5.44746681e-01\n",
      " 2.27610718e-01 1.83387108e-01 6.29721008e+00 6.91774371e+00\n",
      " 3.38086328e+00 1.64206105e-01 2.50202777e-01 2.23219410e-01\n",
      " 1.08282434e+00 3.15335008e-01 4.80721995e-01 0.00000000e+00\n",
      " 6.63368639e-01 1.63568902e+00 6.71666358e-01]\n",
      "[705.26023654   3.93923296   4.96941562   3.77530985   5.23925132\n",
      "   2.6555125    3.40966101   3.46245767   2.1484776    5.04864155\n",
      "   2.33306296   2.51910213   5.13596533   0.72291994   2.5141543\n",
      "   2.54933071   2.97835431   2.68460077   7.14318958   8.59715283\n",
      "   6.66763752   3.04577305   3.8579562    3.16666948   5.63641776\n",
      "   2.17236478   4.00013809   3.72424722   4.73108354   6.39059145\n",
      "   0.78232431]\n",
      "[705.3666053    2.58110396   4.27139035   2.73421793   4.15455392\n",
      "   1.84774872   2.42080172   3.30009024   1.5082517    4.05965873\n",
      "   1.40133235   1.6591873    3.79764871   2.33069222   1.59868813\n",
      "   2.65952971   2.15155748   1.76340434   6.07099652   8.14430857\n",
      "   6.06906954   1.89596201   2.72003139   2.43432111   4.60402073\n",
      "   2.16678189   3.72531634   3.42130986   3.93176519   5.3408873\n",
      "   2.28173289]\n"
     ]
    }
   ],
   "source": [
    "centers = model.clusterCenters()\n",
    "print(\"Cluster Centers: \")\n",
    "for center in centers:\n",
    "    print(center)"
   ]
  },
  {
   "cell_type": "code",
   "execution_count": 38,
   "metadata": {},
   "outputs": [
    {
     "name": "stdout",
     "output_type": "stream",
     "text": [
      "+----------+\n",
      "|prediction|\n",
      "+----------+\n",
      "|         1|\n",
      "|         2|\n",
      "|         2|\n",
      "|         2|\n",
      "|         1|\n",
      "|         1|\n",
      "|         1|\n",
      "|         2|\n",
      "|         1|\n",
      "|         2|\n",
      "|         2|\n",
      "|         2|\n",
      "|         2|\n",
      "|         1|\n",
      "|         2|\n",
      "|         2|\n",
      "|         2|\n",
      "|         2|\n",
      "|         1|\n",
      "|         2|\n",
      "+----------+\n",
      "only showing top 20 rows\n",
      "\n"
     ]
    }
   ],
   "source": [
    "model.transform(cluster_final_data).select('prediction').show()"
   ]
  },
  {
   "cell_type": "code",
   "execution_count": null,
   "metadata": {},
   "outputs": [],
   "source": []
  }
 ],
 "metadata": {
  "kernelspec": {
   "display_name": "Python 3",
   "language": "python",
   "name": "python3"
  },
  "language_info": {
   "codemirror_mode": {
    "name": "ipython",
    "version": 3
   },
   "file_extension": ".py",
   "mimetype": "text/x-python",
   "name": "python",
   "nbconvert_exporter": "python",
   "pygments_lexer": "ipython3",
   "version": "3.5.2"
  }
 },
 "nbformat": 4,
 "nbformat_minor": 2
}
