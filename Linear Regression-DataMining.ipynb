{
 "cells": [
  {
   "cell_type": "code",
   "execution_count": 6,
   "metadata": {},
   "outputs": [],
   "source": [
    "# Must be included at the beginning of each new notebook. Remember to change the app name.\n",
    "import findspark\n",
    "findspark.init('/home/ubuntu/spark-2.1.1-bin-hadoop2.7')\n",
    "import pyspark\n",
    "import pyspark.sql.functions as F\n",
    "import pyspark.sql.types as T\n",
    "from pyspark.sql import SparkSession\n",
    "spark = SparkSession.builder.appName('linear_regression_docs').getOrCreate()\n",
    "\n",
    "# If you're getting an error with numpy, please type 'sudo pip install numpy --user' into the EC2 console.\n",
    "from pyspark.ml.regression import LinearRegression"
   ]
  },
  {
   "cell_type": "code",
   "execution_count": 30,
   "metadata": {},
   "outputs": [],
   "source": [
    "# Import VectorAssembler and Vectors\n",
    "from pyspark.ml.linalg import Vectors\n",
    "from pyspark.ml.feature import VectorAssembler"
   ]
  },
  {
   "cell_type": "code",
   "execution_count": 31,
   "metadata": {},
   "outputs": [],
   "source": [
    "df = spark.read.load(\"./finalEdited-HumanHappiness-BDAS-mining.csv\", format=\"csv\", header=True, inferSchema=True)"
   ]
  },
  {
   "cell_type": "code",
   "execution_count": 54,
   "metadata": {},
   "outputs": [
    {
     "name": "stdout",
     "output_type": "stream",
     "text": [
      "root\n",
      " |-- Year: integer (nullable = true)\n",
      " |-- Countries: string (nullable = true)\n",
      " |-- Region: string (nullable = true)\n",
      " |-- HUMAN FREEDOM (Score): double (nullable = true)\n",
      " |-- HUMAN FREEDOM (Rank): integer (nullable = true)\n",
      " |-- HUMAN FREEDOM (Quartile): integer (nullable = true)\n",
      " |-- Rule of Law: double (nullable = true)\n",
      " |-- Disappearances, Conflicts, and Terrorism: double (nullable = true)\n",
      " |-- Women Security & Safety: double (nullable = true)\n",
      " |-- Security & Safety: double (nullable = true)\n",
      " |-- Women Movement: double (nullable = true)\n",
      " |-- Movement: double (nullable = true)\n",
      " |-- Legal and Regulatory Restrictions: double (nullable = true)\n",
      " |-- State Control over Internet Access: double (nullable = true)\n",
      " |-- Expression & Information: double (nullable = true)\n",
      " |-- Same Sex Relationships: integer (nullable = true)\n",
      " |-- Divorce: double (nullable = true)\n",
      " |-- PERSONAL FREEDOM (Score): double (nullable = true)\n",
      " |-- PERSONAL FREEDOM (Rank): integer (nullable = true)\n",
      " |-- Government  enterprises and investment: integer (nullable = true)\n",
      " |-- Top marginal income tax rate: integer (nullable = true)\n",
      " |-- Legal enforcement of contracts: double (nullable = true)\n",
      " |-- Reliability of police: double (nullable = true)\n",
      " |-- Gender Legal Rights Adjustment: double (nullable = true)\n",
      " |-- Money growth: double (nullable = true)\n",
      " |-- Inflation: Most recent year: double (nullable = true)\n",
      " |-- Compliance costs of importing and exporting: double (nullable = true)\n",
      " |-- Regulatory trade barriers: double (nullable = true)\n",
      " |-- Foreign ownership/investment restrictions: double (nullable = true)\n",
      " |-- Freedom to trade internationally: double (nullable = true)\n",
      " |-- Hiring regulations and minimum wage: double (nullable = true)\n",
      " |-- Labour market regulations: double (nullable = true)\n",
      " |-- Licensing restrictions: double (nullable = true)\n",
      " |-- Business regulations: double (nullable = true)\n",
      " |-- ECONOMIC FREEDOM (Score): double (nullable = true)\n",
      " |-- ECONOMIC FREEDOM (Rank): integer (nullable = true)\n",
      "\n"
     ]
    }
   ],
   "source": [
    "df.printSchema()"
   ]
  },
  {
   "cell_type": "code",
   "execution_count": 37,
   "metadata": {},
   "outputs": [],
   "source": [
    "# The input columns are the feature column names, and the output column is what you'd like the new column to be named. \n",
    "assembler = VectorAssembler(\n",
    "    inputCols=['Year',\n",
    " 'Rule of Law',\n",
    " 'Disappearances, Conflicts, and Terrorism',\n",
    " 'Women Security & Safety',\n",
    " 'Security & Safety',\n",
    " 'Women Movement',\n",
    " 'Movement',\n",
    " 'Legal and Regulatory Restrictions',\n",
    " 'State Control over Internet Access',\n",
    " 'Expression & Information',\n",
    " 'Same Sex Relationships',\n",
    " 'Divorce',\n",
    " 'PERSONAL FREEDOM (Score)',\n",
    " 'PERSONAL FREEDOM (Rank)',\n",
    " 'Government  enterprises and investment',\n",
    " 'Top marginal income tax rate',\n",
    " 'Legal enforcement of contracts',\n",
    " 'Reliability of police',\n",
    " 'Gender Legal Rights Adjustment',\n",
    " 'Money growth',\n",
    " 'Inflation: Most recent year',\n",
    " 'Compliance costs of importing and exporting',\n",
    " 'Regulatory trade barriers',\n",
    " 'Foreign ownership/investment restrictions',\n",
    " 'Freedom to trade internationally',\n",
    " 'Hiring regulations and minimum wage',\n",
    " 'Labour market regulations',\n",
    " 'Licensing restrictions',\n",
    " 'Business regulations',\n",
    " 'ECONOMIC FREEDOM (Score)',\n",
    " 'ECONOMIC FREEDOM (Rank)'],\n",
    "    outputCol=\"features\")"
   ]
  },
  {
   "cell_type": "code",
   "execution_count": 39,
   "metadata": {},
   "outputs": [],
   "source": [
    "# Now that we've created the assembler variable, let's actually transform the data.\n",
    "output = assembler.transform(df)"
   ]
  },
  {
   "cell_type": "code",
   "execution_count": 41,
   "metadata": {},
   "outputs": [
    {
     "name": "stdout",
     "output_type": "stream",
     "text": [
      "root\n",
      " |-- Year: integer (nullable = true)\n",
      " |-- Countries: string (nullable = true)\n",
      " |-- Region: string (nullable = true)\n",
      " |-- HUMAN FREEDOM (Score): double (nullable = true)\n",
      " |-- HUMAN FREEDOM (Rank): integer (nullable = true)\n",
      " |-- HUMAN FREEDOM (Quartile): integer (nullable = true)\n",
      " |-- Rule of Law: double (nullable = true)\n",
      " |-- Disappearances, Conflicts, and Terrorism: double (nullable = true)\n",
      " |-- Women Security & Safety: double (nullable = true)\n",
      " |-- Security & Safety: double (nullable = true)\n",
      " |-- Women Movement: double (nullable = true)\n",
      " |-- Movement: double (nullable = true)\n",
      " |-- Legal and Regulatory Restrictions: double (nullable = true)\n",
      " |-- State Control over Internet Access: double (nullable = true)\n",
      " |-- Expression & Information: double (nullable = true)\n",
      " |-- Same Sex Relationships: integer (nullable = true)\n",
      " |-- Divorce: double (nullable = true)\n",
      " |-- PERSONAL FREEDOM (Score): double (nullable = true)\n",
      " |-- PERSONAL FREEDOM (Rank): integer (nullable = true)\n",
      " |-- Government  enterprises and investment: integer (nullable = true)\n",
      " |-- Top marginal income tax rate: integer (nullable = true)\n",
      " |-- Legal enforcement of contracts: double (nullable = true)\n",
      " |-- Reliability of police: double (nullable = true)\n",
      " |-- Gender Legal Rights Adjustment: double (nullable = true)\n",
      " |-- Money growth: double (nullable = true)\n",
      " |-- Inflation: Most recent year: double (nullable = true)\n",
      " |-- Compliance costs of importing and exporting: double (nullable = true)\n",
      " |-- Regulatory trade barriers: double (nullable = true)\n",
      " |-- Foreign ownership/investment restrictions: double (nullable = true)\n",
      " |-- Freedom to trade internationally: double (nullable = true)\n",
      " |-- Hiring regulations and minimum wage: double (nullable = true)\n",
      " |-- Labour market regulations: double (nullable = true)\n",
      " |-- Licensing restrictions: double (nullable = true)\n",
      " |-- Business regulations: double (nullable = true)\n",
      " |-- ECONOMIC FREEDOM (Score): double (nullable = true)\n",
      " |-- ECONOMIC FREEDOM (Rank): integer (nullable = true)\n",
      " |-- features: vector (nullable = true)\n",
      "\n"
     ]
    },
    {
     "data": {
      "text/plain": [
       "[Row(Year=2017, Countries='Albania', Region='Eastern Europe', HUMAN FREEDOM (Score)=7.84, HUMAN FREEDOM (Rank)=38, HUMAN FREEDOM (Quartile)=1, Rule of Law=5.291751647, Disappearances, Conflicts, and Terrorism=10.0, Women Security & Safety=8.75, Security & Safety=9.276666667, Women Movement=10.0, Movement=10.0, Legal and Regulatory Restrictions=8.011111111, State Control over Internet Access=10.0, Expression & Information=8.607142857, Same Sex Relationships=10, Divorce=7.5, PERSONAL FREEDOM (Score)=8.005411457, PERSONAL FREEDOM (Rank)=46, Government  enterprises and investment=8, Top marginal income tax rate=9, Legal enforcement of contracts=4.387444055, Reliability of police=6.824168762, Gender Legal Rights Adjustment=0.9524, Money growth=9.253087019, Inflation: Most recent year=9.601214379, Compliance costs of importing and exporting=9.405327776, Regulatory trade barriers=7.706503738, Foreign ownership/investment restrictions=6.306105852, Freedom to trade internationally=8.343862962, Hiring regulations and minimum wage=5.566666667, Labour market regulations=6.938448195, Licensing restrictions=6.031964728, Business regulations=6.652097679, ECONOMIC FREEDOM (Score)=7.67, ECONOMIC FREEDOM (Rank)=30, features=DenseVector([2017.0, 5.2918, 10.0, 8.75, 9.2767, 10.0, 10.0, 8.0111, 10.0, 8.6071, 10.0, 7.5, 8.0054, 46.0, 8.0, 9.0, 4.3874, 6.8242, 0.9524, 9.2531, 9.6012, 9.4053, 7.7065, 6.3061, 8.3439, 5.5667, 6.9384, 6.032, 6.6521, 7.67, 30.0]))]"
      ]
     },
     "execution_count": 41,
     "metadata": {},
     "output_type": "execute_result"
    }
   ],
   "source": [
    "# Using print schema, you see that the features output column has been added. \n",
    "output.printSchema()\n",
    "\n",
    "# You can see that the features column is a dense vector that combines the various features as expected.\n",
    "output.head(1)"
   ]
  },
  {
   "cell_type": "code",
   "execution_count": 48,
   "metadata": {},
   "outputs": [
    {
     "name": "stdout",
     "output_type": "stream",
     "text": [
      "+--------------------+---------------------+\n",
      "|            features|HUMAN FREEDOM (Score)|\n",
      "+--------------------+---------------------+\n",
      "|[2017.0,5.2917516...|                 7.84|\n",
      "|[2017.0,3.7960803...|                 4.99|\n",
      "|[2017.0,3.4119028...|                  5.4|\n",
      "|[2017.0,5.7447910...|                 6.86|\n",
      "|[2017.0,4.9326094...|                 7.42|\n",
      "|[2017.0,7.7762787...|                 8.62|\n",
      "|[2017.0,8.1717488...|                 8.48|\n",
      "|[2017.0,4.2912703...|                 6.22|\n",
      "|[2017.0,6.4007902...|                 7.56|\n",
      "|[2017.0,5.8980375...|                 6.63|\n",
      "|[2017.0,3.1328924...|                 5.77|\n",
      "|[2017.0,6.6992874...|                 7.02|\n",
      "|[2017.0,5.1289249...|                 6.65|\n",
      "|[2017.0,7.7511009...|                 8.29|\n",
      "|[2017.0,4.2688720...|                 6.95|\n",
      "|[2017.0,4.1803094...|                 6.77|\n",
      "|[2017.0,6.1878977...|                 6.53|\n",
      "|[2017.0,3.0514018...|                 6.61|\n",
      "|[2017.0,5.4700803...|                 7.37|\n",
      "|[2017.0,5.6416839...|                 7.17|\n",
      "+--------------------+---------------------+\n",
      "only showing top 20 rows\n",
      "\n"
     ]
    }
   ],
   "source": [
    "# Let's select two columns (the feature and predictor).\n",
    "# This is now in the appropriate format to be processed by Spark.\n",
    "final_data = output.select(\"features\",'HUMAN FREEDOM (Score)')\n",
    "final_data.show()"
   ]
  },
  {
   "cell_type": "code",
   "execution_count": 49,
   "metadata": {},
   "outputs": [],
   "source": [
    "# Let's do a randomised 70/30 split. \n",
    "# Remember, you can use other splits depending on how easy/difficult it is to train your model.\n",
    "train_data,test_data = final_data.randomSplit([0.7,0.3])"
   ]
  },
  {
   "cell_type": "code",
   "execution_count": 51,
   "metadata": {},
   "outputs": [
    {
     "name": "stdout",
     "output_type": "stream",
     "text": [
      "+-------+---------------------+\n",
      "|summary|HUMAN FREEDOM (Score)|\n",
      "+-------+---------------------+\n",
      "|  count|                 1089|\n",
      "|   mean|    6.849339752456379|\n",
      "| stddev|   1.3636070810487795|\n",
      "|    min|          1.144439617|\n",
      "|    max|                 9.12|\n",
      "+-------+---------------------+\n",
      "\n",
      "+-------+---------------------+\n",
      "|summary|HUMAN FREEDOM (Score)|\n",
      "+-------+---------------------+\n",
      "|  count|                  480|\n",
      "|   mean|   6.8944814110812525|\n",
      "| stddev|   1.2504136342275411|\n",
      "|    min|          1.144439617|\n",
      "|    max|                 9.02|\n",
      "+-------+---------------------+\n",
      "\n"
     ]
    }
   ],
   "source": [
    "# Let's see our training data.\n",
    "train_data.describe().show()\n",
    "\n",
    "# And our testing data.\n",
    "test_data.describe().show()"
   ]
  },
  {
   "cell_type": "code",
   "execution_count": 55,
   "metadata": {},
   "outputs": [],
   "source": [
    "#Now we can create a Linear Regression Model object. Because the feature column is named 'features', \n",
    "#we don't have to worry about it. However, as the labelCol isn't the default name, we have to specify \n",
    "#it's name (HUMAN FREEDOM (Score)).\n",
    "\n",
    "lr = LinearRegression(labelCol='HUMAN FREEDOM (Score)')"
   ]
  },
  {
   "cell_type": "code",
   "execution_count": 56,
   "metadata": {},
   "outputs": [],
   "source": [
    "# Fit the model to the data.\n",
    "lrModel = lr.fit(train_data)"
   ]
  },
  {
   "cell_type": "code",
   "execution_count": 57,
   "metadata": {},
   "outputs": [
    {
     "name": "stdout",
     "output_type": "stream",
     "text": [
      "Coefficients: [-0.00018277014670637625,7.654760169521138e-05,0.000548587209026555,-0.0002969521859028834,0.0004621509253513168,8.126736376763305e-05,0.0002203958432705075,0.00013645706052480664,1.1055015377253783e-05,2.6358969603813347e-05,6.447738450940417e-05,9.356501343323879e-05,0.48433382035060557,-0.00041739736911423274,0.00020124736078860317,-9.484371032006791e-05,-0.00011518351207959659,-0.00010473466771452708,0.004775723521460875,0.0003226184233185234,0.0009838824595450762,0.00019980501455566833,-0.00032632782162414525,0.000489775441090885,0.00013541345508644569,-8.78043635220382e-05,0.00033996022488305173,0.00035358347097414877,0.00044863464056236823,0.4901599860024474,-0.00016528244883663514] Intercept: 0.5553189531134152\n"
     ]
    }
   ],
   "source": [
    "# Print the coefficients and intercept for linear regression.\n",
    "print(\"Coefficients: {} Intercept: {}\".format(lrModel.coefficients,lrModel.intercept))"
   ]
  },
  {
   "cell_type": "code",
   "execution_count": 58,
   "metadata": {},
   "outputs": [],
   "source": [
    "# Let's evaluate the model against the test data.\n",
    "test_results = lrModel.evaluate(test_data)"
   ]
  },
  {
   "cell_type": "code",
   "execution_count": 59,
   "metadata": {},
   "outputs": [
    {
     "name": "stdout",
     "output_type": "stream",
     "text": [
      "+--------------------+\n",
      "|           residuals|\n",
      "+--------------------+\n",
      "|0.004756463487226803|\n",
      "|0.005346343729727199|\n",
      "|0.004873526014503193|\n",
      "|0.004630810619395076|\n",
      "|-0.00123978363561...|\n",
      "|-7.88046132460973...|\n",
      "|-0.00186560417058...|\n",
      "|-0.00453725310211...|\n",
      "|-0.00727301761322...|\n",
      "|0.001635385538195...|\n",
      "|3.576984695721208E-4|\n",
      "|0.006359674558751749|\n",
      "|5.103593285378238E-4|\n",
      "|0.004583432592867531|\n",
      "|-0.00142678927525...|\n",
      "|-5.40929165377512...|\n",
      "|0.001471250360746...|\n",
      "|-0.00272229073048...|\n",
      "|0.002577049403576...|\n",
      "|-0.00934269587721...|\n",
      "+--------------------+\n",
      "only showing top 20 rows\n",
      "\n",
      "RSME: 0.004585245146298461\n"
     ]
    }
   ],
   "source": [
    "# Interesting results! This shows the difference between the predicted value and the test data.\n",
    "test_results.residuals.show()\n",
    "\n",
    "# Let's get some evaluation metrics (as discussed in the previous linear regression notebook).\n",
    "print(\"RSME: {}\".format(test_results.rootMeanSquaredError))"
   ]
  },
  {
   "cell_type": "code",
   "execution_count": 60,
   "metadata": {},
   "outputs": [
    {
     "name": "stdout",
     "output_type": "stream",
     "text": [
      "R2: 0.999986525165413\n"
     ]
    }
   ],
   "source": [
    "# We can also get the R2 value. \n",
    "print(\"R2: {}\".format(test_results.r2))"
   ]
  },
  {
   "cell_type": "code",
   "execution_count": 61,
   "metadata": {},
   "outputs": [
    {
     "name": "stdout",
     "output_type": "stream",
     "text": [
      "+-------+---------------------+\n",
      "|summary|HUMAN FREEDOM (Score)|\n",
      "+-------+---------------------+\n",
      "|  count|                 1569|\n",
      "|   mean|    6.863149820104525|\n",
      "| stddev|   1.3297674649773994|\n",
      "|    min|          1.144439617|\n",
      "|    max|                 9.12|\n",
      "+-------+---------------------+\n",
      "\n"
     ]
    }
   ],
   "source": [
    "final_data.describe().show()"
   ]
  },
  {
   "cell_type": "code",
   "execution_count": null,
   "metadata": {},
   "outputs": [],
   "source": []
  }
 ],
 "metadata": {
  "kernelspec": {
   "display_name": "Python 3",
   "language": "python",
   "name": "python3"
  },
  "language_info": {
   "codemirror_mode": {
    "name": "ipython",
    "version": 3
   },
   "file_extension": ".py",
   "mimetype": "text/x-python",
   "name": "python",
   "nbconvert_exporter": "python",
   "pygments_lexer": "ipython3",
   "version": "3.5.2"
  }
 },
 "nbformat": 4,
 "nbformat_minor": 2
}
