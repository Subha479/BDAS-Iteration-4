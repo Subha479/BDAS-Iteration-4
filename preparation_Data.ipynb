{
 "cells": [
  {
   "cell_type": "code",
   "execution_count": 72,
   "metadata": {},
   "outputs": [],
   "source": [
    "import findspark\n",
    "findspark.init('/home/ubuntu/spark-2.1.1-bin-hadoop2.7')\n",
    "import pyspark\n",
    "from pyspark.sql import SparkSession\n",
    "spark = SparkSession.builder.appName('BDAS').getOrCreate()"
   ]
  },
  {
   "cell_type": "code",
   "execution_count": 73,
   "metadata": {},
   "outputs": [],
   "source": [
    "df = spark.read.load(\"./Pre-HumanHappiness - bdas 1.csv\", format=\"csv\", header=\"true\")"
   ]
  },
  {
   "cell_type": "code",
   "execution_count": 74,
   "metadata": {},
   "outputs": [
    {
     "data": {
      "text/plain": [
       "1542"
      ]
     },
     "execution_count": 74,
     "metadata": {},
     "output_type": "execute_result"
    }
   ],
   "source": [
    "df.na.drop().count()"
   ]
  },
  {
   "cell_type": "code",
   "execution_count": 75,
   "metadata": {
    "scrolled": true
   },
   "outputs": [
    {
     "data": {
      "text/plain": [
       "DataFrame[Year: string, Countries: string, Region: string, HUMAN FREEDOM (Score): string, HUMAN FREEDOM (Rank): string, HUMAN FREEDOM (Quartile): string, Rule of Law: string, Disappearances, Conflicts, and Terrorism: string, Women Security & Safety: string, Security & Safety: string, Women Movement: string, Movement: string, Legal and Regulatory Restrictions: string, State Control over Internet Access: string, Expression & Information: string, Same Sex Relationships: string, Divorce: string, PERSONAL FREEDOM (Score): string, PERSONAL FREEDOM (Rank): string, Government  enterprises and investment: string, Top marginal income tax rate: string, Legal enforcement of contracts: string, Reliability of police: string, Gender Legal Rights Adjustment: string, Money growth: string, Inflation: Most recent year: string, Compliance costs of importing and exporting: string, Regulatory trade barriers: string, Foreign ownership/investment restrictions: string, Freedom to trade internationally: string, Hiring regulations and minimum wage: string, Labour market regulations: string, Licensing restrictions: string, Business regulations: string, ECONOMIC FREEDOM (Score): string, ECONOMIC FREEDOM (Rank): string]"
      ]
     },
     "execution_count": 75,
     "metadata": {},
     "output_type": "execute_result"
    }
   ],
   "source": [
    "from pyspark.sql import functions as psf\n",
    "df.filter(psf.col(\"Rule of Law\").isNotNull())"
   ]
  },
  {
   "cell_type": "markdown",
   "metadata": {},
   "source": [
    "# 3.5 Formating data"
   ]
  },
  {
   "cell_type": "code",
   "execution_count": 76,
   "metadata": {},
   "outputs": [
    {
     "name": "stdout",
     "output_type": "stream",
     "text": [
      "root\n",
      " |-- Year: integer (nullable = true)\n",
      " |-- Countries: string (nullable = true)\n",
      " |-- Region: string (nullable = true)\n",
      " |-- HUMAN FREEDOM (Score): integer (nullable = true)\n",
      " |-- HUMAN FREEDOM (Rank): integer (nullable = true)\n",
      " |-- HUMAN FREEDOM (Quartile): integer (nullable = true)\n",
      " |-- Rule of Law: integer (nullable = true)\n",
      " |-- Disappearances, Conflicts, and Terrorism: integer (nullable = true)\n",
      " |-- Women Security & Safety: integer (nullable = true)\n",
      " |-- Security & Safety: integer (nullable = true)\n",
      " |-- Women Movement: integer (nullable = true)\n",
      " |-- Movement: integer (nullable = true)\n",
      " |-- Legal and Regulatory Restrictions: integer (nullable = true)\n",
      " |-- State Control over Internet Access: integer (nullable = true)\n",
      " |-- Expression & Information: integer (nullable = true)\n",
      " |-- Same Sex Relationships: integer (nullable = true)\n",
      " |-- Divorce: integer (nullable = true)\n",
      " |-- PERSONAL FREEDOM (Score): integer (nullable = true)\n",
      " |-- PERSONAL FREEDOM (Rank): integer (nullable = true)\n",
      " |-- Government  enterprises and investment: integer (nullable = true)\n",
      " |-- Top marginal income tax rate: integer (nullable = true)\n",
      " |-- Legal enforcement of contracts: integer (nullable = true)\n",
      " |-- Reliability of police: integer (nullable = true)\n",
      " |-- Gender Legal Rights Adjustment: integer (nullable = true)\n",
      " |-- Money growth: integer (nullable = true)\n",
      " |-- Inflation: Most recent year: integer (nullable = true)\n",
      " |-- Compliance costs of importing and exporting: integer (nullable = true)\n",
      " |-- Regulatory trade barriers: integer (nullable = true)\n",
      " |-- Foreign ownership/investment restrictions: integer (nullable = true)\n",
      " |-- Freedom to trade internationally: integer (nullable = true)\n",
      " |-- Hiring regulations and minimum wage: integer (nullable = true)\n",
      " |-- Labour market regulations: integer (nullable = true)\n",
      " |-- Licensing restrictions: integer (nullable = true)\n",
      " |-- Business regulations: integer (nullable = true)\n",
      " |-- ECONOMIC FREEDOM (Score): integer (nullable = true)\n",
      " |-- ECONOMIC FREEDOM (Rank): integer (nullable = true)\n",
      "\n"
     ]
    }
   ],
   "source": [
    "#Changing datatype of numeric values (from string to int)\n",
    "from pyspark.sql.types import IntegerType\n",
    "df = df.withColumn(\"Year\", df[\"Year\"].cast(IntegerType()))\n",
    "df = df.withColumn(\"HUMAN FREEDOM (Score)\", df[\"HUMAN FREEDOM (Score)\"].cast(IntegerType()))\n",
    "df = df.withColumn(\"HUMAN FREEDOM (Rank)\", df[\"HUMAN FREEDOM (Rank)\"].cast(IntegerType()))\n",
    "df = df.withColumn(\"HUMAN FREEDOM (Quartile)\", df[\"HUMAN FREEDOM (Quartile)\"].cast(IntegerType()))\n",
    "df = df.withColumn(\"Rule of Law\", df[\"Rule of Law\"].cast(IntegerType()))\n",
    "df = df.withColumn(\"Disappearances, Conflicts, and Terrorism\", df[\"Disappearances, Conflicts, and Terrorism\"].cast(IntegerType()))\n",
    "df = df.withColumn(\"Women Security & Safety\", df[\"Women Security & Safety\"].cast(IntegerType()))\n",
    "df = df.withColumn(\"Security & Safety\", df[\"Security & Safety\"].cast(IntegerType()))\n",
    "df = df.withColumn(\"Women Movement\", df[\"Women Movement\"].cast(IntegerType()))\n",
    "df = df.withColumn(\"Movement\", df[\"Movement\"].cast(IntegerType()))\n",
    "df = df.withColumn(\"Legal and Regulatory Restrictions\", df[\"Legal and Regulatory Restrictions\"].cast(IntegerType()))\n",
    "df = df.withColumn(\"State Control over Internet Access\", df[\"State Control over Internet Access\"].cast(IntegerType()))\n",
    "df = df.withColumn(\"Expression & Information\", df[\"Expression & Information\"].cast(IntegerType()))\n",
    "df = df.withColumn(\"Same Sex Relationships\", df[\"Same Sex Relationships\"].cast(IntegerType()))\n",
    "df = df.withColumn(\"Divorce\", df[\"Divorce\"].cast(IntegerType()))\n",
    "df = df.withColumn(\"PERSONAL FREEDOM (Score)\", df[\"PERSONAL FREEDOM (Score)\"].cast(IntegerType()))\n",
    "df = df.withColumn(\"PERSONAL FREEDOM (Rank)\", df[\"PERSONAL FREEDOM (Rank)\"].cast(IntegerType()))\n",
    "df = df.withColumn(\"Government  enterprises and investment\", df[\"Government  enterprises and investment\"].cast(IntegerType()))\n",
    "df = df.withColumn(\"Top marginal income tax rate\", df[\"Top marginal income tax rate\"].cast(IntegerType()))\n",
    "df = df.withColumn(\"Legal enforcement of contracts\", df[\"Legal enforcement of contracts\"].cast(IntegerType()))\n",
    "df = df.withColumn(\"Reliability of police\", df[\"Reliability of police\"].cast(IntegerType()))\n",
    "df = df.withColumn(\"Gender Legal Rights Adjustment\", df[\"Gender Legal Rights Adjustment\"].cast(IntegerType()))\n",
    "df = df.withColumn(\"Money growth\", df[\"Money growth\"].cast(IntegerType()))\n",
    "df = df.withColumn(\"Inflation: Most recent year\", df[\"Inflation: Most recent year\"].cast(IntegerType()))\n",
    "df = df.withColumn(\"Compliance costs of importing and exporting\", df[\"Compliance costs of importing and exporting\"].cast(IntegerType()))\n",
    "df = df.withColumn(\"Regulatory trade barriers\", df[\"Regulatory trade barriers\"].cast(IntegerType()))\n",
    "df = df.withColumn(\"Foreign ownership/investment restrictions\", df[\"Foreign ownership/investment restrictions\"].cast(IntegerType()))\n",
    "df = df.withColumn(\"Freedom to trade internationally\", df[\"Freedom to trade internationally\"].cast(IntegerType()))\n",
    "df = df.withColumn(\"Hiring regulations and minimum wage\", df[\"Hiring regulations and minimum wage\"].cast(IntegerType()))\n",
    "df = df.withColumn(\"Labour market regulations\", df[\"Labour market regulations\"].cast(IntegerType()))\n",
    "df = df.withColumn(\"Licensing restrictions\", df[\"Licensing restrictions\"].cast(IntegerType()))\n",
    "df = df.withColumn(\"Business regulations\", df[\"Business regulations\"].cast(IntegerType()))\n",
    "df = df.withColumn(\"ECONOMIC FREEDOM (Score)\", df[\"ECONOMIC FREEDOM (Score)\"].cast(IntegerType()))\n",
    "df = df.withColumn(\"ECONOMIC FREEDOM (Rank)\", df[\"ECONOMIC FREEDOM (Rank)\"].cast(IntegerType()))\n",
    "\n",
    "df.printSchema()"
   ]
  },
  {
   "cell_type": "code",
   "execution_count": 77,
   "metadata": {},
   "outputs": [],
   "source": [
    "import pyspark.sql.functions as F\n",
    "from functools import reduce"
   ]
  },
  {
   "cell_type": "markdown",
   "metadata": {},
   "source": [
    "# 2.4 Data Quality"
   ]
  },
  {
   "cell_type": "code",
   "execution_count": 78,
   "metadata": {},
   "outputs": [],
   "source": [
    "#to find count of null values column-wise\n",
    "df_null_count = reduce(\n",
    "    lambda a, b: a.union(b),\n",
    "    (\n",
    "        df.agg(\n",
    "            F.count(F.when(F.isnull(c), c)).alias('NULL_Count')\n",
    "        ).select(F.lit(c).alias(\"Column_Name\"), \"NULL_Count\")\n",
    "        for c in df.columns\n",
    "    )\n",
    ")"
   ]
  },
  {
   "cell_type": "code",
   "execution_count": 79,
   "metadata": {},
   "outputs": [
    {
     "name": "stdout",
     "output_type": "stream",
     "text": [
      "+--------------------+----------+\n",
      "|         Column_Name|NULL_Count|\n",
      "+--------------------+----------+\n",
      "|                Year|         0|\n",
      "|           Countries|         0|\n",
      "|              Region|         0|\n",
      "|HUMAN FREEDOM (Sc...|         0|\n",
      "|HUMAN FREEDOM (Rank)|         0|\n",
      "|HUMAN FREEDOM (Qu...|         0|\n",
      "|         Rule of Law|         5|\n",
      "|Disappearances, C...|         0|\n",
      "|Women Security & ...|         7|\n",
      "|   Security & Safety|         0|\n",
      "|      Women Movement|         6|\n",
      "|            Movement|         0|\n",
      "|Legal and Regulat...|         7|\n",
      "|State Control ove...|         0|\n",
      "|Expression & Info...|         6|\n",
      "|Same Sex Relation...|         5|\n",
      "|             Divorce|         5|\n",
      "|PERSONAL FREEDOM ...|         0|\n",
      "|PERSONAL FREEDOM ...|         0|\n",
      "|Government  enter...|         0|\n",
      "|Top marginal inco...|         0|\n",
      "|Legal enforcement...|         8|\n",
      "|Reliability of po...|         8|\n",
      "|Gender Legal Righ...|         0|\n",
      "|        Money growth|         0|\n",
      "|Inflation: Most r...|         0|\n",
      "|Compliance costs ...|         0|\n",
      "|Regulatory trade ...|         0|\n",
      "|Foreign ownership...|         0|\n",
      "|Freedom to trade ...|         0|\n",
      "|Hiring regulation...|         0|\n",
      "|Labour market reg...|         0|\n",
      "|Licensing restric...|         0|\n",
      "|Business regulations|         0|\n",
      "|ECONOMIC FREEDOM ...|         0|\n",
      "|ECONOMIC FREEDOM ...|         0|\n",
      "+--------------------+----------+\n",
      "\n"
     ]
    }
   ],
   "source": [
    "df_null_count.show(36)"
   ]
  },
  {
   "cell_type": "code",
   "execution_count": 80,
   "metadata": {},
   "outputs": [
    {
     "data": {
      "text/plain": [
       "36"
      ]
     },
     "execution_count": 80,
     "metadata": {},
     "output_type": "execute_result"
    }
   ],
   "source": [
    "#Counting number of columns of dataset1\n",
    "len(df.columns)"
   ]
  },
  {
   "cell_type": "markdown",
   "metadata": {},
   "source": [
    "# 3.3 Constructing new Data\n"
   ]
  },
  {
   "cell_type": "code",
   "execution_count": 81,
   "metadata": {},
   "outputs": [
    {
     "name": "stdout",
     "output_type": "stream",
     "text": [
      "+--------------+\n",
      "|Security_total|\n",
      "+--------------+\n",
      "|          null|\n",
      "|          null|\n",
      "|          null|\n",
      "|          null|\n",
      "|          null|\n",
      "|          null|\n",
      "|          null|\n",
      "|            19|\n",
      "|            16|\n",
      "|            12|\n",
      "|            12|\n",
      "|            18|\n",
      "|            19|\n",
      "|            19|\n",
      "|            16|\n",
      "|            15|\n",
      "|            19|\n",
      "|            16|\n",
      "|            17|\n",
      "|            15|\n",
      "+--------------+\n",
      "only showing top 20 rows\n",
      "\n"
     ]
    }
   ],
   "source": [
    "#3.3\n",
    "#creating new colum '' for calculating total number of schools\n",
    "df = df.withColumn('Security_total', df['Women Security & Safety']+df['Security & Safety'])\n",
    "df.select('Security_total').show()"
   ]
  },
  {
   "cell_type": "code",
   "execution_count": 52,
   "metadata": {},
   "outputs": [
    {
     "data": {
      "text/plain": [
       "['Year',\n",
       " 'Countries',\n",
       " 'Region',\n",
       " 'HUMAN FREEDOM (Score)',\n",
       " 'HUMAN FREEDOM (Rank)',\n",
       " 'HUMAN FREEDOM (Quartile)',\n",
       " 'Rule of Law',\n",
       " 'Disappearances, Conflicts, and Terrorism',\n",
       " 'Women Security & Safety',\n",
       " 'Security & Safety',\n",
       " 'Women Movement',\n",
       " 'Movement',\n",
       " 'Legal and Regulatory Restrictions',\n",
       " 'State Control over Internet Access',\n",
       " 'Expression & Information',\n",
       " 'Same Sex Relationships',\n",
       " 'Divorce',\n",
       " 'PERSONAL FREEDOM (Score)',\n",
       " 'PERSONAL FREEDOM (Rank)',\n",
       " 'Government  enterprises and investment',\n",
       " 'Top marginal income tax rate',\n",
       " 'Legal enforcement of contracts',\n",
       " 'Reliability of police',\n",
       " 'Gender Legal Rights Adjustment',\n",
       " 'Money growth',\n",
       " 'Inflation: Most recent year',\n",
       " 'Compliance costs of importing and exporting',\n",
       " 'Regulatory trade barriers',\n",
       " 'Foreign ownership/investment restrictions',\n",
       " 'Freedom to trade internationally',\n",
       " 'Hiring regulations and minimum wage',\n",
       " 'Labour market regulations',\n",
       " 'Licensing restrictions',\n",
       " 'Business regulations',\n",
       " 'ECONOMIC FREEDOM (Score)',\n",
       " 'ECONOMIC FREEDOM (Rank)',\n",
       " 'Security_total']"
      ]
     },
     "execution_count": 52,
     "metadata": {},
     "output_type": "execute_result"
    }
   ],
   "source": [
    "df.columns"
   ]
  },
  {
   "cell_type": "markdown",
   "metadata": {},
   "source": [
    "# filling null values with mean"
   ]
  },
  {
   "cell_type": "code",
   "execution_count": 133,
   "metadata": {},
   "outputs": [
    {
     "name": "stdout",
     "output_type": "stream",
     "text": [
      "+----+----------+----------------------+-----------+-----------------------+--------------+---------------------------------+------------------------+-------+------------------------------+---------------------+\n",
      "|Year| Countries|Same Sex Relationships|Rule of Law|Women Security & Safety|Women Movement|Legal and Regulatory Restrictions|Expression & Information|Divorce|Legal enforcement of contracts|Reliability of police|\n",
      "+----+----------+----------------------+-----------+-----------------------+--------------+---------------------------------+------------------------+-------+------------------------------+---------------------+\n",
      "|2017|   Albania|                  null|       null|                   null|          null|                             null|                       8|   null|                             4|                    6|\n",
      "|2017|   Algeria|                  null|       null|                   null|          null|                             null|                       7|   null|                             4|                    6|\n",
      "|2017|    Angola|                  null|       null|                   null|          null|                             null|                       6|   null|                             2|                    3|\n",
      "|2017| Argentina|                  null|       null|                   null|          null|                             null|                       8|   null|                             3|                    3|\n",
      "|2017|   Armenia|                  null|       null|                   null|          null|                             null|                       7|   null|                             5|                    5|\n",
      "|2017| Australia|                     5|          7|                   null|          null|                             null|                       9|     10|                             6|                    8|\n",
      "|2017|   Austria|                    10|          8|                   null|            10|                             null|                       9|     10|                             6|                    8|\n",
      "|2017|Azerbaijan|                     0|          4|                     10|            10|                                5|                       4|      7|                             7|                    6|\n",
      "|2017|   Bahamas|                    10|          6|                     10|            10|                                6|                       8|     10|                             4|                    0|\n",
      "|2017|   Bahrain|                     5|          5|                      5|             2|                                4|                       4|      0|                             4|                    7|\n",
      "+----+----------+----------------------+-----------+-----------------------+--------------+---------------------------------+------------------------+-------+------------------------------+---------------------+\n",
      "only showing top 10 rows\n",
      "\n"
     ]
    }
   ],
   "source": [
    "df.select('Year','Countries','Same Sex Relationships','Rule of Law','Women Security & Safety','Women Movement','Legal and Regulatory Restrictions','Expression & Information','Divorce','Legal enforcement of contracts','Reliability of police').show(10)"
   ]
  },
  {
   "cell_type": "code",
   "execution_count": 139,
   "metadata": {},
   "outputs": [],
   "source": [
    "from pyspark.sql.functions import mean\n",
    "#Finding the mean of column Same Sex Relationships\n",
    "mean_value = df.select(mean(df['Same Sex Relationships'])).collect()\n",
    "\n",
    "#filling the missing value with the mean.\n",
    "mean_Same_Sex_Relationships_value = mean_value[0][0]\n",
    "df_na = df.na.fill(mean_Same_Sex_Relationships_value, subset=['Same Sex Relationships'])"
   ]
  },
  {
   "cell_type": "code",
   "execution_count": 140,
   "metadata": {
    "scrolled": true
   },
   "outputs": [
    {
     "name": "stdout",
     "output_type": "stream",
     "text": [
      "+----+----------+----------------------+\n",
      "|Year| Countries|Same Sex Relationships|\n",
      "+----+----------+----------------------+\n",
      "|2017|   Albania|                     7|\n",
      "|2017|   Algeria|                     7|\n",
      "|2017|    Angola|                     7|\n",
      "|2017| Argentina|                     7|\n",
      "|2017|   Armenia|                     7|\n",
      "|2017| Australia|                     5|\n",
      "|2017|   Austria|                    10|\n",
      "|2017|Azerbaijan|                     0|\n",
      "|2017|   Bahamas|                    10|\n",
      "|2017|   Bahrain|                     5|\n",
      "+----+----------+----------------------+\n",
      "only showing top 10 rows\n",
      "\n"
     ]
    }
   ],
   "source": [
    "df_na.filter(df_na['Year'] == '2017').select('Year','Countries','Same Sex Relationships').show(10)"
   ]
  },
  {
   "cell_type": "code",
   "execution_count": 56,
   "metadata": {},
   "outputs": [
    {
     "data": {
      "text/plain": [
       "37"
      ]
     },
     "execution_count": 56,
     "metadata": {},
     "output_type": "execute_result"
    }
   ],
   "source": [
    "#Counting number of columns of dataset1\n",
    "len(df.columns)"
   ]
  },
  {
   "cell_type": "markdown",
   "metadata": {},
   "source": [
    "# 3.4 integrating data"
   ]
  },
  {
   "cell_type": "code",
   "execution_count": null,
   "metadata": {},
   "outputs": [],
   "source": [
    "#merging 2 data sets\n",
    "#Loading datasets\n",
    "dataset1 = spark.read.csv('HumanHappiness - bdas 1 (Dataset 1).csv', inferSchema=True, header=True)\n",
    "dataset2 = spark.read.csv('HumanHappiness - bdas 1 (Dataset 2).csv', inferSchema=True, header=True)\n",
    "#Printing the types of attributes\n",
    "dataset1.printSchema()\n",
    "dataset2.printSchema()"
   ]
  },
  {
   "cell_type": "code",
   "execution_count": 101,
   "metadata": {},
   "outputs": [
    {
     "data": {
      "text/plain": [
       "1569"
      ]
     },
     "execution_count": 101,
     "metadata": {},
     "output_type": "execute_result"
    }
   ],
   "source": [
    "#Counting number of rows of dataset1\n",
    "dataset1.count()\n"
   ]
  },
  {
   "cell_type": "code",
   "execution_count": 105,
   "metadata": {},
   "outputs": [
    {
     "data": {
      "text/plain": [
       "18"
      ]
     },
     "execution_count": 105,
     "metadata": {},
     "output_type": "execute_result"
    }
   ],
   "source": [
    "#Counting number of columns of dataset1\n",
    "len(dataset1.columns)"
   ]
  },
  {
   "cell_type": "code",
   "execution_count": 106,
   "metadata": {},
   "outputs": [
    {
     "data": {
      "text/plain": [
       "1569"
      ]
     },
     "execution_count": 106,
     "metadata": {},
     "output_type": "execute_result"
    }
   ],
   "source": [
    "#Counting number of rows of dataset2\n",
    "dataset2.count()"
   ]
  },
  {
   "cell_type": "code",
   "execution_count": 107,
   "metadata": {},
   "outputs": [
    {
     "data": {
      "text/plain": [
       "18"
      ]
     },
     "execution_count": 107,
     "metadata": {},
     "output_type": "execute_result"
    }
   ],
   "source": [
    "#Counting number of columns of dataset2\n",
    "len(dataset2.columns)"
   ]
  },
  {
   "cell_type": "code",
   "execution_count": 108,
   "metadata": {},
   "outputs": [
    {
     "name": "stdout",
     "output_type": "stream",
     "text": [
      "+----+--------------------+--------------------+---------------------+--------------------+------------------------+-----------+----------------------------------------+-----------------------+-----------------+--------------+---------------------------------+----------------------------------+------------------------+----------------------+-------+------------------------+-----------------------+\n",
      "|Year|           Countries|              Region|HUMAN FREEDOM (Score)|HUMAN FREEDOM (Rank)|HUMAN FREEDOM (Quartile)|Rule of Law|Disappearances, Conflicts, and Terrorism|Women Security & Safety|Security & Safety|Women Movement|Legal and Regulatory Restrictions|State Control over Internet Access|Expression & Information|Same Sex Relationships|Divorce|PERSONAL FREEDOM (Score)|PERSONAL FREEDOM (Rank)|\n",
      "+----+--------------------+--------------------+---------------------+--------------------+------------------------+-----------+----------------------------------------+-----------------------+-----------------+--------------+---------------------------------+----------------------------------+------------------------+----------------------+-------+------------------------+-----------------------+\n",
      "|2017|             Albania|      Eastern Europe|                 7.84|                38.0|                     1.0|       null|                                    10.0|                   null|      9.276666667|          null|                             null|                              10.0|             8.607142857|                  null|   null|             8.005411457|                     46|\n",
      "|2017|             Algeria|Middle East & Nor...|                 4.99|               155.0|                     4.0|       null|                             8.865434414|                   null|      7.773896003|          null|                             null|                               7.5|             7.311802542|                  null|   null|             5.201489165|                    146|\n",
      "|2017|              Angola|   SubSaharan Africa|                  5.4|               151.0|                     4.0|       null|                             8.876403002|                   null|      8.145554414|          null|                             null|                               7.5|             6.452380952|                  null|   null|             5.979935733|                    121|\n",
      "|2017|           Argentina|Latin America & t...|                 6.86|                77.0|                     2.0|       null|                                     8.5|                   null|             8.82|          null|                             null|                              10.0|             8.738095238|                  null|   null|             8.044599873|                     41|\n",
      "|2017|             Armenia|Caucasus & Centra...|                 7.42|                54.0|                     2.0|       null|                                     9.5|                   null|      9.096666667|          null|                             null|                               7.5|             7.154761905|                  null|   null|             7.145017434|                     72|\n",
      "|2017|           Australia|             Oceania|                 8.62|                 5.0|                     1.0| 7.77627878|                             9.955016951|                   null|      9.878338984|          null|                             null|                              10.0|             9.392857143|                   5.0|   10.0|             9.160532748|                     12|\n",
      "|2017|             Austria|      Western Europe|                 8.48|                13.0|                     1.0|8.171748815|                             9.984844293|                   null|      9.907585478|          10.0|                             null|                              10.0|             9.333333333|                  10.0|   10.0|             9.245685425|                      8|\n",
      "|2017|          Azerbaijan|Caucasus & Centra...|                 6.22|               121.0|                     3.0|4.291270376|                             9.214499299|                   10.0|      9.471499766|          10.0|                      5.461111111|                               7.5|             4.011904762|                   0.0|    7.5|              6.10466079|                    119|\n",
      "|2017|             Bahamas|Latin America & t...|                 7.56|                48.0|                     2.0|6.400790273|                                    10.0|                   10.0|      6.666666667|          10.0|                      6.433333333|                               0.0|             8.895833333|                  10.0|   10.0|             7.871204513|                     48|\n",
      "|2017|             Bahrain|Middle East & Nor...|                 6.63|                95.0|                     3.0|5.898037535|                             7.535230178|                    5.0|      7.441903866|           2.5|                      4.022222222|                               2.5|             4.130952381|                   5.0|    0.0|             5.910895403|                    126|\n",
      "|2017|          Bangladesh|          South Asia|                 5.77|               138.0|                     4.0|3.132892486|                             6.953118287|                    5.0|      7.024372762|          10.0|                      4.211111111|                               7.5|             6.995904411|                   5.0|    0.0|              5.36557342|                    142|\n",
      "|2017|            Barbados|Latin America & t...|                 7.02|                66.0|                     2.0|6.699287431|                                    10.0|                   10.0|              8.6|           2.5|                      7.544444444|                               0.0|                    null|                   0.0|   10.0|             7.589752413|                     57|\n",
      "|2017|             Belarus|      Eastern Europe|                 6.65|                92.0|                     3.0|5.128924941|                                     9.0|                   10.0|      9.188711522|          10.0|                      4.488888889|                               5.0|                    null|                  10.0|   10.0|             6.659028163|                     91|\n",
      "|2017|             Belgium|      Western Europe|                 8.29|                23.0|                     1.0|7.751100945|                             9.981257603|                   10.0|      9.767085868|          10.0|                      6.061111111|                              10.0|                    null|                  10.0|   10.0|             9.067694851|                     14|\n",
      "|2017|              Belize|Latin America & t...|                 6.95|                68.0|                     2.0|4.268872009|                                    10.0|                   10.0|      6.666666667|           2.5|                      8.516666667|                               0.0|                    null|                  10.0|   10.0|             7.118363836|                     74|\n",
      "|2017|               Benin|   SubSaharan Africa|                 6.77|                85.0|                     3.0|4.180309414|                                     9.5|                   7.05|      8.703333333|           2.5|                      9.633333333|                              10.0|                    null|                  10.0|    7.5|             7.469386877|                     62|\n",
      "|2017|              Bhutan|          South Asia|                 6.53|               105.0|                     3.0|6.187897766|                                     9.5|                   10.0|             9.62|          10.0|                      5.088888889|                               0.0|                    null|                   0.0|    2.5|             6.286279997|                    111|\n",
      "|2017|             Bolivia|Latin America & t...|                 6.61|                97.0|                     3.0|3.051401851|                                     9.5|                   8.75|      8.576641171|          10.0|                      8.933333333|                              10.0|             8.416666667|                  10.0|   10.0|              7.07482557|                     75|\n",
      "|2017|Bosnia and Herzeg...|      Eastern Europe|                 7.37|                55.0|                     2.0|5.470080395|                                     9.0|                   8.75|             9.09|          10.0|                      7.127777778|                              10.0|             8.654761905|                  10.0|   10.0|             8.040348141|                     42|\n",
      "|2017|            Botswana|   SubSaharan Africa|                 7.17|                60.0|                     2.0|5.641683932|                                    10.0|                   8.75|      7.578237213|           2.5|                      8.238888889|                               0.0|                  7.8125|                   0.0|    5.0|             6.970084453|                     81|\n",
      "+----+--------------------+--------------------+---------------------+--------------------+------------------------+-----------+----------------------------------------+-----------------------+-----------------+--------------+---------------------------------+----------------------------------+------------------------+----------------------+-------+------------------------+-----------------------+\n",
      "only showing top 20 rows\n",
      "\n"
     ]
    }
   ],
   "source": [
    "#Appending two datasets\n",
    "concat = dataset1.union(dataset2)\n",
    "concat.show()"
   ]
  },
  {
   "cell_type": "markdown",
   "metadata": {},
   "source": [
    "# 3.1 Data Selection"
   ]
  },
  {
   "cell_type": "code",
   "execution_count": 110,
   "metadata": {},
   "outputs": [
    {
     "data": {
      "text/plain": [
       "['Year',\n",
       " 'Countries',\n",
       " 'Region',\n",
       " 'HUMAN FREEDOM (Score)',\n",
       " 'HUMAN FREEDOM (Rank)',\n",
       " 'HUMAN FREEDOM (Quartile)',\n",
       " 'Rule of Law',\n",
       " 'Disappearances, Conflicts, and Terrorism',\n",
       " 'Women Security & Safety',\n",
       " 'Security & Safety',\n",
       " 'Women Movement',\n",
       " 'Legal and Regulatory Restrictions',\n",
       " 'State Control over Internet Access',\n",
       " 'Expression & Information',\n",
       " 'Same Sex Relationships',\n",
       " 'Divorce',\n",
       " 'PERSONAL FREEDOM (Score)',\n",
       " 'PERSONAL FREEDOM (Rank)',\n",
       " 'Government  enterprises and investment',\n",
       " 'Top marginal income tax rate',\n",
       " 'Legal enforcement of contracts',\n",
       " 'Gender Legal Rights Adjustment',\n",
       " 'Money growth',\n",
       " 'Inflation: Most recent year',\n",
       " 'Compliance costs of importing and exporting',\n",
       " 'Regulatory trade barriers',\n",
       " 'Foreign ownership/investment restrictions',\n",
       " 'Freedom to trade internationally',\n",
       " 'Hiring regulations and minimum wage',\n",
       " 'Labour market regulations',\n",
       " 'Business regulations',\n",
       " 'ECONOMIC FREEDOM (Score)',\n",
       " 'ECONOMIC FREEDOM (Rank)',\n",
       " 'Security_total']"
      ]
     },
     "execution_count": 110,
     "metadata": {},
     "output_type": "execute_result"
    }
   ],
   "source": [
    "#Dropping column 'id'\n",
    "df.drop('Movement', 'Reliability of police', 'Licensing restrictions').columns\n"
   ]
  },
  {
   "cell_type": "code",
   "execution_count": 119,
   "metadata": {},
   "outputs": [],
   "source": []
  },
  {
   "cell_type": "code",
   "execution_count": null,
   "metadata": {},
   "outputs": [],
   "source": []
  }
 ],
 "metadata": {
  "kernelspec": {
   "display_name": "Python 3",
   "language": "python",
   "name": "python3"
  },
  "language_info": {
   "codemirror_mode": {
    "name": "ipython",
    "version": 3
   },
   "file_extension": ".py",
   "mimetype": "text/x-python",
   "name": "python",
   "nbconvert_exporter": "python",
   "pygments_lexer": "ipython3",
   "version": "3.5.2"
  }
 },
 "nbformat": 4,
 "nbformat_minor": 2
}
