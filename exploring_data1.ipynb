{
 "cells": [
  {
   "cell_type": "code",
   "execution_count": 2,
   "metadata": {},
   "outputs": [],
   "source": [
    "import findspark\n",
    "findspark.init('/home/ubuntu/spark-2.1.1-bin-hadoop2.7')\n",
    "import pyspark\n",
    "from pyspark.sql import SparkSession\n",
    "spark = SparkSession.builder.appName('BDAS').getOrCreate()"
   ]
  },
  {
   "cell_type": "code",
   "execution_count": 7,
   "metadata": {},
   "outputs": [],
   "source": [
    "df = spark.read.load(\"./finalEdited-HumanHappiness - bdas.csv\", format=\"csv\", header=\"true\")"
   ]
  },
  {
   "cell_type": "code",
   "execution_count": 8,
   "metadata": {},
   "outputs": [
    {
     "name": "stdout",
     "output_type": "stream",
     "text": [
      "+----+--------------------+--------------------+---------------------+--------------------+------------------------+-----------+----------------------------------------+-----------------------+-----------------+--------------+-----------+---------------------------------+----------------------------------+------------------------+----------------------+-------+------------------------+-----------------------+--------------------------------------+----------------------------+------------------------------+---------------------+------------------------------+------------+---------------------------+-------------------------------------------+-------------------------+-----------------------------------------+--------------------------------+-----------------------------------+-------------------------+----------------------+--------------------+------------------------+-----------------------+\n",
      "|Year|           Countries|              Region|HUMAN FREEDOM (Score)|HUMAN FREEDOM (Rank)|HUMAN FREEDOM (Quartile)|Rule of Law|Disappearances, Conflicts, and Terrorism|Women Security & Safety|Security & Safety|Women Movement|   Movement|Legal and Regulatory Restrictions|State Control over Internet Access|Expression & Information|Same Sex Relationships|Divorce|PERSONAL FREEDOM (Score)|PERSONAL FREEDOM (Rank)|Government  enterprises and investment|Top marginal income tax rate|Legal enforcement of contracts|Reliability of police|Gender Legal Rights Adjustment|Money growth|Inflation: Most recent year|Compliance costs of importing and exporting|Regulatory trade barriers|Foreign ownership/investment restrictions|Freedom to trade internationally|Hiring regulations and minimum wage|Labour market regulations|Licensing restrictions|Business regulations|ECONOMIC FREEDOM (Score)|ECONOMIC FREEDOM (Rank)|\n",
      "+----+--------------------+--------------------+---------------------+--------------------+------------------------+-----------+----------------------------------------+-----------------------+-----------------+--------------+-----------+---------------------------------+----------------------------------+------------------------+----------------------+-------+------------------------+-----------------------+--------------------------------------+----------------------------+------------------------------+---------------------+------------------------------+------------+---------------------------+-------------------------------------------+-------------------------+-----------------------------------------+--------------------------------+-----------------------------------+-------------------------+----------------------+--------------------+------------------------+-----------------------+\n",
      "|2017|             Albania|      Eastern Europe|                 7.84|                  38|                       1|5.291751647|                                      10|                   8.75|      9.276666667|            10|         10|                      8.011111111|                                10|             8.607142857|                  null|    7.5|             8.005411457|                     46|                                     8|                           9|                   4.387444055|          6.824168762|                        0.9524| 9.253087019|                9.601214379|                                9.405327776|              7.706503738|                              6.306105852|                     8.343862962|                        5.566666667|              6.938448195|           6.031964728|         6.652097679|                    7.67|                     30|\n",
      "|2017|             Algeria|Middle East & Nor...|                 4.99|                 155|                       4| 3.79608038|                             8.865434414|                      5|      7.773896003|           2.5|5.833333333|                      2.961111111|                               7.5|             7.311802542|                  null|      0|             5.201489165|                    146|                                     0|                           7|                   4.392091659|          6.101120313|                        0.8333| 6.989729298|                8.881776818|                                0.473372781|              2.623042784|                              3.664828738|                     2.774951125|                        5.566666667|              5.418019148|           8.687187496|         5.715304296|                    4.77|                    159|\n",
      "|2017|              Angola|   SubSaharan Africa|                  5.4|                 151|                       4|3.411902803|                             8.876403002|                    7.5|      8.145554414|            10|6.666666667|                      7.455555556|                               7.5|             6.452380952|                  null|      5|             5.979935733|                    121|                                     6|                          10|                   2.302200397|           3.36206913|                        0.8095| 9.440197116|                3.661662772|                                2.514792899|              3.721164574|                               2.94691933|                     3.209363481|                                 10|              5.373491932|           8.096956912|         4.877379454|                    4.83|                    158|\n",
      "|2017|           Argentina|Latin America & t...|                 6.86|                  77|                       2|5.744791027|                                     8.5|                     10|             8.82|            10|         10|                             6.85|                                10|             8.738095238|                  null|     10|             8.044599873|                     41|                                     6|                           7|                   3.632871823|          3.702923656|                        0.7857| 5.011968979|                       4.86|                                 5.15562923|              4.894951737|                              5.358169476|                     6.548451324|                        2.766666667|              5.134506481|           5.351657424|          5.71906252|                    5.67|                    147|\n",
      "|2017|             Armenia|Caucasus & Centra...|                 7.42|                  54|                       2| 4.93260942|                                     9.5|                   8.75|      9.096666667|            10|8.333333333|                      5.088888889|                               7.5|             7.154761905|                  null|    7.5|             7.145017434|                     72|                                     8|                           5|                   5.196692523|          5.844934782|                             1| 8.555126573|                9.806089346|                                9.028408741|              7.358116018|                               5.10837853|                     8.203945164|                        6.666666667|              6.412287505|           9.318707386|         6.947624104|                     7.7|                     27|\n",
      "|2017|           Australia|             Oceania|                 8.62|                   5|                       1| 7.77627878|                             9.955016951|                     10|      9.878338984|            10|         10|                      8.938888889|                                10|             9.392857143|                     -|     10|             9.160532748|                     12|                                    10|                           6|                   6.025331188|          8.616040151|                             1| 8.954497731|                9.610270518|                                8.422491892|              7.547421626|                              6.853331724|                     7.562078349|                                8.9|              7.721704675|           8.944749093|         8.049348386|                    8.07|                      9|\n",
      "|2017|             Austria|      Western Europe|                 8.48|                  13|                       1|8.171748815|                             9.984844293|                     10|      9.907585478|            10|         10|                      5.644444444|                                10|             9.333333333|                     -|     10|             9.245685425|                      8|                                    10|                           4|                   6.220992578|          8.463282188|                             1| 8.224760081|                9.583746283|                                9.963313765|              8.241175625|                              6.899639766|                     8.093257051|                                8.9|              5.615307918|           7.296116368|         7.498820056|                    7.71|                     26|\n",
      "|2017|          Azerbaijan|Caucasus & Centra...|                 6.22|                 121|                       3|4.291270376|                             9.214499299|                     10|      9.471499766|            10|8.333333333|                      5.461111111|                               7.5|             4.011904762|                     -|    7.5|              6.10466079|                    119|                                     0|                           9|                   7.252962408|          6.170494557|                        0.6667| 9.185510542|                7.419021759|                                8.210066944|               7.08573778|                              6.226287286|                      7.28912396|                        8.333333333|              6.201494889|           9.024148024|         7.460583483|                    6.34|                    116|\n",
      "|2017|             Bahamas|Latin America & t...|                 7.56|                  48|                       2|6.400790273|                                      10|                     10|      6.666666667|            10|         10|                      6.433333333|                                 0|             8.895833333|                     -|     10|             7.871204513|                     48|                                     7|                          10|                   4.601283035|                    0|                          0.95| 8.859969977|                9.696358599|                                8.105924622|              7.409200517|                                        0|                     6.535609531|                                8.9|              8.361606213|           7.982215016|         7.685912284|                    7.25|                     58|\n",
      "|2017|             Bahrain|Middle East & Nor...|                 6.63|                  95|                       3|5.898037535|                             7.535230178|                      5|      7.441903866|           2.5|4.166666667|                      4.022222222|                               2.5|             4.130952381|                     -|      0|             5.910895403|                    126|                                    10|                          10|                   4.785814418|          7.764705817|                        0.5227| 9.961595769|                9.722531248|                                6.411257372|              6.561866892|                              7.456231912|                     7.416638186|                        8.333333333|              7.791071975|           8.074308493|         8.023765365|                    7.35|                     50|\n",
      "|2017|          Bangladesh|          South Asia|                 5.77|                 138|                       4|3.132892486|                             6.953118287|                      5|      7.024372762|            10|6.666666667|                      4.211111111|                               7.5|             6.995904411|                     5|      0|              5.36557342|                    142|                                     7|                           8|                   0.941148344|          3.904307087|                        0.7619| 9.301663444|                8.859585969|                                          0|              3.130572836|                              5.499794682|                     5.954579092|                                 10|              7.173622907|            6.60992723|          4.96067717|                    6.18|                    123|\n",
      "|2017|            Barbados|Latin America & t...|                 7.02|                  66|                       2|6.699287431|                                      10|                     10|              8.6|           2.5|        7.5|                      7.544444444|                                 0|                   9.125|                     0|     10|             7.589752413|                     57|                                     6|                           7|                   3.803003329|                    0|                         0.881| 6.434800471|                9.067963072|                                5.286997017|              5.286997017|                              6.842255023|                     6.955068799|                                8.9|              8.145757766|           4.999638041|         6.543270114|                    6.45|                    112|\n",
      "|2017|             Belarus|      Eastern Europe|                 6.65|                  92|                       3|5.128924941|                                       9|                     10|      9.188711522|            10|8.333333333|                      4.488888889|                                 5|              5.80952381|                    10|     10|             6.659028163|                     91|                                    10|                          10|                   6.970305125|                    0|                         0.675| 8.398370966|                 8.79363255|                                9.743788381|              7.947535982|                                        0|                      6.77724468|                                 10|              7.188794038|              8.306326|         7.987602227|                    6.64|                     99|\n",
      "|2017|             Belgium|      Western Europe|                 8.29|                  23|                       1|7.751100945|                             9.981257603|                     10|      9.767085868|            10|         10|                      6.061111111|                                10|                    9.75|                    10|     10|             9.067694851|                     14|                                    10|                           2|                   5.565037753|          7.634707689|                             1| 8.493565257|                9.574805828|                                9.963313765|              7.930379325|                              7.854413986|                     8.159225058|                                8.9|               7.37160999|           7.459800675|          7.38239585|                    7.51|                     40|\n",
      "|2017|              Belize|Latin America & t...|                 6.95|                  68|                       2|4.268872009|                                      10|                     10|      6.666666667|           2.5|        7.5|                      8.516666667|                                 0|             8.520833333|                    10|     10|             7.118363836|                     74|                                     4|                           9|                   3.329065561|                    0|                         0.775| 9.453595539|                       9.78|                                 5.82368947|              5.046968147|                              7.822641806|                     6.526278428|                        7.766666667|              7.545078755|           8.843606641|         6.760465283|                    6.78|                     85|\n",
      "|2017|               Benin|   SubSaharan Africa|                 6.77|                  85|                       3|4.180309414|                                     9.5|                   7.05|      8.703333333|           2.5|5.833333333|                      9.633333333|                                10|             8.988095238|                    10|    7.5|             7.469386877|                     62|                                     7|                           4|                   1.068746974|          5.811307033|                        0.7857|  7.19955935|                9.984185831|                                5.155640889|              4.943180903|                              5.217277606|                     6.084105112|                        7.766666667|              6.215474597|           9.479134063|         6.153522594|                    6.08|                    129|\n",
      "|2017|              Bhutan|          South Asia|                 6.53|                 105|                       3|6.187897766|                                     9.5|                     10|             9.62|            10|3.333333333|                      5.088888889|                                 0|                    7.25|                     0|    2.5|             6.286279997|                    111|                                     7|                           9|                   7.365354835|          2.460317612|                        0.9286| 8.673922932|                9.228350054|                                9.501185608|              7.209122667|                              3.942180474|                     6.276396561|                                 10|              7.940399579|           8.471096184|         6.661475086|                    6.77|                     87|\n",
      "|2017|             Bolivia|Latin America & t...|                 6.61|                  97|                       3|3.051401851|                                     9.5|                   8.75|      8.576641171|            10|8.333333333|                      8.933333333|                                10|             8.416666667|                    10|     10|              7.07482557|                     75|                                     0|                          10|                   4.491576292|          2.807519833|                         0.881| 9.807854726|                9.435448389|                                3.045000262|              3.913914376|                              4.038498776|                     7.032863317|                                1.1|              3.835975968|           5.664521697|         3.323844555|                    6.14|                    126|\n",
      "|2017|Bosnia and Herzeg...|      Eastern Europe|                 7.37|                  55|                       2|5.470080395|                                       9|                   8.75|             9.09|            10|8.333333333|                      7.127777778|                                10|             8.654761905|                    10|     10|             8.040348141|                     42|                                     4|                          10|                    3.79305681|          4.251511097|                        0.9286| 8.766542071|                9.766237473|                                9.595859387|              7.407250374|                              4.658517043|                     7.835847135|                        5.566666667|              7.346114678|           7.741898435|         5.140797479|                    6.69|                     92|\n",
      "|2017|            Botswana|   SubSaharan Africa|                 7.17|                  60|                       2|5.641683932|                                      10|                   8.75|      7.578237213|           2.5|        7.5|                      8.238888889|                                 0|                  7.8125|                     0|      5|             6.970084453|                     81|                                     7|                           9|                   3.072296317|          6.064388752|                        0.9524| 9.358700488|                9.338343846|                                9.392902984|              7.466504243|                              6.393007834|                     7.440205773|                                 10|              7.487312186|           9.255260633|         7.013877346|                    7.37|                     49|\n",
      "+----+--------------------+--------------------+---------------------+--------------------+------------------------+-----------+----------------------------------------+-----------------------+-----------------+--------------+-----------+---------------------------------+----------------------------------+------------------------+----------------------+-------+------------------------+-----------------------+--------------------------------------+----------------------------+------------------------------+---------------------+------------------------------+------------+---------------------------+-------------------------------------------+-------------------------+-----------------------------------------+--------------------------------+-----------------------------------+-------------------------+----------------------+--------------------+------------------------+-----------------------+\n",
      "only showing top 20 rows\n",
      "\n"
     ]
    }
   ],
   "source": [
    "#data exploration\n",
    "df.show()\n"
   ]
  },
  {
   "cell_type": "code",
   "execution_count": 9,
   "metadata": {},
   "outputs": [
    {
     "data": {
      "text/plain": [
       "['Year',\n",
       " 'Countries',\n",
       " 'Region',\n",
       " 'HUMAN FREEDOM (Score)',\n",
       " 'HUMAN FREEDOM (Rank)',\n",
       " 'HUMAN FREEDOM (Quartile)',\n",
       " 'Rule of Law',\n",
       " 'Disappearances, Conflicts, and Terrorism',\n",
       " 'Women Security & Safety',\n",
       " 'Security & Safety',\n",
       " 'Women Movement',\n",
       " 'Movement',\n",
       " 'Legal and Regulatory Restrictions',\n",
       " 'State Control over Internet Access',\n",
       " 'Expression & Information',\n",
       " 'Same Sex Relationships',\n",
       " 'Divorce',\n",
       " 'PERSONAL FREEDOM (Score)',\n",
       " 'PERSONAL FREEDOM (Rank)',\n",
       " 'Government  enterprises and investment',\n",
       " 'Top marginal income tax rate',\n",
       " 'Legal enforcement of contracts',\n",
       " 'Reliability of police',\n",
       " 'Gender Legal Rights Adjustment',\n",
       " 'Money growth',\n",
       " 'Inflation: Most recent year',\n",
       " 'Compliance costs of importing and exporting',\n",
       " 'Regulatory trade barriers',\n",
       " 'Foreign ownership/investment restrictions',\n",
       " 'Freedom to trade internationally',\n",
       " 'Hiring regulations and minimum wage',\n",
       " 'Labour market regulations',\n",
       " 'Licensing restrictions',\n",
       " 'Business regulations',\n",
       " 'ECONOMIC FREEDOM (Score)',\n",
       " 'ECONOMIC FREEDOM (Rank)']"
      ]
     },
     "execution_count": 9,
     "metadata": {},
     "output_type": "execute_result"
    }
   ],
   "source": [
    "df.columns"
   ]
  },
  {
   "cell_type": "code",
   "execution_count": 10,
   "metadata": {},
   "outputs": [
    {
     "name": "stdout",
     "output_type": "stream",
     "text": [
      "+-------+------------------+---------+--------------------+---------------------+--------------------+------------------------+------------------+----------------------------------------+-----------------------+-----------------+-----------------+------------------+---------------------------------+----------------------------------+------------------------+----------------------+------------------+------------------------+-----------------------+--------------------------------------+----------------------------+------------------------------+---------------------+------------------------------+------------------+---------------------------+-------------------------------------------+-------------------------+-----------------------------------------+--------------------------------+-----------------------------------+-------------------------+----------------------+--------------------+------------------------+-----------------------+\n",
      "|summary|              Year|Countries|              Region|HUMAN FREEDOM (Score)|HUMAN FREEDOM (Rank)|HUMAN FREEDOM (Quartile)|       Rule of Law|Disappearances, Conflicts, and Terrorism|Women Security & Safety|Security & Safety|   Women Movement|          Movement|Legal and Regulatory Restrictions|State Control over Internet Access|Expression & Information|Same Sex Relationships|           Divorce|PERSONAL FREEDOM (Score)|PERSONAL FREEDOM (Rank)|Government  enterprises and investment|Top marginal income tax rate|Legal enforcement of contracts|Reliability of police|Gender Legal Rights Adjustment|      Money growth|Inflation: Most recent year|Compliance costs of importing and exporting|Regulatory trade barriers|Foreign ownership/investment restrictions|Freedom to trade internationally|Hiring regulations and minimum wage|Labour market regulations|Licensing restrictions|Business regulations|ECONOMIC FREEDOM (Score)|ECONOMIC FREEDOM (Rank)|\n",
      "+-------+------------------+---------+--------------------+---------------------+--------------------+------------------------+------------------+----------------------------------------+-----------------------+-----------------+-----------------+------------------+---------------------------------+----------------------------------+------------------------+----------------------+------------------+------------------------+-----------------------+--------------------------------------+----------------------------+------------------------------+---------------------+------------------------------+------------------+---------------------------+-------------------------------------------+-------------------------+-----------------------------------------+--------------------------------+-----------------------------------+-------------------------+----------------------+--------------------+------------------------+-----------------------+\n",
      "|  count|              1569|     1569|                1569|                 1569|                1569|                    1569|              1569|                                    1569|                   1569|             1569|             1569|              1569|                             1569|                              1569|                    1569|                  1564|              1569|                    1569|                   1569|                                  1569|                        1569|                          1569|                 1569|                          1569|              1569|                       1569|                                       1569|                     1569|                                     1569|                            1569|                               1569|                     1569|                  1569|                1569|                    1569|                   1569|\n",
      "|   mean|2012.5838113448056|     null|                null|    6.863149820104525|   75.75780752071383|      2.4359464627151053| 5.175722687349915|                       8.675747841610587|      7.854397705544931|7.954735504124266|7.562141491395794|  7.69226683660929|                7.001596912420012|                 6.859464627151691|       7.725947063063099|    7.1648492623476585| 7.227533460803059|       7.033205288655199|      75.98024219247928|                      6.07138304652645|          7.0573613766730405|             4.283325869952198|    5.062500110864888|            0.8862738859719625| 8.598480420212235|           8.84313211344488|                          6.446762932535365|        5.998549546995541|                        5.450840356403443|               6.934980483012118|                  6.263140004493307|        6.304019218989789|     7.500461428565328|   6.206659466355005|       6.685682766297011|       75.7163798597833|\n",
      "| stddev|2.8534830140254956|     null|                null|   1.3297674649773994|   45.59914326627794|       1.161623989529443|1.6972816077319897|                      1.9496992323517779|     2.5495359791688297| 1.76913405339277|3.570329402694226|2.8031922139762018|                2.124553892180889|                 3.989262067694677|        1.77342504281151|     4.148915578159696|3.6999009358716095|      1.6593849440107105|      45.61174596070801|                     3.166913321591325|          2.7535734523917212|            1.7682362856654503|    2.434470949271373|           0.13652702832793803|1.0374325596538498|         1.4189639342461404|                         2.8070401139056296|       1.9367056740617101|                       2.0482059881275885|              1.4113688508743432|                  2.951887072077683|       1.6815563990547895|    2.1732375033666615|  1.4928202623052547|      1.1827777052342643|     45.595554441693196|\n",
      "|    min|              2008|  Albania|Caucasus & Centra...|          1.144439617|                   0|                       0|                 0|                             0.908745131|                      0|      0.915005069|                0|                 0|                                0|                                 0|             0.777473916|                     -|                 0|             0.622627625|                      0|                                     0|                           0|                             0|                    0|                    0.35080471|       3.833582146|                         10|                                          0|                        0|                                        0|                     1.028548698|                                  0|              0.165763631|                     0|         0.476910196|             1.305508135|                      0|\n",
      "|    max|              2017| Zimbabwe|      Western Europe|                 9.12|                  99|                       4|              8.72|                             9.999667599|                   9.75|      9.975522638|              7.5|       9.166666667|                      9.861111111|                               7.5|             9.797619048|                     5|               7.5|             9.560932011|                     99|                                     8|                           9|                   8.105416731|          9.688242277|                             1|       9.999030735|                    9.99918|                                9.963313765|              9.728995482|                                 9.252879|                     9.561530003|                               9.45|                    9.725|           9.999638041|         9.272599991|                    9.11|                     99|\n",
      "+-------+------------------+---------+--------------------+---------------------+--------------------+------------------------+------------------+----------------------------------------+-----------------------+-----------------+-----------------+------------------+---------------------------------+----------------------------------+------------------------+----------------------+------------------+------------------------+-----------------------+--------------------------------------+----------------------------+------------------------------+---------------------+------------------------------+------------------+---------------------------+-------------------------------------------+-------------------------+-----------------------------------------+--------------------------------+-----------------------------------+-------------------------+----------------------+--------------------+------------------------+-----------------------+\n",
      "\n"
     ]
    }
   ],
   "source": [
    "df.describe().show()"
   ]
  },
  {
   "cell_type": "code",
   "execution_count": 11,
   "metadata": {},
   "outputs": [
    {
     "name": "stdout",
     "output_type": "stream",
     "text": [
      "root\n",
      " |-- Year: string (nullable = true)\n",
      " |-- Countries: string (nullable = true)\n",
      " |-- Region: string (nullable = true)\n",
      " |-- HUMAN FREEDOM (Score): string (nullable = true)\n",
      " |-- HUMAN FREEDOM (Rank): string (nullable = true)\n",
      " |-- HUMAN FREEDOM (Quartile): string (nullable = true)\n",
      " |-- Rule of Law: string (nullable = true)\n",
      " |-- Disappearances, Conflicts, and Terrorism: string (nullable = true)\n",
      " |-- Women Security & Safety: string (nullable = true)\n",
      " |-- Security & Safety: string (nullable = true)\n",
      " |-- Women Movement: string (nullable = true)\n",
      " |-- Movement: string (nullable = true)\n",
      " |-- Legal and Regulatory Restrictions: string (nullable = true)\n",
      " |-- State Control over Internet Access: string (nullable = true)\n",
      " |-- Expression & Information: string (nullable = true)\n",
      " |-- Same Sex Relationships: string (nullable = true)\n",
      " |-- Divorce: string (nullable = true)\n",
      " |-- PERSONAL FREEDOM (Score): string (nullable = true)\n",
      " |-- PERSONAL FREEDOM (Rank): string (nullable = true)\n",
      " |-- Government  enterprises and investment: string (nullable = true)\n",
      " |-- Top marginal income tax rate: string (nullable = true)\n",
      " |-- Legal enforcement of contracts: string (nullable = true)\n",
      " |-- Reliability of police: string (nullable = true)\n",
      " |-- Gender Legal Rights Adjustment: string (nullable = true)\n",
      " |-- Money growth: string (nullable = true)\n",
      " |-- Inflation: Most recent year: string (nullable = true)\n",
      " |-- Compliance costs of importing and exporting: string (nullable = true)\n",
      " |-- Regulatory trade barriers: string (nullable = true)\n",
      " |-- Foreign ownership/investment restrictions: string (nullable = true)\n",
      " |-- Freedom to trade internationally: string (nullable = true)\n",
      " |-- Hiring regulations and minimum wage: string (nullable = true)\n",
      " |-- Labour market regulations: string (nullable = true)\n",
      " |-- Licensing restrictions: string (nullable = true)\n",
      " |-- Business regulations: string (nullable = true)\n",
      " |-- ECONOMIC FREEDOM (Score): string (nullable = true)\n",
      " |-- ECONOMIC FREEDOM (Rank): string (nullable = true)\n",
      "\n"
     ]
    }
   ],
   "source": [
    "df.printSchema()"
   ]
  },
  {
   "cell_type": "code",
   "execution_count": 13,
   "metadata": {},
   "outputs": [
    {
     "name": "stdout",
     "output_type": "stream",
     "text": [
      "Records: 1569\n",
      "root\n",
      " |-- Year: string (nullable = true)\n",
      " |-- Countries: string (nullable = true)\n",
      " |-- Region: string (nullable = true)\n",
      " |-- HUMAN FREEDOM (Score): string (nullable = true)\n",
      " |-- HUMAN FREEDOM (Rank): string (nullable = true)\n",
      " |-- HUMAN FREEDOM (Quartile): string (nullable = true)\n",
      " |-- Rule of Law: string (nullable = true)\n",
      " |-- Disappearances, Conflicts, and Terrorism: string (nullable = true)\n",
      " |-- Women Security & Safety: string (nullable = true)\n",
      " |-- Security & Safety: string (nullable = true)\n",
      " |-- Women Movement: string (nullable = true)\n",
      " |-- Movement: string (nullable = true)\n",
      " |-- Legal and Regulatory Restrictions: string (nullable = true)\n",
      " |-- State Control over Internet Access: string (nullable = true)\n",
      " |-- Expression & Information: string (nullable = true)\n",
      " |-- Same Sex Relationships: string (nullable = true)\n",
      " |-- Divorce: string (nullable = true)\n",
      " |-- PERSONAL FREEDOM (Score): string (nullable = true)\n",
      " |-- PERSONAL FREEDOM (Rank): string (nullable = true)\n",
      " |-- Government  enterprises and investment: string (nullable = true)\n",
      " |-- Top marginal income tax rate: string (nullable = true)\n",
      " |-- Legal enforcement of contracts: string (nullable = true)\n",
      " |-- Reliability of police: string (nullable = true)\n",
      " |-- Gender Legal Rights Adjustment: string (nullable = true)\n",
      " |-- Money growth: string (nullable = true)\n",
      " |-- Inflation: Most recent year: string (nullable = true)\n",
      " |-- Compliance costs of importing and exporting: string (nullable = true)\n",
      " |-- Regulatory trade barriers: string (nullable = true)\n",
      " |-- Foreign ownership/investment restrictions: string (nullable = true)\n",
      " |-- Freedom to trade internationally: string (nullable = true)\n",
      " |-- Hiring regulations and minimum wage: string (nullable = true)\n",
      " |-- Labour market regulations: string (nullable = true)\n",
      " |-- Licensing restrictions: string (nullable = true)\n",
      " |-- Business regulations: string (nullable = true)\n",
      " |-- ECONOMIC FREEDOM (Score): string (nullable = true)\n",
      " |-- ECONOMIC FREEDOM (Rank): string (nullable = true)\n",
      "\n"
     ]
    }
   ],
   "source": [
    "print(\"Records: {}\".format(df.count()))\n",
    "df.printSchema()"
   ]
  },
  {
   "cell_type": "code",
   "execution_count": 33,
   "metadata": {},
   "outputs": [
    {
     "name": "stdout",
     "output_type": "stream",
     "text": [
      "+--------------------+---------------------+--------------------+----------------------+\n",
      "|           Countries|HUMAN FREEDOM (Score)|HUMAN FREEDOM (Rank)|Same Sex Relationships|\n",
      "+--------------------+---------------------+--------------------+----------------------+\n",
      "|             Albania|                 7.84|                  38|                  null|\n",
      "|             Algeria|                 4.99|                 155|                  null|\n",
      "|              Angola|                  5.4|                 151|                  null|\n",
      "|           Argentina|                 6.86|                  77|                  null|\n",
      "|             Armenia|                 7.42|                  54|                  null|\n",
      "|           Australia|                 8.62|                   5|                     -|\n",
      "|             Austria|                 8.48|                  13|                     -|\n",
      "|          Azerbaijan|                 6.22|                 121|                     -|\n",
      "|             Bahamas|                 7.56|                  48|                     -|\n",
      "|             Bahrain|                 6.63|                  95|                     -|\n",
      "|          Bangladesh|                 5.77|                 138|                     5|\n",
      "|            Barbados|                 7.02|                  66|                     0|\n",
      "|             Belarus|                 6.65|                  92|                    10|\n",
      "|             Belgium|                 8.29|                  23|                    10|\n",
      "|              Belize|                 6.95|                  68|                    10|\n",
      "|               Benin|                 6.77|                  85|                    10|\n",
      "|              Bhutan|                 6.53|                 105|                     0|\n",
      "|             Bolivia|                 6.61|                  97|                    10|\n",
      "|Bosnia and Herzeg...|                 7.37|                  55|                    10|\n",
      "|            Botswana|                 7.17|                  60|                     0|\n",
      "+--------------------+---------------------+--------------------+----------------------+\n",
      "only showing top 20 rows\n",
      "\n"
     ]
    }
   ],
   "source": [
    "df.select(['Countries','HUMAN FREEDOM (Score)','HUMAN FREEDOM (Rank)','Same Sex Relationships']).show()"
   ]
  },
  {
   "cell_type": "code",
   "execution_count": 34,
   "metadata": {},
   "outputs": [
    {
     "data": {
      "text/plain": [
       "1569"
      ]
     },
     "execution_count": 34,
     "metadata": {},
     "output_type": "execute_result"
    }
   ],
   "source": [
    "df.count()"
   ]
  },
  {
   "cell_type": "code",
   "execution_count": null,
   "metadata": {},
   "outputs": [],
   "source": []
  }
 ],
 "metadata": {
  "kernelspec": {
   "display_name": "Python 3",
   "language": "python",
   "name": "python3"
  },
  "language_info": {
   "codemirror_mode": {
    "name": "ipython",
    "version": 3
   },
   "file_extension": ".py",
   "mimetype": "text/x-python",
   "name": "python",
   "nbconvert_exporter": "python",
   "pygments_lexer": "ipython3",
   "version": "3.5.2"
  }
 },
 "nbformat": 4,
 "nbformat_minor": 2
}
