{
 "cells": [
  {
   "cell_type": "code",
   "execution_count": 2,
   "metadata": {},
   "outputs": [],
   "source": [
    "import findspark\n",
    "findspark.init('/home/ubuntu/spark-2.1.1-bin-hadoop2.7')\n",
    "import pyspark\n",
    "from pyspark.sql import SparkSession\n",
    "spark = SparkSession.builder.appName('BDAS').getOrCreate()"
   ]
  },
  {
   "cell_type": "code",
   "execution_count": 3,
   "metadata": {},
   "outputs": [],
   "source": [
    "df = spark.read.load(\"./Pre-HumanHappiness - bdas 1.csv\", format=\"csv\", header=True, inferSchema=True)"
   ]
  },
  {
   "cell_type": "code",
   "execution_count": 4,
   "metadata": {},
   "outputs": [
    {
     "data": {
      "text/plain": [
       "1542"
      ]
     },
     "execution_count": 4,
     "metadata": {},
     "output_type": "execute_result"
    }
   ],
   "source": [
    "df.na.drop().count()"
   ]
  },
  {
   "cell_type": "code",
   "execution_count": 5,
   "metadata": {
    "scrolled": true
   },
   "outputs": [
    {
     "data": {
      "text/plain": [
       "DataFrame[Year: int, Countries: string, Region: string, HUMAN FREEDOM (Score): double, HUMAN FREEDOM (Rank): int, HUMAN FREEDOM (Quartile): int, Rule of Law: double, Disappearances, Conflicts, and Terrorism: double, Women Security & Safety: double, Security & Safety: double, Women Movement: double, Movement: double, Legal and Regulatory Restrictions: double, State Control over Internet Access: double, Expression & Information: double, Same Sex Relationships: int, Divorce: double, PERSONAL FREEDOM (Score): double, PERSONAL FREEDOM (Rank): int, Government  enterprises and investment: int, Top marginal income tax rate: int, Legal enforcement of contracts: double, Reliability of police: double, Gender Legal Rights Adjustment: double, Money growth: double, Inflation: Most recent year: double, Compliance costs of importing and exporting: double, Regulatory trade barriers: double, Foreign ownership/investment restrictions: double, Freedom to trade internationally: double, Hiring regulations and minimum wage: double, Labour market regulations: double, Licensing restrictions: double, Business regulations: double, ECONOMIC FREEDOM (Score): double, ECONOMIC FREEDOM (Rank): int]"
      ]
     },
     "execution_count": 5,
     "metadata": {},
     "output_type": "execute_result"
    }
   ],
   "source": [
    "from pyspark.sql import functions as psf\n",
    "df.filter(psf.col(\"Rule of Law\").isNotNull())"
   ]
  },
  {
   "cell_type": "code",
   "execution_count": 6,
   "metadata": {},
   "outputs": [
    {
     "data": {
      "text/plain": [
       "<Figure size 640x480 with 1 Axes>"
      ]
     },
     "metadata": {},
     "output_type": "display_data"
    }
   ],
   "source": [
    "import matplotlib as mpl\n",
    "import matplotlib.pyplot as plt\n",
    "\n",
    "# for some basic operatios\n",
    "import numpy as np \n",
    "import pandas as pd \n",
    "\n",
    "\n",
    "# for visualizations\n",
    "import matplotlib.pyplot as plt\n",
    "\n",
    "gArr = np.array(df.select('Business regulations').collect())\n",
    "plt.hist(gArr)\n",
    "plt.show()"
   ]
  },
  {
   "cell_type": "markdown",
   "metadata": {},
   "source": [
    "# 3.5 Formating data"
   ]
  },
  {
   "cell_type": "code",
   "execution_count": 7,
   "metadata": {},
   "outputs": [
    {
     "name": "stdout",
     "output_type": "stream",
     "text": [
      "root\n",
      " |-- Year: integer (nullable = true)\n",
      " |-- Countries: string (nullable = true)\n",
      " |-- Region: string (nullable = true)\n",
      " |-- HUMAN FREEDOM (Score): integer (nullable = true)\n",
      " |-- HUMAN FREEDOM (Rank): integer (nullable = true)\n",
      " |-- HUMAN FREEDOM (Quartile): integer (nullable = true)\n",
      " |-- Rule of Law: integer (nullable = true)\n",
      " |-- Disappearances, Conflicts, and Terrorism: integer (nullable = true)\n",
      " |-- Women Security & Safety: integer (nullable = true)\n",
      " |-- Security & Safety: integer (nullable = true)\n",
      " |-- Women Movement: integer (nullable = true)\n",
      " |-- Movement: integer (nullable = true)\n",
      " |-- Legal and Regulatory Restrictions: integer (nullable = true)\n",
      " |-- State Control over Internet Access: integer (nullable = true)\n",
      " |-- Expression & Information: integer (nullable = true)\n",
      " |-- Same Sex Relationships: integer (nullable = true)\n",
      " |-- Divorce: integer (nullable = true)\n",
      " |-- PERSONAL FREEDOM (Score): integer (nullable = true)\n",
      " |-- PERSONAL FREEDOM (Rank): integer (nullable = true)\n",
      " |-- Government  enterprises and investment: integer (nullable = true)\n",
      " |-- Top marginal income tax rate: integer (nullable = true)\n",
      " |-- Legal enforcement of contracts: integer (nullable = true)\n",
      " |-- Reliability of police: integer (nullable = true)\n",
      " |-- Gender Legal Rights Adjustment: integer (nullable = true)\n",
      " |-- Money growth: integer (nullable = true)\n",
      " |-- Inflation: Most recent year: integer (nullable = true)\n",
      " |-- Compliance costs of importing and exporting: integer (nullable = true)\n",
      " |-- Regulatory trade barriers: integer (nullable = true)\n",
      " |-- Foreign ownership/investment restrictions: integer (nullable = true)\n",
      " |-- Freedom to trade internationally: integer (nullable = true)\n",
      " |-- Hiring regulations and minimum wage: integer (nullable = true)\n",
      " |-- Labour market regulations: integer (nullable = true)\n",
      " |-- Licensing restrictions: integer (nullable = true)\n",
      " |-- Business regulations: integer (nullable = true)\n",
      " |-- ECONOMIC FREEDOM (Score): integer (nullable = true)\n",
      " |-- ECONOMIC FREEDOM (Rank): integer (nullable = true)\n",
      "\n"
     ]
    }
   ],
   "source": [
    "#Changing datatype of numeric values (from string to int)\n",
    "from pyspark.sql.types import IntegerType\n",
    "df = df.withColumn(\"Year\", df[\"Year\"].cast(IntegerType()))\n",
    "df = df.withColumn(\"HUMAN FREEDOM (Score)\", df[\"HUMAN FREEDOM (Score)\"].cast(IntegerType()))\n",
    "df = df.withColumn(\"HUMAN FREEDOM (Rank)\", df[\"HUMAN FREEDOM (Rank)\"].cast(IntegerType()))\n",
    "df = df.withColumn(\"HUMAN FREEDOM (Quartile)\", df[\"HUMAN FREEDOM (Quartile)\"].cast(IntegerType()))\n",
    "df = df.withColumn(\"Rule of Law\", df[\"Rule of Law\"].cast(IntegerType()))\n",
    "df = df.withColumn(\"Disappearances, Conflicts, and Terrorism\", df[\"Disappearances, Conflicts, and Terrorism\"].cast(IntegerType()))\n",
    "df = df.withColumn(\"Women Security & Safety\", df[\"Women Security & Safety\"].cast(IntegerType()))\n",
    "df = df.withColumn(\"Security & Safety\", df[\"Security & Safety\"].cast(IntegerType()))\n",
    "df = df.withColumn(\"Women Movement\", df[\"Women Movement\"].cast(IntegerType()))\n",
    "df = df.withColumn(\"Movement\", df[\"Movement\"].cast(IntegerType()))\n",
    "df = df.withColumn(\"Legal and Regulatory Restrictions\", df[\"Legal and Regulatory Restrictions\"].cast(IntegerType()))\n",
    "df = df.withColumn(\"State Control over Internet Access\", df[\"State Control over Internet Access\"].cast(IntegerType()))\n",
    "df = df.withColumn(\"Expression & Information\", df[\"Expression & Information\"].cast(IntegerType()))\n",
    "df = df.withColumn(\"Same Sex Relationships\", df[\"Same Sex Relationships\"].cast(IntegerType()))\n",
    "df = df.withColumn(\"Divorce\", df[\"Divorce\"].cast(IntegerType()))\n",
    "df = df.withColumn(\"PERSONAL FREEDOM (Score)\", df[\"PERSONAL FREEDOM (Score)\"].cast(IntegerType()))\n",
    "df = df.withColumn(\"PERSONAL FREEDOM (Rank)\", df[\"PERSONAL FREEDOM (Rank)\"].cast(IntegerType()))\n",
    "df = df.withColumn(\"Government  enterprises and investment\", df[\"Government  enterprises and investment\"].cast(IntegerType()))\n",
    "df = df.withColumn(\"Top marginal income tax rate\", df[\"Top marginal income tax rate\"].cast(IntegerType()))\n",
    "df = df.withColumn(\"Legal enforcement of contracts\", df[\"Legal enforcement of contracts\"].cast(IntegerType()))\n",
    "df = df.withColumn(\"Reliability of police\", df[\"Reliability of police\"].cast(IntegerType()))\n",
    "df = df.withColumn(\"Gender Legal Rights Adjustment\", df[\"Gender Legal Rights Adjustment\"].cast(IntegerType()))\n",
    "df = df.withColumn(\"Money growth\", df[\"Money growth\"].cast(IntegerType()))\n",
    "df = df.withColumn(\"Inflation: Most recent year\", df[\"Inflation: Most recent year\"].cast(IntegerType()))\n",
    "df = df.withColumn(\"Compliance costs of importing and exporting\", df[\"Compliance costs of importing and exporting\"].cast(IntegerType()))\n",
    "df = df.withColumn(\"Regulatory trade barriers\", df[\"Regulatory trade barriers\"].cast(IntegerType()))\n",
    "df = df.withColumn(\"Foreign ownership/investment restrictions\", df[\"Foreign ownership/investment restrictions\"].cast(IntegerType()))\n",
    "df = df.withColumn(\"Freedom to trade internationally\", df[\"Freedom to trade internationally\"].cast(IntegerType()))\n",
    "df = df.withColumn(\"Hiring regulations and minimum wage\", df[\"Hiring regulations and minimum wage\"].cast(IntegerType()))\n",
    "df = df.withColumn(\"Labour market regulations\", df[\"Labour market regulations\"].cast(IntegerType()))\n",
    "df = df.withColumn(\"Licensing restrictions\", df[\"Licensing restrictions\"].cast(IntegerType()))\n",
    "df = df.withColumn(\"Business regulations\", df[\"Business regulations\"].cast(IntegerType()))\n",
    "df = df.withColumn(\"ECONOMIC FREEDOM (Score)\", df[\"ECONOMIC FREEDOM (Score)\"].cast(IntegerType()))\n",
    "df = df.withColumn(\"ECONOMIC FREEDOM (Rank)\", df[\"ECONOMIC FREEDOM (Rank)\"].cast(IntegerType()))\n",
    "\n",
    "df.printSchema()"
   ]
  },
  {
   "cell_type": "code",
   "execution_count": 8,
   "metadata": {},
   "outputs": [],
   "source": [
    "import pyspark.sql.functions as F\n",
    "from functools import reduce"
   ]
  },
  {
   "cell_type": "code",
   "execution_count": 9,
   "metadata": {},
   "outputs": [
    {
     "name": "stdout",
     "output_type": "stream",
     "text": [
      "+----+--------------------+--------------------+---------------------+--------------------+------------------------+-----------+----------------------------------------+-----------------------+-----------------+--------------+--------+---------------------------------+----------------------------------+------------------------+----------------------+-------+------------------------+-----------------------+--------------------------------------+----------------------------+------------------------------+---------------------+------------------------------+------------+---------------------------+-------------------------------------------+-------------------------+-----------------------------------------+--------------------------------+-----------------------------------+-------------------------+----------------------+--------------------+------------------------+-----------------------+\n",
      "|Year|           Countries|              Region|HUMAN FREEDOM (Score)|HUMAN FREEDOM (Rank)|HUMAN FREEDOM (Quartile)|Rule of Law|Disappearances, Conflicts, and Terrorism|Women Security & Safety|Security & Safety|Women Movement|Movement|Legal and Regulatory Restrictions|State Control over Internet Access|Expression & Information|Same Sex Relationships|Divorce|PERSONAL FREEDOM (Score)|PERSONAL FREEDOM (Rank)|Government  enterprises and investment|Top marginal income tax rate|Legal enforcement of contracts|Reliability of police|Gender Legal Rights Adjustment|Money growth|Inflation: Most recent year|Compliance costs of importing and exporting|Regulatory trade barriers|Foreign ownership/investment restrictions|Freedom to trade internationally|Hiring regulations and minimum wage|Labour market regulations|Licensing restrictions|Business regulations|ECONOMIC FREEDOM (Score)|ECONOMIC FREEDOM (Rank)|\n",
      "+----+--------------------+--------------------+---------------------+--------------------+------------------------+-----------+----------------------------------------+-----------------------+-----------------+--------------+--------+---------------------------------+----------------------------------+------------------------+----------------------+-------+------------------------+-----------------------+--------------------------------------+----------------------------+------------------------------+---------------------+------------------------------+------------+---------------------------+-------------------------------------------+-------------------------+-----------------------------------------+--------------------------------+-----------------------------------+-------------------------+----------------------+--------------------+------------------------+-----------------------+\n",
      "|2017|             Albania|      Eastern Europe|                    7|                  38|                       1|       null|                                      10|                   null|                9|          null|      10|                             null|                                10|                       8|                  null|   null|                       8|                     46|                                     8|                           9|                             4|                    6|                             0|           9|                          9|                                          9|                        7|                                        6|                               8|                                  5|                        6|                     6|                   6|                       7|                     30|\n",
      "|2017|             Algeria|Middle East & Nor...|                    4|                 155|                       4|       null|                                       8|                   null|                7|          null|       5|                             null|                                 7|                       7|                  null|   null|                       5|                    146|                                     0|                           7|                             4|                    6|                             0|           6|                          8|                                          0|                        2|                                        3|                               2|                                  5|                        5|                     8|                   5|                       4|                    159|\n",
      "|2017|              Angola|   SubSaharan Africa|                    5|                 151|                       4|       null|                                       8|                   null|                8|          null|       6|                             null|                                 7|                       6|                  null|   null|                       5|                    121|                                     6|                          10|                             2|                    3|                             0|           9|                          3|                                          2|                        3|                                        2|                               3|                                 10|                        5|                     8|                   4|                       4|                    158|\n",
      "|2017|           Argentina|Latin America & t...|                    6|                  77|                       2|       null|                                       8|                   null|                8|          null|      10|                             null|                                10|                       8|                  null|   null|                       8|                     41|                                     6|                           7|                             3|                    3|                             0|           5|                          4|                                          5|                        4|                                        5|                               6|                                  2|                        5|                     5|                   5|                       5|                    147|\n",
      "|2017|             Armenia|Caucasus & Centra...|                    7|                  54|                       2|       null|                                       9|                   null|                9|          null|       8|                             null|                                 7|                       7|                  null|   null|                       7|                     72|                                     8|                           5|                             5|                    5|                             1|           8|                          9|                                          9|                        7|                                        5|                               8|                                  6|                        6|                     9|                   6|                       7|                     27|\n",
      "|2017|           Australia|             Oceania|                    8|                   5|                       1|          7|                                       9|                   null|                9|          null|      10|                             null|                                10|                       9|                     5|     10|                       9|                     12|                                    10|                           6|                             6|                    8|                             1|           8|                          9|                                          8|                        7|                                        6|                               7|                                  8|                        7|                     8|                   8|                       8|                      9|\n",
      "|2017|             Austria|      Western Europe|                    8|                  13|                       1|          8|                                       9|                   null|                9|            10|      10|                             null|                                10|                       9|                    10|     10|                       9|                      8|                                    10|                           4|                             6|                    8|                             1|           8|                          9|                                          9|                        8|                                        6|                               8|                                  8|                        5|                     7|                   7|                       7|                     26|\n",
      "|2017|          Azerbaijan|Caucasus & Centra...|                    6|                 121|                       3|          4|                                       9|                     10|                9|            10|       8|                                5|                                 7|                       4|                     0|      7|                       6|                    119|                                     0|                           9|                             7|                    6|                             0|           9|                          7|                                          8|                        7|                                        6|                               7|                                  8|                        6|                     9|                   7|                       6|                    116|\n",
      "|2017|             Bahamas|Latin America & t...|                    7|                  48|                       2|          6|                                      10|                     10|                6|            10|      10|                                6|                                 0|                       8|                    10|     10|                       7|                     48|                                     7|                          10|                             4|                    0|                             0|           8|                          9|                                          8|                        7|                                        0|                               6|                                  8|                        8|                     7|                   7|                       7|                     58|\n",
      "|2017|             Bahrain|Middle East & Nor...|                    6|                  95|                       3|          5|                                       7|                      5|                7|             2|       4|                                4|                                 2|                       4|                     5|      0|                       5|                    126|                                    10|                          10|                             4|                    7|                             0|           9|                          9|                                          6|                        6|                                        7|                               7|                                  8|                        7|                     8|                   8|                       7|                     50|\n",
      "|2017|          Bangladesh|          South Asia|                    5|                 138|                       4|          3|                                       6|                      5|                7|            10|       6|                                4|                                 7|                       6|                     5|      0|                       5|                    142|                                     7|                           8|                             0|                    3|                             0|           9|                          8|                                          0|                        3|                                        5|                               5|                                 10|                        7|                     6|                   4|                       6|                    123|\n",
      "|2017|            Barbados|Latin America & t...|                    7|                  66|                       2|          6|                                      10|                     10|                8|             2|       7|                                7|                                 0|                    null|                     0|     10|                       7|                     57|                                     6|                           7|                             3|                    0|                             0|           6|                          9|                                          5|                        5|                                        6|                               6|                                  8|                        8|                     4|                   6|                       6|                    112|\n",
      "|2017|             Belarus|      Eastern Europe|                    6|                  92|                       3|          5|                                       9|                     10|                9|            10|       8|                                4|                                 5|                    null|                    10|     10|                       6|                     91|                                    10|                          10|                             6|                    0|                             0|           8|                          8|                                          9|                        7|                                        0|                               6|                                 10|                        7|                     8|                   7|                       6|                     99|\n",
      "|2017|             Belgium|      Western Europe|                    8|                  23|                       1|          7|                                       9|                     10|                9|            10|      10|                                6|                                10|                    null|                    10|     10|                       9|                     14|                                    10|                           2|                             5|                    7|                             1|           8|                          9|                                          9|                        7|                                        7|                               8|                                  8|                        7|                     7|                   7|                       7|                     40|\n",
      "|2017|              Belize|Latin America & t...|                    6|                  68|                       2|          4|                                      10|                     10|                6|             2|       7|                                8|                                 0|                    null|                    10|     10|                       7|                     74|                                     4|                           9|                             3|                    0|                             0|           9|                          9|                                          5|                        5|                                        7|                               6|                                  7|                        7|                     8|                   6|                       6|                     85|\n",
      "|2017|               Benin|   SubSaharan Africa|                    6|                  85|                       3|          4|                                       9|                      7|                8|             2|       5|                                9|                                10|                    null|                    10|      7|                       7|                     62|                                     7|                           4|                          null|                    5|                             0|           7|                          9|                                          5|                        4|                                        5|                               6|                                  7|                        6|                     9|                   6|                       6|                    129|\n",
      "|2017|              Bhutan|          South Asia|                    6|                 105|                       3|          6|                                       9|                     10|                9|            10|       3|                                5|                                 0|                    null|                     0|      2|                       6|                    111|                                     7|                           9|                          null|                    2|                             0|           8|                          9|                                          9|                        7|                                        3|                               6|                                 10|                        7|                     8|                   6|                       6|                     87|\n",
      "|2017|             Bolivia|Latin America & t...|                    6|                  97|                       3|          3|                                       9|                      8|                8|            10|       8|                                8|                                10|                       8|                    10|     10|                       7|                     75|                                     0|                          10|                          null|                    2|                             0|           9|                          9|                                          3|                        3|                                        4|                               7|                                  1|                        3|                     5|                   3|                       6|                    126|\n",
      "|2017|Bosnia and Herzeg...|      Eastern Europe|                    7|                  55|                       2|          5|                                       9|                      8|                9|            10|       8|                                7|                                10|                       8|                    10|     10|                       8|                     42|                                     4|                          10|                          null|                    4|                             0|           8|                          9|                                          9|                        7|                                        4|                               7|                                  5|                        7|                     7|                   5|                       6|                     92|\n",
      "|2017|            Botswana|   SubSaharan Africa|                    7|                  60|                       2|          5|                                      10|                      8|                7|             2|       7|                                8|                                 0|                       7|                     0|      5|                       6|                     81|                                     7|                           9|                          null|                    6|                             0|           9|                          9|                                          9|                        7|                                        6|                               7|                                 10|                        7|                     9|                   7|                       7|                     49|\n",
      "+----+--------------------+--------------------+---------------------+--------------------+------------------------+-----------+----------------------------------------+-----------------------+-----------------+--------------+--------+---------------------------------+----------------------------------+------------------------+----------------------+-------+------------------------+-----------------------+--------------------------------------+----------------------------+------------------------------+---------------------+------------------------------+------------+---------------------------+-------------------------------------------+-------------------------+-----------------------------------------+--------------------------------+-----------------------------------+-------------------------+----------------------+--------------------+------------------------+-----------------------+\n",
      "only showing top 20 rows\n",
      "\n"
     ]
    }
   ],
   "source": [
    "df.show()"
   ]
  },
  {
   "cell_type": "code",
   "execution_count": 10,
   "metadata": {},
   "outputs": [
    {
     "name": "stdout",
     "output_type": "stream",
     "text": [
      "+----+-----------------+--------------------+---------------------+--------------------+------------------------+-----------+----------------------------------------+-----------------------+-----------------+--------------+--------+---------------------------------+----------------------------------+------------------------+----------------------+-------+------------------------+-----------------------+--------------------------------------+----------------------------+------------------------------+---------------------+------------------------------+------------+---------------------------+-------------------------------------------+-------------------------+-----------------------------------------+--------------------------------+-----------------------------------+-------------------------+----------------------+--------------------+------------------------+-----------------------+\n",
      "|Year|        Countries|              Region|HUMAN FREEDOM (Score)|HUMAN FREEDOM (Rank)|HUMAN FREEDOM (Quartile)|Rule of Law|Disappearances, Conflicts, and Terrorism|Women Security & Safety|Security & Safety|Women Movement|Movement|Legal and Regulatory Restrictions|State Control over Internet Access|Expression & Information|Same Sex Relationships|Divorce|PERSONAL FREEDOM (Score)|PERSONAL FREEDOM (Rank)|Government  enterprises and investment|Top marginal income tax rate|Legal enforcement of contracts|Reliability of police|Gender Legal Rights Adjustment|Money growth|Inflation: Most recent year|Compliance costs of importing and exporting|Regulatory trade barriers|Foreign ownership/investment restrictions|Freedom to trade internationally|Hiring regulations and minimum wage|Labour market regulations|Licensing restrictions|Business regulations|ECONOMIC FREEDOM (Score)|ECONOMIC FREEDOM (Rank)|\n",
      "+----+-----------------+--------------------+---------------------+--------------------+------------------------+-----------+----------------------------------------+-----------------------+-----------------+--------------+--------+---------------------------------+----------------------------------+------------------------+----------------------+-------+------------------------+-----------------------+--------------------------------------+----------------------------+------------------------------+---------------------+------------------------------+------------+---------------------------+-------------------------------------------+-------------------------+-----------------------------------------+--------------------------------+-----------------------------------+-------------------------+----------------------+--------------------+------------------------+-----------------------+\n",
      "|2008|           Bhutan|          South Asia|                    1|                   0|                       0|          0|                                       0|                      0|                0|             0|       0|                                0|                                 0|                       0|                     0|      0|                       0|                      0|                                     0|                           0|                             0|                    0|                             0|           8|                          2|                                          0|                        0|                                        0|                               1|                                  0|                        0|                     0|                   0|                       1|                      0|\n",
      "|2008|          Burundi|   SubSaharan Africa|                    5|                 124|                       4|          4|                                       5|                      7|                7|            10|       8|                                7|                                 0|                       6|                     0|     10|                       6|                    109|                                     2|                           0|                             2|                    2|                             0|           7|                          5|                                          1|                        2|                                        3|                               4|                                 10|                        7|                     2|                   4|                       5|                    133|\n",
      "|2008|           Guinea|   SubSaharan Africa|                    1|                   0|                       0|          0|                                       0|                      0|                0|             0|       0|                                0|                                 0|                       0|                     0|      0|                       0|                      0|                                     0|                           0|                             0|                    0|                             0|           6|                          2|                                          0|                        0|                                        0|                               1|                                  0|                        0|                     0|                   0|                       1|                      0|\n",
      "|2008|            Libya|Middle East & Nor...|                    1|                   0|                       0|          0|                                       0|                      0|                0|             0|       0|                                0|                                 0|                       0|                     0|      0|                       0|                      0|                                     0|                           0|                             0|                    0|                             0|           5|                          2|                                          0|                        0|                                        0|                               1|                                  0|                        0|                     0|                   0|                       1|                      0|\n",
      "|2008|       Seychelles|   SubSaharan Africa|                    1|                   0|                       0|          0|                                       0|                      0|                0|             0|       0|                                0|                                 0|                       0|                     0|      0|                       0|                      0|                                     0|                           0|                             0|                    0|                             0|           7|                          2|                                          0|                        0|                                        0|                               1|                                  0|                        0|                     0|                   0|                       1|                      0|\n",
      "|2008|       Tajikistan|Caucasus & Centra...|                    1|                   0|                       0|          0|                                       0|                      0|                0|             0|       0|                                0|                                 0|                       0|                     0|      0|                       0|                      0|                                     0|                           0|                             0|                    0|                             1|           4|                          2|                                          0|                        0|                                        0|                               1|                                  0|                        0|                     0|                   0|                       1|                      0|\n",
      "|2008|          Myanmar|          South Asia|                    4|                 141|                       4|          3|                                       6|                     10|                8|            10|       3|                               10|                                 0|                       4|                     5|      7|                       5|                    121|                                     4|                           5|                             0|                    0|                             0|           8|                          4|                                          0|                        0|                                        0|                               1|                                  0|                        0|                     0|                   0|                       3|                    141|\n",
      "|2008|           Angola|   SubSaharan Africa|                    5|                 139|                       4|          3|                                       8|                      7|                8|            10|       3|                                7|                                10|                       7|                     0|     10|                       5|                    133|                                     2|                           0|                             2|                    0|                             1|           3|                          7|                                          1|                        1|                                        0|                               5|                                  3|                        2|                     4|                   5|                       4|                    138|\n",
      "|2008|             Chad|   SubSaharan Africa|                    5|                 138|                       4|          3|                                       4|                      3|                4|            10|       6|                                8|                                10|                       6|                    10|      2|                       5|                    130|                                     0|                           0|                             0|                    2|                             0|           8|                          7|                                          0|                        1|                                        3|                               4|                                  6|                        5|                     6|                   3|                       4|                    136|\n",
      "|2008|   Congo, Dem. R.|   SubSaharan Africa|                    5|                 136|                       4|          3|                                       6|                      9|                6|            10|       3|                                6|                                 0|                       5|                    10|      2|                       5|                    131|                                     8|                           3|                             0|                    0|                             0|           6|                          6|                                          2|                        2|                                        0|                               5|                                  2|                        4|                     2|                   4|                       5|                    135|\n",
      "|2008|        Venezuela|Latin America & t...|                    5|                 136|                       4|          3|                                       9|                     10|                6|            10|       8|                                7|                                 6|                       7|                    10|     10|                       6|                    108|                                     0|                           8|                             3|                    1|                             1|           6|                          3|                                          1|                        2|                                        2|                               3|                                  3|                        3|                     4|                   2|                       4|                    140|\n",
      "|2008|          Algeria|Middle East & Nor...|                    5|                 134|                       4|          4|                                       7|                      7|                8|             5|       5|                                4|                                 6|                       6|                     0|      2|                       5|                    135|                                     0|                           0|                             4|                    4|                             0|           7|                          9|                                          7|                        6|                                        2|                               5|                                  5|                        4|                     6|                   5|                       5|                    130|\n",
      "|2008|             Iran|Middle East & Nor...|                    5|                 134|                       4|          4|                                       7|                      7|                8|             5|       1|                                4|                                 0|                       5|                     0|      2|                       4|                    141|                                     6|                           7|                             5|                    0|                             0|           4|                          4|                                          5|                        5|                                        0|                               4|                                  8|                        4|                     5|                   6|                       5|                    124|\n",
      "|2008|         Ethiopia|   SubSaharan Africa|                    5|                 133|                       4|          4|                                       7|                      3|                5|            10|       8|                                6|                                 0|                       5|                     0|     10|                       5|                    134|                                     0|                           7|                             4|                    4|                             1|           8|                          2|                                          3|                        4|                                        3|                               5|                                  6|                        7|                     7|                   6|                       5|                    131|\n",
      "|2008|            Syria|Middle East & Nor...|                    5|                 132|                       4|          4|                                       7|                      7|                8|            10|       5|                                9|                                 0|                       4|                     0|      0|                       5|                    139|                                     2|                          10|                             3|                    5|                             0|           8|                          6|                                          7|                        6|                                        3|                               5|                                  8|                        5|                     7|                   5|                       5|                    125|\n",
      "|2008|         Pakistan|          South Asia|                    5|                 131|                       4|          3|                                       4|                      7|                6|             5|       3|                                8|                                10|                       7|                     0|      0|                       5|                    140|                                     6|                          10|                             3|                    3|                             0|           8|                          5|                                          7|                        6|                                        5|                               6|                                  2|                        5|                     5|                   5|                       5|                    121|\n",
      "|2008|       Mauritania|   SubSaharan Africa|                    5|                 130|                       4|          3|                                       8|                      3|                5|            10|       5|                                7|                                10|                       7|                     0|      0|                       5|                    138|                                     8|                           5|                             6|                    4|                             0|           8|                          8|                                          4|                        5|                                        4|                               6|                                  4|                        6|                     6|                   5|                       5|                    113|\n",
      "|2008|   Congo, Rep. Of|   SubSaharan Africa|                    5|                 129|                       4|          3|                                       6|                      7|                6|            10|       6|                                9|                                10|                       8|                    10|      7|                       6|                    107|                                     2|                           4|                             3|                    0|                             0|           6|                          8|                                          2|                        2|                                        0|                               4|                                  2|                        6|                     7|                   6|                       4|                    137|\n",
      "|2008|Central Afr. Rep.|   SubSaharan Africa|                    5|                 128|                       4|          3|                                       9|                      5|                5|            10|       5|                                7|                                10|                       7|                    10|      7|                       5|                    120|                                     4|                           5|                             0|                    0|                             0|           9|                          8|                                          1|                        1|                                        0|                               4|                                  3|                        4|                     6|                   5|                       5|                    132|\n",
      "|2008|             Togo|   SubSaharan Africa|                    5|                 127|                       4|          4|                                      10|                      4|                6|            10|       5|                                8|                                10|                       6|                     0|      5|                       5|                    124|                                     7|                           0|                             3|                    0|                             0|           8|                          8|                                          6|                        6|                                        0|                               6|                                  1|                        3|                     4|                   4|                       5|                    127|\n",
      "+----+-----------------+--------------------+---------------------+--------------------+------------------------+-----------+----------------------------------------+-----------------------+-----------------+--------------+--------+---------------------------------+----------------------------------+------------------------+----------------------+-------+------------------------+-----------------------+--------------------------------------+----------------------------+------------------------------+---------------------+------------------------------+------------+---------------------------+-------------------------------------------+-------------------------+-----------------------------------------+--------------------------------+-----------------------------------+-------------------------+----------------------+--------------------+------------------------+-----------------------+\n",
      "only showing top 20 rows\n",
      "\n"
     ]
    },
    {
     "name": "stdout",
     "output_type": "stream",
     "text": [
      "+----+--------------------+--------------------+---------------------+--------------------+------------------------+-----------+----------------------------------------+-----------------------+-----------------+--------------+--------+---------------------------------+----------------------------------+------------------------+----------------------+-------+------------------------+-----------------------+--------------------------------------+----------------------------+------------------------------+---------------------+------------------------------+------------+---------------------------+-------------------------------------------+-------------------------+-----------------------------------------+--------------------------------+-----------------------------------+-------------------------+----------------------+--------------------+------------------------+-----------------------+\n",
      "|Year|           Countries|              Region|HUMAN FREEDOM (Score)|HUMAN FREEDOM (Rank)|HUMAN FREEDOM (Quartile)|Rule of Law|Disappearances, Conflicts, and Terrorism|Women Security & Safety|Security & Safety|Women Movement|Movement|Legal and Regulatory Restrictions|State Control over Internet Access|Expression & Information|Same Sex Relationships|Divorce|PERSONAL FREEDOM (Score)|PERSONAL FREEDOM (Rank)|Government  enterprises and investment|Top marginal income tax rate|Legal enforcement of contracts|Reliability of police|Gender Legal Rights Adjustment|Money growth|Inflation: Most recent year|Compliance costs of importing and exporting|Regulatory trade barriers|Foreign ownership/investment restrictions|Freedom to trade internationally|Hiring regulations and minimum wage|Labour market regulations|Licensing restrictions|Business regulations|ECONOMIC FREEDOM (Score)|ECONOMIC FREEDOM (Rank)|\n",
      "+----+--------------------+--------------------+---------------------+--------------------+------------------------+-----------+----------------------------------------+-----------------------+-----------------+--------------+--------+---------------------------------+----------------------------------+------------------------+----------------------+-------+------------------------+-----------------------+--------------------------------------+----------------------------+------------------------------+---------------------+------------------------------+------------+---------------------------+-------------------------------------------+-------------------------+-----------------------------------------+--------------------------------+-----------------------------------+-------------------------+----------------------+--------------------+------------------------+-----------------------+\n",
      "|2017|             Albania|      Eastern Europe|                    7|                  38|                       1|       null|                                      10|                   null|                9|          null|      10|                             null|                                10|                       8|                  null|   null|                       8|                     46|                                     8|                           9|                             4|                    6|                             0|           9|                          9|                                          9|                        7|                                        6|                               8|                                  5|                        6|                     6|                   6|                       7|                     30|\n",
      "|2017|             Algeria|Middle East & Nor...|                    4|                 155|                       4|       null|                                       8|                   null|                7|          null|       5|                             null|                                 7|                       7|                  null|   null|                       5|                    146|                                     0|                           7|                             4|                    6|                             0|           6|                          8|                                          0|                        2|                                        3|                               2|                                  5|                        5|                     8|                   5|                       4|                    159|\n",
      "|2017|              Angola|   SubSaharan Africa|                    5|                 151|                       4|       null|                                       8|                   null|                8|          null|       6|                             null|                                 7|                       6|                  null|   null|                       5|                    121|                                     6|                          10|                             2|                    3|                             0|           9|                          3|                                          2|                        3|                                        2|                               3|                                 10|                        5|                     8|                   4|                       4|                    158|\n",
      "|2017|           Argentina|Latin America & t...|                    6|                  77|                       2|       null|                                       8|                   null|                8|          null|      10|                             null|                                10|                       8|                  null|   null|                       8|                     41|                                     6|                           7|                             3|                    3|                             0|           5|                          4|                                          5|                        4|                                        5|                               6|                                  2|                        5|                     5|                   5|                       5|                    147|\n",
      "|2017|             Armenia|Caucasus & Centra...|                    7|                  54|                       2|       null|                                       9|                   null|                9|          null|       8|                             null|                                 7|                       7|                  null|   null|                       7|                     72|                                     8|                           5|                             5|                    5|                             1|           8|                          9|                                          9|                        7|                                        5|                               8|                                  6|                        6|                     9|                   6|                       7|                     27|\n",
      "|2017|           Australia|             Oceania|                    8|                   5|                       1|          7|                                       9|                   null|                9|          null|      10|                             null|                                10|                       9|                     5|     10|                       9|                     12|                                    10|                           6|                             6|                    8|                             1|           8|                          9|                                          8|                        7|                                        6|                               7|                                  8|                        7|                     8|                   8|                       8|                      9|\n",
      "|2017|             Austria|      Western Europe|                    8|                  13|                       1|          8|                                       9|                   null|                9|            10|      10|                             null|                                10|                       9|                    10|     10|                       9|                      8|                                    10|                           4|                             6|                    8|                             1|           8|                          9|                                          9|                        8|                                        6|                               8|                                  8|                        5|                     7|                   7|                       7|                     26|\n",
      "|2017|          Azerbaijan|Caucasus & Centra...|                    6|                 121|                       3|          4|                                       9|                     10|                9|            10|       8|                                5|                                 7|                       4|                     0|      7|                       6|                    119|                                     0|                           9|                             7|                    6|                             0|           9|                          7|                                          8|                        7|                                        6|                               7|                                  8|                        6|                     9|                   7|                       6|                    116|\n",
      "|2017|             Bahamas|Latin America & t...|                    7|                  48|                       2|          6|                                      10|                     10|                6|            10|      10|                                6|                                 0|                       8|                    10|     10|                       7|                     48|                                     7|                          10|                             4|                    0|                             0|           8|                          9|                                          8|                        7|                                        0|                               6|                                  8|                        8|                     7|                   7|                       7|                     58|\n",
      "|2017|             Bahrain|Middle East & Nor...|                    6|                  95|                       3|          5|                                       7|                      5|                7|             2|       4|                                4|                                 2|                       4|                     5|      0|                       5|                    126|                                    10|                          10|                             4|                    7|                             0|           9|                          9|                                          6|                        6|                                        7|                               7|                                  8|                        7|                     8|                   8|                       7|                     50|\n",
      "|2017|          Bangladesh|          South Asia|                    5|                 138|                       4|          3|                                       6|                      5|                7|            10|       6|                                4|                                 7|                       6|                     5|      0|                       5|                    142|                                     7|                           8|                             0|                    3|                             0|           9|                          8|                                          0|                        3|                                        5|                               5|                                 10|                        7|                     6|                   4|                       6|                    123|\n",
      "|2017|            Barbados|Latin America & t...|                    7|                  66|                       2|          6|                                      10|                     10|                8|             2|       7|                                7|                                 0|                    null|                     0|     10|                       7|                     57|                                     6|                           7|                             3|                    0|                             0|           6|                          9|                                          5|                        5|                                        6|                               6|                                  8|                        8|                     4|                   6|                       6|                    112|\n",
      "|2017|             Belarus|      Eastern Europe|                    6|                  92|                       3|          5|                                       9|                     10|                9|            10|       8|                                4|                                 5|                    null|                    10|     10|                       6|                     91|                                    10|                          10|                             6|                    0|                             0|           8|                          8|                                          9|                        7|                                        0|                               6|                                 10|                        7|                     8|                   7|                       6|                     99|\n",
      "|2017|             Belgium|      Western Europe|                    8|                  23|                       1|          7|                                       9|                     10|                9|            10|      10|                                6|                                10|                    null|                    10|     10|                       9|                     14|                                    10|                           2|                             5|                    7|                             1|           8|                          9|                                          9|                        7|                                        7|                               8|                                  8|                        7|                     7|                   7|                       7|                     40|\n",
      "|2017|              Belize|Latin America & t...|                    6|                  68|                       2|          4|                                      10|                     10|                6|             2|       7|                                8|                                 0|                    null|                    10|     10|                       7|                     74|                                     4|                           9|                             3|                    0|                             0|           9|                          9|                                          5|                        5|                                        7|                               6|                                  7|                        7|                     8|                   6|                       6|                     85|\n",
      "|2017|               Benin|   SubSaharan Africa|                    6|                  85|                       3|          4|                                       9|                      7|                8|             2|       5|                                9|                                10|                    null|                    10|      7|                       7|                     62|                                     7|                           4|                          null|                    5|                             0|           7|                          9|                                          5|                        4|                                        5|                               6|                                  7|                        6|                     9|                   6|                       6|                    129|\n",
      "|2017|              Bhutan|          South Asia|                    6|                 105|                       3|          6|                                       9|                     10|                9|            10|       3|                                5|                                 0|                    null|                     0|      2|                       6|                    111|                                     7|                           9|                          null|                    2|                             0|           8|                          9|                                          9|                        7|                                        3|                               6|                                 10|                        7|                     8|                   6|                       6|                     87|\n",
      "|2017|             Bolivia|Latin America & t...|                    6|                  97|                       3|          3|                                       9|                      8|                8|            10|       8|                                8|                                10|                       8|                    10|     10|                       7|                     75|                                     0|                          10|                          null|                    2|                             0|           9|                          9|                                          3|                        3|                                        4|                               7|                                  1|                        3|                     5|                   3|                       6|                    126|\n",
      "|2017|Bosnia and Herzeg...|      Eastern Europe|                    7|                  55|                       2|          5|                                       9|                      8|                9|            10|       8|                                7|                                10|                       8|                    10|     10|                       8|                     42|                                     4|                          10|                          null|                    4|                             0|           8|                          9|                                          9|                        7|                                        4|                               7|                                  5|                        7|                     7|                   5|                       6|                     92|\n",
      "|2017|            Botswana|   SubSaharan Africa|                    7|                  60|                       2|          5|                                      10|                      8|                7|             2|       7|                                8|                                 0|                       7|                     0|      5|                       6|                     81|                                     7|                           9|                          null|                    6|                             0|           9|                          9|                                          9|                        7|                                        6|                               7|                                 10|                        7|                     9|                   7|                       7|                     49|\n",
      "+----+--------------------+--------------------+---------------------+--------------------+------------------------+-----------+----------------------------------------+-----------------------+-----------------+--------------+--------+---------------------------------+----------------------------------+------------------------+----------------------+-------+------------------------+-----------------------+--------------------------------------+----------------------------+------------------------------+---------------------+------------------------------+------------+---------------------------+-------------------------------------------+-------------------------+-----------------------------------------+--------------------------------+-----------------------------------+-------------------------+----------------------+--------------------+------------------------+-----------------------+\n",
      "only showing top 20 rows\n",
      "\n"
     ]
    }
   ],
   "source": [
    "# Here's also a simple example of an ascending and descending sort by Year. \n",
    "df.orderBy('Year').show()\n",
    "\n",
    "df.orderBy(df['Year'].desc()).show()"
   ]
  },
  {
   "cell_type": "markdown",
   "metadata": {},
   "source": [
    "# 2.4 Data Quality"
   ]
  },
  {
   "cell_type": "code",
   "execution_count": 11,
   "metadata": {},
   "outputs": [],
   "source": [
    "#to find count of null values column-wise\n",
    "df_null_count = reduce(\n",
    "    lambda a, b: a.union(b),\n",
    "    (\n",
    "        df.agg(\n",
    "            F.count(F.when(F.isnull(c), c)).alias('NULL_Count')\n",
    "        ).select(F.lit(c).alias(\"Column_Name\"), \"NULL_Count\")\n",
    "        for c in df.columns\n",
    "    )\n",
    ")"
   ]
  },
  {
   "cell_type": "code",
   "execution_count": 12,
   "metadata": {},
   "outputs": [
    {
     "name": "stdout",
     "output_type": "stream",
     "text": [
      "+--------------------+----------+\n",
      "|         Column_Name|NULL_Count|\n",
      "+--------------------+----------+\n",
      "|                Year|         0|\n",
      "|           Countries|         0|\n",
      "|              Region|         0|\n",
      "|HUMAN FREEDOM (Sc...|         0|\n",
      "|HUMAN FREEDOM (Rank)|         0|\n",
      "|HUMAN FREEDOM (Qu...|         0|\n",
      "|         Rule of Law|         5|\n",
      "|Disappearances, C...|         0|\n",
      "|Women Security & ...|         7|\n",
      "|   Security & Safety|         0|\n",
      "|      Women Movement|         6|\n",
      "|            Movement|         0|\n",
      "|Legal and Regulat...|         7|\n",
      "|State Control ove...|         0|\n",
      "|Expression & Info...|         6|\n",
      "|Same Sex Relation...|         5|\n",
      "|             Divorce|         5|\n",
      "|PERSONAL FREEDOM ...|         0|\n",
      "|PERSONAL FREEDOM ...|         0|\n",
      "|Government  enter...|         0|\n",
      "|Top marginal inco...|         0|\n",
      "|Legal enforcement...|         8|\n",
      "|Reliability of po...|         8|\n",
      "|Gender Legal Righ...|         0|\n",
      "|        Money growth|         0|\n",
      "|Inflation: Most r...|         0|\n",
      "|Compliance costs ...|         0|\n",
      "|Regulatory trade ...|         0|\n",
      "|Foreign ownership...|         0|\n",
      "|Freedom to trade ...|         0|\n",
      "|Hiring regulation...|         0|\n",
      "|Labour market reg...|         0|\n",
      "|Licensing restric...|         0|\n",
      "|Business regulations|         0|\n",
      "|ECONOMIC FREEDOM ...|         0|\n",
      "|ECONOMIC FREEDOM ...|         0|\n",
      "+--------------------+----------+\n",
      "\n"
     ]
    }
   ],
   "source": [
    "df_null_count.show(36)"
   ]
  },
  {
   "cell_type": "code",
   "execution_count": 13,
   "metadata": {},
   "outputs": [
    {
     "data": {
      "text/plain": [
       "36"
      ]
     },
     "execution_count": 13,
     "metadata": {},
     "output_type": "execute_result"
    }
   ],
   "source": [
    "#Counting number of columns of dataset1\n",
    "len(df.columns)"
   ]
  },
  {
   "cell_type": "markdown",
   "metadata": {},
   "source": [
    "# data cleaning"
   ]
  },
  {
   "cell_type": "markdown",
   "metadata": {},
   "source": [
    "# filling null values with mean"
   ]
  },
  {
   "cell_type": "code",
   "execution_count": 14,
   "metadata": {},
   "outputs": [
    {
     "name": "stdout",
     "output_type": "stream",
     "text": [
      "+----+----------+----------------------+-----------+-----------------------+--------------+---------------------------------+------------------------+-------+------------------------------+---------------------+\n",
      "|Year| Countries|Same Sex Relationships|Rule of Law|Women Security & Safety|Women Movement|Legal and Regulatory Restrictions|Expression & Information|Divorce|Legal enforcement of contracts|Reliability of police|\n",
      "+----+----------+----------------------+-----------+-----------------------+--------------+---------------------------------+------------------------+-------+------------------------------+---------------------+\n",
      "|2017|   Albania|                  null|       null|                   null|          null|                             null|                       8|   null|                             4|                    6|\n",
      "|2017|   Algeria|                  null|       null|                   null|          null|                             null|                       7|   null|                             4|                    6|\n",
      "|2017|    Angola|                  null|       null|                   null|          null|                             null|                       6|   null|                             2|                    3|\n",
      "|2017| Argentina|                  null|       null|                   null|          null|                             null|                       8|   null|                             3|                    3|\n",
      "|2017|   Armenia|                  null|       null|                   null|          null|                             null|                       7|   null|                             5|                    5|\n",
      "|2017| Australia|                     5|          7|                   null|          null|                             null|                       9|     10|                             6|                    8|\n",
      "|2017|   Austria|                    10|          8|                   null|            10|                             null|                       9|     10|                             6|                    8|\n",
      "|2017|Azerbaijan|                     0|          4|                     10|            10|                                5|                       4|      7|                             7|                    6|\n",
      "|2017|   Bahamas|                    10|          6|                     10|            10|                                6|                       8|     10|                             4|                    0|\n",
      "|2017|   Bahrain|                     5|          5|                      5|             2|                                4|                       4|      0|                             4|                    7|\n",
      "+----+----------+----------------------+-----------+-----------------------+--------------+---------------------------------+------------------------+-------+------------------------------+---------------------+\n",
      "only showing top 10 rows\n",
      "\n"
     ]
    }
   ],
   "source": [
    "df.select('Year','Countries','Same Sex Relationships','Rule of Law','Women Security & Safety','Women Movement','Legal and Regulatory Restrictions','Expression & Information','Divorce','Legal enforcement of contracts','Reliability of police').show(10)\n",
    "\n",
    "\n"
   ]
  },
  {
   "cell_type": "code",
   "execution_count": 15,
   "metadata": {},
   "outputs": [],
   "source": [
    "from pyspark.sql.functions import mean\n",
    "#Finding the mean of column Same Sex Relationships\n",
    "mean_value = df.select(mean(df['Same Sex Relationships'])).collect()\n",
    "\n",
    "#filling the missing value with the mean.\n",
    "mean_Same_Sex_Relationships_value = mean_value[0][0]\n",
    "df = df.na.fill(mean_Same_Sex_Relationships_value, subset=['Same Sex Relationships'])"
   ]
  },
  {
   "cell_type": "code",
   "execution_count": 16,
   "metadata": {
    "scrolled": false
   },
   "outputs": [],
   "source": [
    "#df.filter(df['Year'] == '2017').select('Year','Countries','Same Sex Relationships').show(10)"
   ]
  },
  {
   "cell_type": "code",
   "execution_count": 17,
   "metadata": {},
   "outputs": [
    {
     "name": "stdout",
     "output_type": "stream",
     "text": [
      "+----+----------+-----------------------+\n",
      "|Year| Countries|Women Security & Safety|\n",
      "+----+----------+-----------------------+\n",
      "|2017|   Albania|                      7|\n",
      "|2017|   Algeria|                      7|\n",
      "|2017|    Angola|                      7|\n",
      "|2017| Argentina|                      7|\n",
      "|2017|   Armenia|                      7|\n",
      "|2017| Australia|                      7|\n",
      "|2017|   Austria|                      7|\n",
      "|2017|Azerbaijan|                     10|\n",
      "|2017|   Bahamas|                     10|\n",
      "|2017|   Bahrain|                      5|\n",
      "+----+----------+-----------------------+\n",
      "only showing top 10 rows\n",
      "\n"
     ]
    }
   ],
   "source": [
    "#filling the missing value with the mean for column \"Women Security & Safety\"\n",
    "mean_value2 = df.select(mean(df['Women Security & Safety'])).collect()\n",
    "\n",
    "mean_Women_Security_Safety_value = mean_value2[0][0]\n",
    "df1 = df.na.fill(mean_Women_Security_Safety_value, subset=['Women Security & Safety'])\n",
    "\n",
    "df1.filter(df['Year'] == '2017').select('Year','Countries','Women Security & Safety').show(10)"
   ]
  },
  {
   "cell_type": "code",
   "execution_count": 18,
   "metadata": {},
   "outputs": [
    {
     "name": "stdout",
     "output_type": "stream",
     "text": [
      "+----+----------+-----------+\n",
      "|Year| Countries|Rule of Law|\n",
      "+----+----------+-----------+\n",
      "|2017|   Albania|          4|\n",
      "|2017|   Algeria|          4|\n",
      "|2017|    Angola|          4|\n",
      "|2017| Argentina|          4|\n",
      "|2017|   Armenia|          4|\n",
      "|2017| Australia|          7|\n",
      "|2017|   Austria|          8|\n",
      "|2017|Azerbaijan|          4|\n",
      "|2017|   Bahamas|          6|\n",
      "|2017|   Bahrain|          5|\n",
      "+----+----------+-----------+\n",
      "only showing top 10 rows\n",
      "\n"
     ]
    }
   ],
   "source": [
    "#filling the missing value with the mean for column \"Rule of law\"\n",
    "mean_value1 = df.select(mean(df['Rule of Law'])).collect()\n",
    "\n",
    "mean_Rule_of_Law_value = mean_value1[0][0]\n",
    "df2 = df1.na.fill(mean_Rule_of_Law_value, subset=['Rule of Law'])\n",
    "\n",
    "df2.filter(df['Year'] == '2017').select('Year','Countries','Rule of Law', ).show(10)\n"
   ]
  },
  {
   "cell_type": "code",
   "execution_count": 19,
   "metadata": {},
   "outputs": [
    {
     "name": "stdout",
     "output_type": "stream",
     "text": [
      "+----+----------+--------------+\n",
      "|Year| Countries|Women Movement|\n",
      "+----+----------+--------------+\n",
      "|2017|   Albania|             4|\n",
      "|2017|   Algeria|             4|\n",
      "|2017|    Angola|             4|\n",
      "|2017| Argentina|             4|\n",
      "|2017|   Armenia|             4|\n",
      "|2017| Australia|             4|\n",
      "|2017|   Austria|            10|\n",
      "|2017|Azerbaijan|            10|\n",
      "|2017|   Bahamas|            10|\n",
      "|2017|   Bahrain|             2|\n",
      "+----+----------+--------------+\n",
      "only showing top 10 rows\n",
      "\n"
     ]
    }
   ],
   "source": [
    "#filling the missing value with the mean for column \"Women Movement\"\n",
    "mean_value3 = df.select(mean(df['Women Movement'])).collect()\n",
    "\n",
    "mean_Women_Movement_value = mean_value1[0][0]\n",
    "df3 = df2.na.fill(mean_Women_Movement_value, subset=['Women Movement'])\n",
    "\n",
    "df3.filter(df['Year'] == '2017').select('Year','Countries','Women Movement').show(10)"
   ]
  },
  {
   "cell_type": "code",
   "execution_count": 20,
   "metadata": {},
   "outputs": [
    {
     "name": "stdout",
     "output_type": "stream",
     "text": [
      "+----+----------+---------------------------------+\n",
      "|Year| Countries|Legal and Regulatory Restrictions|\n",
      "+----+----------+---------------------------------+\n",
      "|2017|   Albania|                                6|\n",
      "|2017|   Algeria|                                6|\n",
      "|2017|    Angola|                                6|\n",
      "|2017| Argentina|                                6|\n",
      "|2017|   Armenia|                                6|\n",
      "|2017| Australia|                                6|\n",
      "|2017|   Austria|                                6|\n",
      "|2017|Azerbaijan|                                5|\n",
      "|2017|   Bahamas|                                6|\n",
      "|2017|   Bahrain|                                4|\n",
      "+----+----------+---------------------------------+\n",
      "only showing top 10 rows\n",
      "\n"
     ]
    }
   ],
   "source": [
    "#filling the missing value with the mean for column \"Legal and Regulatory Restrictions\"\n",
    "mean_value4 = df.select(mean(df['Legal and Regulatory Restrictions'])).collect()\n",
    "\n",
    "mean_Legal_and_RegulatoryRestrictions_value = mean_value4[0][0]\n",
    "df4 = df3.na.fill(mean_Legal_and_RegulatoryRestrictions_value, subset=['Legal and Regulatory Restrictions'])\n",
    "\n",
    "df4.filter(df['Year'] == '2017').select('Year','Countries','Legal and Regulatory Restrictions').show(10)"
   ]
  },
  {
   "cell_type": "code",
   "execution_count": 21,
   "metadata": {},
   "outputs": [],
   "source": [
    "#filling the missing value with the mean for column \"Divorce\"\n",
    "mean_value5 = df.select(mean(df['Divorce'])).collect()\n",
    "\n",
    "mean_Divorce_value = mean_value5[0][0]\n",
    "df5 = df4.na.fill(mean_Divorce_value, subset=['Divorce'])"
   ]
  },
  {
   "cell_type": "code",
   "execution_count": 22,
   "metadata": {},
   "outputs": [],
   "source": [
    "#filling the missing value with the mean for column \"Legal enforcement of contracts\"\n",
    "mean_value6 = df.select(mean(df['Legal enforcement of contracts'])).collect()\n",
    "\n",
    "mean_Legal_enforcement_of_contracts_value = mean_value6[0][0]\n",
    "df6 = df5.na.fill(mean_Legal_enforcement_of_contracts_value, subset=['Legal enforcement of contracts'])"
   ]
  },
  {
   "cell_type": "code",
   "execution_count": 23,
   "metadata": {},
   "outputs": [],
   "source": [
    "#filling the missing value with the mean for column \"Reliability of police\"\n",
    "mean_value7 = df.select(mean(df['Reliability of police'])).collect()\n",
    "\n",
    "mean_Reliability_of_police_value = mean_value7[0][0]\n",
    "df7 = df6.na.fill(mean_Reliability_of_police_value, subset=['Reliability of police'])"
   ]
  },
  {
   "cell_type": "code",
   "execution_count": 24,
   "metadata": {},
   "outputs": [],
   "source": [
    "#filling the missing value with the mean for column \"Expression & Information\"\n",
    "mean_value8 = df.select(mean(df['Expression & Information'])).collect()\n",
    "\n",
    "mean_Expression_Information_value = mean_value8[0][0]\n",
    "df8 = df7.na.fill(mean_Expression_Information_value, subset=['Expression & Information'])"
   ]
  },
  {
   "cell_type": "code",
   "execution_count": 25,
   "metadata": {},
   "outputs": [
    {
     "data": {
      "text/plain": [
       "36"
      ]
     },
     "execution_count": 25,
     "metadata": {},
     "output_type": "execute_result"
    }
   ],
   "source": [
    "#Counting number of columns of dataset1\n",
    "len(df.columns)"
   ]
  },
  {
   "cell_type": "code",
   "execution_count": 26,
   "metadata": {},
   "outputs": [
    {
     "name": "stdout",
     "output_type": "stream",
     "text": [
      "+----+----------+----------------------+-----------+-----------------------+--------------+---------------------------------+------------------------+-------+------------------------------+---------------------+\n",
      "|Year| Countries|Same Sex Relationships|Rule of Law|Women Security & Safety|Women Movement|Legal and Regulatory Restrictions|Expression & Information|Divorce|Legal enforcement of contracts|Reliability of police|\n",
      "+----+----------+----------------------+-----------+-----------------------+--------------+---------------------------------+------------------------+-------+------------------------------+---------------------+\n",
      "|2017|   Albania|                     7|          4|                      7|             4|                                6|                       8|      7|                             4|                    6|\n",
      "|2017|   Algeria|                     7|          4|                      7|             4|                                6|                       7|      7|                             4|                    6|\n",
      "|2017|    Angola|                     7|          4|                      7|             4|                                6|                       6|      7|                             2|                    3|\n",
      "|2017| Argentina|                     7|          4|                      7|             4|                                6|                       8|      7|                             3|                    3|\n",
      "|2017|   Armenia|                     7|          4|                      7|             4|                                6|                       7|      7|                             5|                    5|\n",
      "|2017| Australia|                     5|          7|                      7|             4|                                6|                       9|     10|                             6|                    8|\n",
      "|2017|   Austria|                    10|          8|                      7|            10|                                6|                       9|     10|                             6|                    8|\n",
      "|2017|Azerbaijan|                     0|          4|                     10|            10|                                5|                       4|      7|                             7|                    6|\n",
      "|2017|   Bahamas|                    10|          6|                     10|            10|                                6|                       8|     10|                             4|                    0|\n",
      "|2017|   Bahrain|                     5|          5|                      5|             2|                                4|                       4|      0|                             4|                    7|\n",
      "+----+----------+----------------------+-----------+-----------------------+--------------+---------------------------------+------------------------+-------+------------------------------+---------------------+\n",
      "only showing top 10 rows\n",
      "\n"
     ]
    }
   ],
   "source": [
    "#data after replacing null value with mean\n",
    "df8.select('Year','Countries','Same Sex Relationships','Rule of Law','Women Security & Safety','Women Movement','Legal and Regulatory Restrictions','Expression & Information','Divorce','Legal enforcement of contracts','Reliability of police').show(10)"
   ]
  },
  {
   "cell_type": "markdown",
   "metadata": {},
   "source": [
    "# data construction"
   ]
  },
  {
   "cell_type": "code",
   "execution_count": 27,
   "metadata": {
    "scrolled": true
   },
   "outputs": [
    {
     "name": "stdout",
     "output_type": "stream",
     "text": [
      "+---------+\n",
      "|Inflation|\n",
      "+---------+\n",
      "|       18|\n",
      "|       14|\n",
      "|       12|\n",
      "|        9|\n",
      "|       17|\n",
      "|       17|\n",
      "|       17|\n",
      "|       16|\n",
      "|       17|\n",
      "|       18|\n",
      "|       17|\n",
      "|       15|\n",
      "|       16|\n",
      "|       17|\n",
      "|       18|\n",
      "|       16|\n",
      "|       17|\n",
      "|       18|\n",
      "|       17|\n",
      "|       18|\n",
      "+---------+\n",
      "only showing top 20 rows\n",
      "\n"
     ]
    }
   ],
   "source": [
    "#creating new colum \n",
    "df = df.withColumn('Inflation', df['Money growth']+df['Inflation: Most recent year'])\n",
    "df.select('Inflation').show()"
   ]
  },
  {
   "cell_type": "code",
   "execution_count": 28,
   "metadata": {},
   "outputs": [
    {
     "data": {
      "text/plain": [
       "['Year',\n",
       " 'Countries',\n",
       " 'Region',\n",
       " 'HUMAN FREEDOM (Score)',\n",
       " 'HUMAN FREEDOM (Rank)',\n",
       " 'HUMAN FREEDOM (Quartile)',\n",
       " 'Rule of Law',\n",
       " 'Disappearances, Conflicts, and Terrorism',\n",
       " 'Women Security & Safety',\n",
       " 'Security & Safety',\n",
       " 'Women Movement',\n",
       " 'Movement',\n",
       " 'Legal and Regulatory Restrictions',\n",
       " 'State Control over Internet Access',\n",
       " 'Expression & Information',\n",
       " 'Same Sex Relationships',\n",
       " 'Divorce',\n",
       " 'PERSONAL FREEDOM (Score)',\n",
       " 'PERSONAL FREEDOM (Rank)',\n",
       " 'Government  enterprises and investment',\n",
       " 'Top marginal income tax rate',\n",
       " 'Legal enforcement of contracts',\n",
       " 'Reliability of police',\n",
       " 'Gender Legal Rights Adjustment',\n",
       " 'Money growth',\n",
       " 'Inflation: Most recent year',\n",
       " 'Compliance costs of importing and exporting',\n",
       " 'Regulatory trade barriers',\n",
       " 'Foreign ownership/investment restrictions',\n",
       " 'Freedom to trade internationally',\n",
       " 'Hiring regulations and minimum wage',\n",
       " 'Labour market regulations',\n",
       " 'Licensing restrictions',\n",
       " 'Business regulations',\n",
       " 'ECONOMIC FREEDOM (Score)',\n",
       " 'ECONOMIC FREEDOM (Rank)',\n",
       " 'Inflation']"
      ]
     },
     "execution_count": 28,
     "metadata": {},
     "output_type": "execute_result"
    }
   ],
   "source": [
    "df.columns"
   ]
  },
  {
   "cell_type": "markdown",
   "metadata": {},
   "source": [
    "# outliers detection and treatment"
   ]
  },
  {
   "cell_type": "code",
   "execution_count": 131,
   "metadata": {},
   "outputs": [
    {
     "data": {
      "text/plain": [
       "45"
      ]
     },
     "execution_count": 131,
     "metadata": {},
     "output_type": "execute_result"
    }
   ],
   "source": [
    "#Identifying outliers in attribute\"Regulatory trade barriers\"\n",
    "\n",
    "df1 = df.filter(df['Regulatory trade barriers'] < 1).select('Regulatory trade barriers')\n",
    "df1.count()"
   ]
  },
  {
   "cell_type": "code",
   "execution_count": 127,
   "metadata": {},
   "outputs": [
    {
     "data": {
      "text/plain": [
       "10"
      ]
     },
     "execution_count": 127,
     "metadata": {},
     "output_type": "execute_result"
    }
   ],
   "source": [
    "#Identifying outliers in attribute \"Regulatory trade barriers\"\n",
    "df2 = df.filter(df['Regulatory trade barriers'] > 8.5).select('Regulatory trade barriers')\n",
    "df2.count()"
   ]
  },
  {
   "cell_type": "code",
   "execution_count": 43,
   "metadata": {},
   "outputs": [
    {
     "data": {
      "text/plain": [
       "1569"
      ]
     },
     "execution_count": 43,
     "metadata": {},
     "output_type": "execute_result"
    }
   ],
   "source": [
    "df.count()"
   ]
  },
  {
   "cell_type": "code",
   "execution_count": 132,
   "metadata": {},
   "outputs": [
    {
     "data": {
      "text/plain": [
       "1559"
      ]
     },
     "execution_count": 132,
     "metadata": {},
     "output_type": "execute_result"
    }
   ],
   "source": [
    "#Removing outliers in attribute \"Regulatory trade barriers\"\n",
    "c1 = df.filter(df['Regulatory trade barriers'] < 8.5).select('Year','Countries','Region','HUMAN FREEDOM (Score)','HUMAN FREEDOM (Rank)',\n",
    " 'HUMAN FREEDOM (Quartile)','Rule of Law','Disappearances, Conflicts, and Terrorism','Women Security & Safety','Security & Safety',\n",
    " 'Women Movement','Movement','Legal and Regulatory Restrictions','State Control over Internet Access','Expression & Information',\n",
    " 'Same Sex Relationships','Divorce','PERSONAL FREEDOM (Score)','PERSONAL FREEDOM (Rank)',\n",
    " 'Government  enterprises and investment','Top marginal income tax rate','Legal enforcement of contracts',\n",
    " 'Reliability of police','Gender Legal Rights Adjustment','Money growth','Inflation: Most recent year',\n",
    " 'Compliance costs of importing and exporting','Regulatory trade barriers','Foreign ownership/investment restrictions',\n",
    " 'Freedom to trade internationally','Hiring regulations and minimum wage','Labour market regulations',\n",
    " 'Licensing restrictions','Business regulations','ECONOMIC FREEDOM (Score)','ECONOMIC FREEDOM (Rank)','Inflation')\n",
    "c1.count()"
   ]
  },
  {
   "cell_type": "code",
   "execution_count": 133,
   "metadata": {},
   "outputs": [
    {
     "data": {
      "text/plain": [
       "1492"
      ]
     },
     "execution_count": 133,
     "metadata": {},
     "output_type": "execute_result"
    }
   ],
   "source": [
    "#Removing outliers in attribute \"Regulatory trade barriers\"\n",
    "c2 = c1.filter(df['Regulatory trade barriers'] > 1).select('Year','Countries','Region','HUMAN FREEDOM (Score)','HUMAN FREEDOM (Rank)',\n",
    " 'HUMAN FREEDOM (Quartile)','Rule of Law','Disappearances, Conflicts, and Terrorism','Women Security & Safety','Security & Safety',\n",
    " 'Women Movement','Movement','Legal and Regulatory Restrictions','State Control over Internet Access','Expression & Information',\n",
    " 'Same Sex Relationships','Divorce','PERSONAL FREEDOM (Score)','PERSONAL FREEDOM (Rank)',\n",
    " 'Government  enterprises and investment','Top marginal income tax rate','Legal enforcement of contracts',\n",
    " 'Reliability of police','Gender Legal Rights Adjustment','Money growth','Inflation: Most recent year',\n",
    " 'Compliance costs of importing and exporting','Regulatory trade barriers','Foreign ownership/investment restrictions',\n",
    " 'Freedom to trade internationally','Hiring regulations and minimum wage','Labour market regulations',\n",
    " 'Licensing restrictions','Business regulations','ECONOMIC FREEDOM (Score)','ECONOMIC FREEDOM (Rank)','Inflation')\n",
    "c2.count()"
   ]
  },
  {
   "cell_type": "code",
   "execution_count": 113,
   "metadata": {},
   "outputs": [
    {
     "data": {
      "text/plain": [
       "7"
      ]
     },
     "execution_count": 113,
     "metadata": {},
     "output_type": "execute_result"
    }
   ],
   "source": [
    "#Identifying outliers in attribute 'Women Movement'\n",
    "\n",
    "df1 = df.filter(df['Money growth'] < 4).select('Money growth')\n",
    "df1.count()"
   ]
  },
  {
   "cell_type": "code",
   "execution_count": 135,
   "metadata": {},
   "outputs": [
    {
     "data": {
      "text/plain": [
       "630"
      ]
     },
     "execution_count": 135,
     "metadata": {},
     "output_type": "execute_result"
    }
   ],
   "source": [
    "#Identifying outliers in attribute 'Women Movement'\n",
    "df2 = df.filter(df['Money growth'] > 8.9).select('Money growth')\n",
    "df2.count()"
   ]
  },
  {
   "cell_type": "code",
   "execution_count": 71,
   "metadata": {},
   "outputs": [
    {
     "data": {
      "text/plain": [
       "1170"
      ]
     },
     "execution_count": 71,
     "metadata": {},
     "output_type": "execute_result"
    }
   ],
   "source": [
    "#Removing outliers in attribute 'Women Movement'\n",
    "c3 = c2.filter(df['Regulatory trade barriers'] > 4).select('Year','Countries','Region','HUMAN FREEDOM (Score)','HUMAN FREEDOM (Rank)',\n",
    " 'HUMAN FREEDOM (Quartile)','Rule of Law','Disappearances, Conflicts, and Terrorism','Women Security & Safety','Security & Safety',\n",
    " 'Women Movement','Movement','Legal and Regulatory Restrictions','State Control over Internet Access','Expression & Information',\n",
    " 'Same Sex Relationships','Divorce','PERSONAL FREEDOM (Score)','PERSONAL FREEDOM (Rank)',\n",
    " 'Government  enterprises and investment','Top marginal income tax rate','Legal enforcement of contracts',\n",
    " 'Reliability of police','Gender Legal Rights Adjustment','Money growth','Inflation: Most recent year',\n",
    " 'Compliance costs of importing and exporting','Regulatory trade barriers','Foreign ownership/investment restrictions',\n",
    " 'Freedom to trade internationally','Hiring regulations and minimum wage','Labour market regulations',\n",
    " 'Licensing restrictions','Business regulations','ECONOMIC FREEDOM (Score)','ECONOMIC FREEDOM (Rank)','Inflation')\n",
    "c3.count()"
   ]
  },
  {
   "cell_type": "code",
   "execution_count": 116,
   "metadata": {},
   "outputs": [
    {
     "data": {
      "text/plain": [
       "49"
      ]
     },
     "execution_count": 116,
     "metadata": {},
     "output_type": "execute_result"
    }
   ],
   "source": [
    "#Identifying outliers in attribute 'Business regulations'\n",
    "\n",
    "df3 = df.filter(df['Business regulations'] < 2.2).select('Business regulations')\n",
    "df3.count()"
   ]
  },
  {
   "cell_type": "code",
   "execution_count": 103,
   "metadata": {},
   "outputs": [
    {
     "data": {
      "text/plain": [
       "12"
      ]
     },
     "execution_count": 103,
     "metadata": {},
     "output_type": "execute_result"
    }
   ],
   "source": [
    "#Identifying outliers in attribute 'Business regulations'\n",
    "df4 = df.filter(df['Business regulations'] > 8 ).select('Business regulations')\n",
    "df4.count()"
   ]
  },
  {
   "cell_type": "code",
   "execution_count": 119,
   "metadata": {},
   "outputs": [
    {
     "data": {
      "text/plain": [
       "1404"
      ]
     },
     "execution_count": 119,
     "metadata": {},
     "output_type": "execute_result"
    }
   ],
   "source": [
    "#Removing outliers in attribute 'Business regulations'\n",
    "c4 = df.filter(df['Business regulations'] < 8).select('Year','Countries','Region','HUMAN FREEDOM (Score)','HUMAN FREEDOM (Rank)',\n",
    " 'HUMAN FREEDOM (Quartile)','Rule of Law','Disappearances, Conflicts, and Terrorism','Women Security & Safety','Security & Safety',\n",
    " 'Women Movement','Movement','Legal and Regulatory Restrictions','State Control over Internet Access','Expression & Information',\n",
    " 'Same Sex Relationships','Divorce','PERSONAL FREEDOM (Score)','PERSONAL FREEDOM (Rank)',\n",
    " 'Government  enterprises and investment','Top marginal income tax rate','Legal enforcement of contracts',\n",
    " 'Reliability of police','Gender Legal Rights Adjustment','Money growth','Inflation: Most recent year',\n",
    " 'Compliance costs of importing and exporting','Regulatory trade barriers','Foreign ownership/investment restrictions',\n",
    " 'Freedom to trade internationally','Hiring regulations and minimum wage','Labour market regulations',\n",
    " 'Licensing restrictions','Business regulations','ECONOMIC FREEDOM (Score)','ECONOMIC FREEDOM (Rank)','Inflation')\n",
    "c4.count()"
   ]
  },
  {
   "cell_type": "code",
   "execution_count": 125,
   "metadata": {},
   "outputs": [
    {
     "data": {
      "text/plain": [
       "1368"
      ]
     },
     "execution_count": 125,
     "metadata": {},
     "output_type": "execute_result"
    }
   ],
   "source": [
    "#Removing outliers in attribute 'Business regulations'\n",
    "c5 = c4.filter(df['Business regulations'] > 0).select('Year','Countries','Region','HUMAN FREEDOM (Score)','HUMAN FREEDOM (Rank)',\n",
    " 'HUMAN FREEDOM (Quartile)','Rule of Law','Disappearances, Conflicts, and Terrorism','Women Security & Safety','Security & Safety',\n",
    " 'Women Movement','Movement','Legal and Regulatory Restrictions','State Control over Internet Access','Expression & Information',\n",
    " 'Same Sex Relationships','Divorce','PERSONAL FREEDOM (Score)','PERSONAL FREEDOM (Rank)',\n",
    " 'Government  enterprises and investment','Top marginal income tax rate','Legal enforcement of contracts',\n",
    " 'Reliability of police','Gender Legal Rights Adjustment','Money growth','Inflation: Most recent year',\n",
    " 'Compliance costs of importing and exporting','Regulatory trade barriers','Foreign ownership/investment restrictions',\n",
    " 'Freedom to trade internationally','Hiring regulations and minimum wage','Labour market regulations',\n",
    " 'Licensing restrictions','Business regulations','ECONOMIC FREEDOM (Score)','ECONOMIC FREEDOM (Rank)','Inflation')\n",
    "c5.count()"
   ]
  },
  {
   "cell_type": "markdown",
   "metadata": {},
   "source": [
    "# 3.4 integrating data"
   ]
  },
  {
   "cell_type": "code",
   "execution_count": 37,
   "metadata": {},
   "outputs": [
    {
     "name": "stdout",
     "output_type": "stream",
     "text": [
      "root\n",
      " |-- Year: integer (nullable = true)\n",
      " |-- Countries: string (nullable = true)\n",
      " |-- Region: string (nullable = true)\n",
      " |-- HUMAN FREEDOM (Score): double (nullable = true)\n",
      " |-- HUMAN FREEDOM (Rank): integer (nullable = true)\n",
      " |-- HUMAN FREEDOM (Quartile): integer (nullable = true)\n",
      " |-- Rule of Law: double (nullable = true)\n",
      " |-- Disappearances, Conflicts, and Terrorism: double (nullable = true)\n",
      " |-- Women Security & Safety: double (nullable = true)\n",
      " |-- Security & Safety: double (nullable = true)\n",
      " |-- Women Movement: double (nullable = true)\n",
      " |-- Legal and Regulatory Restrictions: double (nullable = true)\n",
      " |-- State Control over Internet Access: double (nullable = true)\n",
      " |-- Expression & Information: double (nullable = true)\n",
      " |-- Same Sex Relationships: integer (nullable = true)\n",
      " |-- Divorce: double (nullable = true)\n",
      " |-- PERSONAL FREEDOM (Score): double (nullable = true)\n",
      " |-- PERSONAL FREEDOM (Rank): integer (nullable = true)\n",
      "\n",
      "root\n",
      " |-- Countries: string (nullable = true)\n",
      " |-- Government  enterprises and investment: integer (nullable = true)\n",
      " |-- Top marginal income tax rate: integer (nullable = true)\n",
      " |-- Legal enforcement of contracts: double (nullable = true)\n",
      " |-- Reliability of police: double (nullable = true)\n",
      " |-- Gender Legal Rights Adjustment: double (nullable = true)\n",
      " |-- Money growth: double (nullable = true)\n",
      " |-- Inflation: Most recent year: double (nullable = true)\n",
      " |-- Compliance costs of importing and exporting: double (nullable = true)\n",
      " |-- Regulatory trade barriers: double (nullable = true)\n",
      " |-- Foreign ownership/investment restrictions: double (nullable = true)\n",
      " |-- Freedom to trade internationally: double (nullable = true)\n",
      " |-- Hiring regulations and minimum wage: double (nullable = true)\n",
      " |-- Labour market regulations: double (nullable = true)\n",
      " |-- Licensing restrictions: double (nullable = true)\n",
      " |-- Business regulations: double (nullable = true)\n",
      " |-- ECONOMIC FREEDOM (Score): double (nullable = true)\n",
      " |-- ECONOMIC FREEDOM (Rank): integer (nullable = true)\n",
      "\n"
     ]
    }
   ],
   "source": [
    "#merging 2 data sets\n",
    "#Loading datasets\n",
    "dataset1 = spark.read.csv('HumanHappiness - bdas 1 (Dataset 1).csv', inferSchema=True, header=True)\n",
    "dataset2 = spark.read.csv('HumanHappiness - bdas 1 (Dataset 2).csv', inferSchema=True, header=True)\n",
    "#Printing the types of attributes\n",
    "dataset1.printSchema()\n",
    "dataset2.printSchema()"
   ]
  },
  {
   "cell_type": "code",
   "execution_count": 38,
   "metadata": {},
   "outputs": [
    {
     "data": {
      "text/plain": [
       "1569"
      ]
     },
     "execution_count": 38,
     "metadata": {},
     "output_type": "execute_result"
    }
   ],
   "source": [
    "#Counting number of rows of dataset1\n",
    "dataset1.count()\n"
   ]
  },
  {
   "cell_type": "code",
   "execution_count": 105,
   "metadata": {},
   "outputs": [
    {
     "data": {
      "text/plain": [
       "18"
      ]
     },
     "execution_count": 105,
     "metadata": {},
     "output_type": "execute_result"
    }
   ],
   "source": [
    "#Counting number of columns of dataset1\n",
    "len(dataset1.columns)"
   ]
  },
  {
   "cell_type": "code",
   "execution_count": 106,
   "metadata": {},
   "outputs": [
    {
     "data": {
      "text/plain": [
       "1569"
      ]
     },
     "execution_count": 106,
     "metadata": {},
     "output_type": "execute_result"
    }
   ],
   "source": [
    "#Counting number of rows of dataset2\n",
    "dataset2.count()"
   ]
  },
  {
   "cell_type": "code",
   "execution_count": 107,
   "metadata": {},
   "outputs": [
    {
     "data": {
      "text/plain": [
       "18"
      ]
     },
     "execution_count": 107,
     "metadata": {},
     "output_type": "execute_result"
    }
   ],
   "source": [
    "#Counting number of columns of dataset2\n",
    "len(dataset2.columns)"
   ]
  },
  {
   "cell_type": "code",
   "execution_count": 108,
   "metadata": {},
   "outputs": [
    {
     "name": "stdout",
     "output_type": "stream",
     "text": [
      "+----+--------------------+--------------------+---------------------+--------------------+------------------------+-----------+----------------------------------------+-----------------------+-----------------+--------------+---------------------------------+----------------------------------+------------------------+----------------------+-------+------------------------+-----------------------+\n",
      "|Year|           Countries|              Region|HUMAN FREEDOM (Score)|HUMAN FREEDOM (Rank)|HUMAN FREEDOM (Quartile)|Rule of Law|Disappearances, Conflicts, and Terrorism|Women Security & Safety|Security & Safety|Women Movement|Legal and Regulatory Restrictions|State Control over Internet Access|Expression & Information|Same Sex Relationships|Divorce|PERSONAL FREEDOM (Score)|PERSONAL FREEDOM (Rank)|\n",
      "+----+--------------------+--------------------+---------------------+--------------------+------------------------+-----------+----------------------------------------+-----------------------+-----------------+--------------+---------------------------------+----------------------------------+------------------------+----------------------+-------+------------------------+-----------------------+\n",
      "|2017|             Albania|      Eastern Europe|                 7.84|                38.0|                     1.0|       null|                                    10.0|                   null|      9.276666667|          null|                             null|                              10.0|             8.607142857|                  null|   null|             8.005411457|                     46|\n",
      "|2017|             Algeria|Middle East & Nor...|                 4.99|               155.0|                     4.0|       null|                             8.865434414|                   null|      7.773896003|          null|                             null|                               7.5|             7.311802542|                  null|   null|             5.201489165|                    146|\n",
      "|2017|              Angola|   SubSaharan Africa|                  5.4|               151.0|                     4.0|       null|                             8.876403002|                   null|      8.145554414|          null|                             null|                               7.5|             6.452380952|                  null|   null|             5.979935733|                    121|\n",
      "|2017|           Argentina|Latin America & t...|                 6.86|                77.0|                     2.0|       null|                                     8.5|                   null|             8.82|          null|                             null|                              10.0|             8.738095238|                  null|   null|             8.044599873|                     41|\n",
      "|2017|             Armenia|Caucasus & Centra...|                 7.42|                54.0|                     2.0|       null|                                     9.5|                   null|      9.096666667|          null|                             null|                               7.5|             7.154761905|                  null|   null|             7.145017434|                     72|\n",
      "|2017|           Australia|             Oceania|                 8.62|                 5.0|                     1.0| 7.77627878|                             9.955016951|                   null|      9.878338984|          null|                             null|                              10.0|             9.392857143|                   5.0|   10.0|             9.160532748|                     12|\n",
      "|2017|             Austria|      Western Europe|                 8.48|                13.0|                     1.0|8.171748815|                             9.984844293|                   null|      9.907585478|          10.0|                             null|                              10.0|             9.333333333|                  10.0|   10.0|             9.245685425|                      8|\n",
      "|2017|          Azerbaijan|Caucasus & Centra...|                 6.22|               121.0|                     3.0|4.291270376|                             9.214499299|                   10.0|      9.471499766|          10.0|                      5.461111111|                               7.5|             4.011904762|                   0.0|    7.5|              6.10466079|                    119|\n",
      "|2017|             Bahamas|Latin America & t...|                 7.56|                48.0|                     2.0|6.400790273|                                    10.0|                   10.0|      6.666666667|          10.0|                      6.433333333|                               0.0|             8.895833333|                  10.0|   10.0|             7.871204513|                     48|\n",
      "|2017|             Bahrain|Middle East & Nor...|                 6.63|                95.0|                     3.0|5.898037535|                             7.535230178|                    5.0|      7.441903866|           2.5|                      4.022222222|                               2.5|             4.130952381|                   5.0|    0.0|             5.910895403|                    126|\n",
      "|2017|          Bangladesh|          South Asia|                 5.77|               138.0|                     4.0|3.132892486|                             6.953118287|                    5.0|      7.024372762|          10.0|                      4.211111111|                               7.5|             6.995904411|                   5.0|    0.0|              5.36557342|                    142|\n",
      "|2017|            Barbados|Latin America & t...|                 7.02|                66.0|                     2.0|6.699287431|                                    10.0|                   10.0|              8.6|           2.5|                      7.544444444|                               0.0|                    null|                   0.0|   10.0|             7.589752413|                     57|\n",
      "|2017|             Belarus|      Eastern Europe|                 6.65|                92.0|                     3.0|5.128924941|                                     9.0|                   10.0|      9.188711522|          10.0|                      4.488888889|                               5.0|                    null|                  10.0|   10.0|             6.659028163|                     91|\n",
      "|2017|             Belgium|      Western Europe|                 8.29|                23.0|                     1.0|7.751100945|                             9.981257603|                   10.0|      9.767085868|          10.0|                      6.061111111|                              10.0|                    null|                  10.0|   10.0|             9.067694851|                     14|\n",
      "|2017|              Belize|Latin America & t...|                 6.95|                68.0|                     2.0|4.268872009|                                    10.0|                   10.0|      6.666666667|           2.5|                      8.516666667|                               0.0|                    null|                  10.0|   10.0|             7.118363836|                     74|\n",
      "|2017|               Benin|   SubSaharan Africa|                 6.77|                85.0|                     3.0|4.180309414|                                     9.5|                   7.05|      8.703333333|           2.5|                      9.633333333|                              10.0|                    null|                  10.0|    7.5|             7.469386877|                     62|\n",
      "|2017|              Bhutan|          South Asia|                 6.53|               105.0|                     3.0|6.187897766|                                     9.5|                   10.0|             9.62|          10.0|                      5.088888889|                               0.0|                    null|                   0.0|    2.5|             6.286279997|                    111|\n",
      "|2017|             Bolivia|Latin America & t...|                 6.61|                97.0|                     3.0|3.051401851|                                     9.5|                   8.75|      8.576641171|          10.0|                      8.933333333|                              10.0|             8.416666667|                  10.0|   10.0|              7.07482557|                     75|\n",
      "|2017|Bosnia and Herzeg...|      Eastern Europe|                 7.37|                55.0|                     2.0|5.470080395|                                     9.0|                   8.75|             9.09|          10.0|                      7.127777778|                              10.0|             8.654761905|                  10.0|   10.0|             8.040348141|                     42|\n",
      "|2017|            Botswana|   SubSaharan Africa|                 7.17|                60.0|                     2.0|5.641683932|                                    10.0|                   8.75|      7.578237213|           2.5|                      8.238888889|                               0.0|                  7.8125|                   0.0|    5.0|             6.970084453|                     81|\n",
      "+----+--------------------+--------------------+---------------------+--------------------+------------------------+-----------+----------------------------------------+-----------------------+-----------------+--------------+---------------------------------+----------------------------------+------------------------+----------------------+-------+------------------------+-----------------------+\n",
      "only showing top 20 rows\n",
      "\n"
     ]
    }
   ],
   "source": [
    "#Appending two datasets\n",
    "concat = dataset1.union(dataset2)\n",
    "concat.show()"
   ]
  },
  {
   "cell_type": "markdown",
   "metadata": {},
   "source": [
    "# 3.1 Data Selection"
   ]
  },
  {
   "cell_type": "code",
   "execution_count": 39,
   "metadata": {},
   "outputs": [
    {
     "data": {
      "text/plain": [
       "['Year',\n",
       " 'Countries',\n",
       " 'Region',\n",
       " 'HUMAN FREEDOM (Score)',\n",
       " 'HUMAN FREEDOM (Rank)',\n",
       " 'HUMAN FREEDOM (Quartile)',\n",
       " 'Rule of Law',\n",
       " 'Disappearances, Conflicts, and Terrorism',\n",
       " 'Women Security & Safety',\n",
       " 'Security & Safety',\n",
       " 'Women Movement',\n",
       " 'Legal and Regulatory Restrictions',\n",
       " 'State Control over Internet Access',\n",
       " 'Expression & Information',\n",
       " 'Same Sex Relationships',\n",
       " 'Divorce',\n",
       " 'PERSONAL FREEDOM (Score)',\n",
       " 'PERSONAL FREEDOM (Rank)',\n",
       " 'Government  enterprises and investment',\n",
       " 'Top marginal income tax rate',\n",
       " 'Legal enforcement of contracts',\n",
       " 'Gender Legal Rights Adjustment',\n",
       " 'Money growth',\n",
       " 'Inflation: Most recent year',\n",
       " 'Compliance costs of importing and exporting',\n",
       " 'Regulatory trade barriers',\n",
       " 'Foreign ownership/investment restrictions',\n",
       " 'Freedom to trade internationally',\n",
       " 'Hiring regulations and minimum wage',\n",
       " 'Labour market regulations',\n",
       " 'Business regulations',\n",
       " 'ECONOMIC FREEDOM (Score)',\n",
       " 'ECONOMIC FREEDOM (Rank)',\n",
       " 'Security_total']"
      ]
     },
     "execution_count": 39,
     "metadata": {},
     "output_type": "execute_result"
    }
   ],
   "source": [
    "#Dropping column \n",
    "df.drop('Movement', 'Reliability of police', 'Licensing restrictions').columns\n"
   ]
  },
  {
   "cell_type": "code",
   "execution_count": 72,
   "metadata": {},
   "outputs": [],
   "source": [
    "#df8.write.format('com.databricks.spark.csv').save('Preeeeeeeeee1-HumanHappiness - bdas 1.csv')"
   ]
  },
  {
   "cell_type": "code",
   "execution_count": null,
   "metadata": {},
   "outputs": [],
   "source": []
  }
 ],
 "metadata": {
  "kernelspec": {
   "display_name": "Python 3",
   "language": "python",
   "name": "python3"
  },
  "language_info": {
   "codemirror_mode": {
    "name": "ipython",
    "version": 3
   },
   "file_extension": ".py",
   "mimetype": "text/x-python",
   "name": "python",
   "nbconvert_exporter": "python",
   "pygments_lexer": "ipython3",
   "version": "3.5.2"
  }
 },
 "nbformat": 4,
 "nbformat_minor": 2
}
