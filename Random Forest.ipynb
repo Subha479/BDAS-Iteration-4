{
 "cells": [
  {
   "cell_type": "code",
   "execution_count": 1,
   "metadata": {},
   "outputs": [],
   "source": [
    "# Must be included at the beginning of each new notebook. Remember to change the app name.\n",
    "import findspark\n",
    "findspark.init('/home/ubuntu/spark-2.1.1-bin-hadoop2.7')\n",
    "import pyspark\n",
    "import pyspark.sql.functions as F\n",
    "import pyspark.sql.types as T\n",
    "from pyspark.sql import SparkSession\n",
    "spark = SparkSession.builder.appName('RandomForest').getOrCreate()\n"
   ]
  },
  {
   "cell_type": "code",
   "execution_count": 4,
   "metadata": {},
   "outputs": [],
   "source": [
    "df = spark.read.load(\"./finalEdited-HumanHappiness-BDAS-mining.csv\", format=\"csv\", header=True, inferSchema=True)"
   ]
  },
  {
   "cell_type": "code",
   "execution_count": 5,
   "metadata": {},
   "outputs": [],
   "source": [
    "# Decision Tree Regression\n",
    "\n",
    "from pyspark.ml.regression import DecisionTreeRegressor\n",
    "from pyspark.ml.evaluation import RegressionEvaluator"
   ]
  },
  {
   "cell_type": "code",
   "execution_count": 11,
   "metadata": {},
   "outputs": [],
   "source": [
    "# Import VectorAssembler and Vectors\n",
    "from pyspark.ml.linalg import Vectors\n",
    "from pyspark.ml.feature import VectorAssembler\n",
    "\n",
    "# The input columns are the feature column names, and the output column is what you'd like the new column to be named. \n",
    "vector_assembler = VectorAssembler(\n",
    "    inputCols=['Year',\n",
    " 'Rule of Law',\n",
    " 'Disappearances, Conflicts, and Terrorism',\n",
    " 'Women Security & Safety',\n",
    " 'Security & Safety',\n",
    " 'Women Movement',\n",
    " 'Movement',\n",
    " 'Legal and Regulatory Restrictions',\n",
    " 'State Control over Internet Access',\n",
    " 'Expression & Information',\n",
    " 'Same Sex Relationships',\n",
    " 'Divorce',\n",
    " 'PERSONAL FREEDOM (Score)',\n",
    " 'PERSONAL FREEDOM (Rank)',\n",
    " 'Government  enterprises and investment',\n",
    " 'Top marginal income tax rate',\n",
    " 'Legal enforcement of contracts',\n",
    " 'Reliability of police',\n",
    " 'Gender Legal Rights Adjustment',\n",
    " 'Money growth',\n",
    " 'Inflation: Most recent year',\n",
    " 'Compliance costs of importing and exporting',\n",
    " 'Regulatory trade barriers',\n",
    " 'Foreign ownership/investment restrictions',\n",
    " 'Freedom to trade internationally',\n",
    " 'Hiring regulations and minimum wage',\n",
    " 'Labour market regulations',\n",
    " 'Licensing restrictions',\n",
    " 'Business regulations',\n",
    " 'ECONOMIC FREEDOM (Score)',\n",
    " 'ECONOMIC FREEDOM (Rank)'],\n",
    "    outputCol=\"features\")"
   ]
  },
  {
   "cell_type": "code",
   "execution_count": 12,
   "metadata": {},
   "outputs": [],
   "source": [
    "vector_output = vector_assembler.transform(df)"
   ]
  },
  {
   "cell_type": "code",
   "execution_count": 13,
   "metadata": {},
   "outputs": [
    {
     "name": "stdout",
     "output_type": "stream",
     "text": [
      "root\n",
      " |-- Year: integer (nullable = true)\n",
      " |-- Countries: string (nullable = true)\n",
      " |-- Region: string (nullable = true)\n",
      " |-- HUMAN FREEDOM (Score): double (nullable = true)\n",
      " |-- HUMAN FREEDOM (Rank): integer (nullable = true)\n",
      " |-- HUMAN FREEDOM (Quartile): integer (nullable = true)\n",
      " |-- Rule of Law: double (nullable = true)\n",
      " |-- Disappearances, Conflicts, and Terrorism: double (nullable = true)\n",
      " |-- Women Security & Safety: double (nullable = true)\n",
      " |-- Security & Safety: double (nullable = true)\n",
      " |-- Women Movement: double (nullable = true)\n",
      " |-- Movement: double (nullable = true)\n",
      " |-- Legal and Regulatory Restrictions: double (nullable = true)\n",
      " |-- State Control over Internet Access: double (nullable = true)\n",
      " |-- Expression & Information: double (nullable = true)\n",
      " |-- Same Sex Relationships: integer (nullable = true)\n",
      " |-- Divorce: double (nullable = true)\n",
      " |-- PERSONAL FREEDOM (Score): double (nullable = true)\n",
      " |-- PERSONAL FREEDOM (Rank): integer (nullable = true)\n",
      " |-- Government  enterprises and investment: integer (nullable = true)\n",
      " |-- Top marginal income tax rate: integer (nullable = true)\n",
      " |-- Legal enforcement of contracts: double (nullable = true)\n",
      " |-- Reliability of police: double (nullable = true)\n",
      " |-- Gender Legal Rights Adjustment: double (nullable = true)\n",
      " |-- Money growth: double (nullable = true)\n",
      " |-- Inflation: Most recent year: double (nullable = true)\n",
      " |-- Compliance costs of importing and exporting: double (nullable = true)\n",
      " |-- Regulatory trade barriers: double (nullable = true)\n",
      " |-- Foreign ownership/investment restrictions: double (nullable = true)\n",
      " |-- Freedom to trade internationally: double (nullable = true)\n",
      " |-- Hiring regulations and minimum wage: double (nullable = true)\n",
      " |-- Labour market regulations: double (nullable = true)\n",
      " |-- Licensing restrictions: double (nullable = true)\n",
      " |-- Business regulations: double (nullable = true)\n",
      " |-- ECONOMIC FREEDOM (Score): double (nullable = true)\n",
      " |-- ECONOMIC FREEDOM (Rank): integer (nullable = true)\n",
      " |-- features: vector (nullable = true)\n",
      "\n"
     ]
    },
    {
     "data": {
      "text/plain": [
       "[Row(Year=2017, Countries='Albania', Region='Eastern Europe', HUMAN FREEDOM (Score)=7.84, HUMAN FREEDOM (Rank)=38, HUMAN FREEDOM (Quartile)=1, Rule of Law=5.291751647, Disappearances, Conflicts, and Terrorism=10.0, Women Security & Safety=8.75, Security & Safety=9.276666667, Women Movement=10.0, Movement=10.0, Legal and Regulatory Restrictions=8.011111111, State Control over Internet Access=10.0, Expression & Information=8.607142857, Same Sex Relationships=10, Divorce=7.5, PERSONAL FREEDOM (Score)=8.005411457, PERSONAL FREEDOM (Rank)=46, Government  enterprises and investment=8, Top marginal income tax rate=9, Legal enforcement of contracts=4.387444055, Reliability of police=6.824168762, Gender Legal Rights Adjustment=0.9524, Money growth=9.253087019, Inflation: Most recent year=9.601214379, Compliance costs of importing and exporting=9.405327776, Regulatory trade barriers=7.706503738, Foreign ownership/investment restrictions=6.306105852, Freedom to trade internationally=8.343862962, Hiring regulations and minimum wage=5.566666667, Labour market regulations=6.938448195, Licensing restrictions=6.031964728, Business regulations=6.652097679, ECONOMIC FREEDOM (Score)=7.67, ECONOMIC FREEDOM (Rank)=30, features=DenseVector([2017.0, 5.2918, 10.0, 8.75, 9.2767, 10.0, 10.0, 8.0111, 10.0, 8.6071, 10.0, 7.5, 8.0054, 46.0, 8.0, 9.0, 4.3874, 6.8242, 0.9524, 9.2531, 9.6012, 9.4053, 7.7065, 6.3061, 8.3439, 5.5667, 6.9384, 6.032, 6.6521, 7.67, 30.0]))]"
      ]
     },
     "execution_count": 13,
     "metadata": {},
     "output_type": "execute_result"
    }
   ],
   "source": [
    "vector_output.printSchema()\n",
    "vector_output.head(1)"
   ]
  },
  {
   "cell_type": "code",
   "execution_count": 14,
   "metadata": {},
   "outputs": [
    {
     "name": "stdout",
     "output_type": "stream",
     "text": [
      "[Row(features=DenseVector([2017.0, 5.2918, 10.0, 8.75, 9.2767, 10.0, 10.0, 8.0111, 10.0, 8.6071, 10.0, 7.5, 8.0054, 46.0, 8.0, 9.0, 4.3874, 6.8242, 0.9524, 9.2531, 9.6012, 9.4053, 7.7065, 6.3061, 8.3439, 5.5667, 6.9384, 6.032, 6.6521, 7.67, 30.0]), HUMAN FREEDOM (Rank)=38)]\n",
      "+--------------------+--------------------+\n",
      "|            features|HUMAN FREEDOM (Rank)|\n",
      "+--------------------+--------------------+\n",
      "|[2017.0,5.2917516...|                  38|\n",
      "|[2017.0,3.7960803...|                 155|\n",
      "|[2017.0,3.4119028...|                 151|\n",
      "+--------------------+--------------------+\n",
      "only showing top 3 rows\n",
      "\n"
     ]
    }
   ],
   "source": [
    "vector_output = vector_output.select(['features', 'HUMAN FREEDOM (Rank)'])\n",
    "print(vector_output.head(1))\n",
    "vector_output.show(3)"
   ]
  },
  {
   "cell_type": "code",
   "execution_count": 15,
   "metadata": {},
   "outputs": [
    {
     "name": "stdout",
     "output_type": "stream",
     "text": [
      "+-------+--------------------+\n",
      "|summary|HUMAN FREEDOM (Rank)|\n",
      "+-------+--------------------+\n",
      "|  count|                1251|\n",
      "|   mean|   75.59072741806554|\n",
      "| stddev|  45.551451809469675|\n",
      "|    min|                   0|\n",
      "|    max|                 162|\n",
      "+-------+--------------------+\n",
      "\n",
      "+-------+--------------------+\n",
      "|summary|HUMAN FREEDOM (Rank)|\n",
      "+-------+--------------------+\n",
      "|  count|                 318|\n",
      "|   mean|   76.41509433962264|\n",
      "| stddev|  45.852362431257035|\n",
      "|    min|                   0|\n",
      "|    max|                 162|\n",
      "+-------+--------------------+\n",
      "\n"
     ]
    }
   ],
   "source": [
    "train_data,test_data = vector_output.randomSplit([0.8,0.2])\n",
    "train_data.describe().show()\n",
    "test_data.describe().show()"
   ]
  },
  {
   "cell_type": "code",
   "execution_count": 16,
   "metadata": {},
   "outputs": [],
   "source": [
    "# Decision Tree Regression\n",
    "\n",
    "from pyspark.ml.regression import DecisionTreeRegressor\n",
    "from pyspark.ml.evaluation import RegressionEvaluator\n",
    "\n",
    "dt = DecisionTreeRegressor(featuresCol ='features', labelCol = 'HUMAN FREEDOM (Rank)')\n",
    "dt_model = dt.fit(vector_output)\n",
    "dt_predictions = dt_model.transform(vector_output)"
   ]
  },
  {
   "cell_type": "code",
   "execution_count": 17,
   "metadata": {},
   "outputs": [
    {
     "name": "stdout",
     "output_type": "stream",
     "text": [
      "Root Mean Squared Error (RMSE) on vector_output = 5.83945\n"
     ]
    }
   ],
   "source": [
    "# RMSE\n",
    "dtr_evaluator = RegressionEvaluator(\n",
    "    labelCol=\"HUMAN FREEDOM (Rank)\", predictionCol=\"prediction\", metricName=\"rmse\")\n",
    "rmse = dtr_evaluator.evaluate(dt_predictions)\n",
    "print(\"Root Mean Squared Error (RMSE) on vector_output = %g\" % rmse)\n"
   ]
  },
  {
   "cell_type": "code",
   "execution_count": 18,
   "metadata": {},
   "outputs": [
    {
     "name": "stdout",
     "output_type": "stream",
     "text": [
      "Mean Absolute Error (MAE) on vector_output = 4.53781\n"
     ]
    }
   ],
   "source": [
    "# MAE\n",
    "dtm_evaluator = RegressionEvaluator(\n",
    "    labelCol=\"HUMAN FREEDOM (Rank)\", predictionCol=\"prediction\", metricName=\"mae\")\n",
    "mae = dtm_evaluator.evaluate(dt_predictions)\n",
    "print(\"Mean Absolute Error (MAE) on vector_output = %g\" % mae)\n"
   ]
  },
  {
   "cell_type": "code",
   "execution_count": 20,
   "metadata": {},
   "outputs": [
    {
     "name": "stdout",
     "output_type": "stream",
     "text": [
      "R-Squared (R2) on vector_output = 0.98359\n"
     ]
    }
   ],
   "source": [
    "# R2\n",
    "dtr2_evaluator = RegressionEvaluator(\n",
    "    labelCol=\"HUMAN FREEDOM (Rank)\", predictionCol=\"prediction\", metricName=\"r2\")\n",
    "r2 = dtr2_evaluator.evaluate(dt_predictions)\n",
    "print(\"R-Squared (R2) on vector_output = %g\" % r2)"
   ]
  },
  {
   "cell_type": "code",
   "execution_count": 21,
   "metadata": {},
   "outputs": [
    {
     "data": {
      "text/plain": [
       "SparseVector(31, {4: 0.0001, 12: 0.0026, 13: 0.859, 16: 0.0005, 23: 0.0006, 29: 0.011, 30: 0.1262})"
      ]
     },
     "execution_count": 21,
     "metadata": {},
     "output_type": "execute_result"
    }
   ],
   "source": [
    "# Feature Importance\n",
    "dt_model.featureImportances"
   ]
  },
  {
   "cell_type": "code",
   "execution_count": 22,
   "metadata": {},
   "outputs": [
    {
     "data": {
      "text/plain": [
       "[Row(Year=2017, Countries='Albania', Region='Eastern Europe', HUMAN FREEDOM (Score)=7.84, HUMAN FREEDOM (Rank)=38, HUMAN FREEDOM (Quartile)=1, Rule of Law=5.291751647, Disappearances, Conflicts, and Terrorism=10.0, Women Security & Safety=8.75, Security & Safety=9.276666667, Women Movement=10.0, Movement=10.0, Legal and Regulatory Restrictions=8.011111111, State Control over Internet Access=10.0, Expression & Information=8.607142857, Same Sex Relationships=10, Divorce=7.5, PERSONAL FREEDOM (Score)=8.005411457, PERSONAL FREEDOM (Rank)=46, Government  enterprises and investment=8, Top marginal income tax rate=9, Legal enforcement of contracts=4.387444055, Reliability of police=6.824168762, Gender Legal Rights Adjustment=0.9524, Money growth=9.253087019, Inflation: Most recent year=9.601214379, Compliance costs of importing and exporting=9.405327776, Regulatory trade barriers=7.706503738, Foreign ownership/investment restrictions=6.306105852, Freedom to trade internationally=8.343862962, Hiring regulations and minimum wage=5.566666667, Labour market regulations=6.938448195, Licensing restrictions=6.031964728, Business regulations=6.652097679, ECONOMIC FREEDOM (Score)=7.67, ECONOMIC FREEDOM (Rank)=30)]"
      ]
     },
     "execution_count": 22,
     "metadata": {},
     "output_type": "execute_result"
    }
   ],
   "source": [
    "df.take(1)"
   ]
  },
  {
   "cell_type": "code",
   "execution_count": 23,
   "metadata": {},
   "outputs": [
    {
     "name": "stdout",
     "output_type": "stream",
     "text": [
      "+------------------+--------------------+--------------------+\n",
      "|        prediction|HUMAN FREEDOM (Rank)|            features|\n",
      "+------------------+--------------------+--------------------+\n",
      "| 48.24252800664515|                  38|[2017.0,5.2917516...|\n",
      "|152.25405647516925|                 155|[2017.0,3.7960803...|\n",
      "|146.39919194109535|                 151|[2017.0,3.4119028...|\n",
      "| 65.78137251286502|                  77|[2017.0,5.7447910...|\n",
      "| 50.12112251462903|                  54|[2017.0,4.9326094...|\n",
      "|10.125736606059304|                   5|[2017.0,7.7762787...|\n",
      "|10.457199333848967|                  13|[2017.0,8.1717488...|\n",
      "|123.30877555559137|                 121|[2017.0,4.2912703...|\n",
      "| 49.27002020011276|                  48|[2017.0,6.4007902...|\n",
      "|  97.5800008716142|                  95|[2017.0,5.8980375...|\n",
      "|136.33559085858235|                 138|[2017.0,3.1328924...|\n",
      "+------------------+--------------------+--------------------+\n",
      "only showing top 11 rows\n",
      "\n"
     ]
    }
   ],
   "source": [
    "#Gradient boosted tree regression\n",
    "from pyspark.ml.regression import GBTRegressor\n",
    "gbt = GBTRegressor(featuresCol = 'features', labelCol = 'HUMAN FREEDOM (Rank)', maxIter=10)\n",
    "gbt_model = gbt.fit(vector_output)\n",
    "gbt_predictions = gbt_model.transform(vector_output)\n",
    "gbt_predictions.select('prediction', 'HUMAN FREEDOM (Rank)', 'features').show(11)"
   ]
  },
  {
   "cell_type": "code",
   "execution_count": 24,
   "metadata": {},
   "outputs": [
    {
     "name": "stdout",
     "output_type": "stream",
     "text": [
      "Root Mean Squared Error (RMSE) on vector_output = 4.54358\n",
      "Mean Absolute Error (MAE) on vector_output = 3.55365\n",
      "R Squarred (R2) on vector_output = 0.990065\n"
     ]
    }
   ],
   "source": [
    "# Gradient-boosted tree model evaluation\n",
    "\n",
    "# Root Mean Squared Error (RMSE)\n",
    "gbt_evaluator_RMSE = RegressionEvaluator(\n",
    "    labelCol=\"HUMAN FREEDOM (Rank)\", predictionCol=\"prediction\", metricName=\"rmse\")\n",
    "grmse = gbt_evaluator_RMSE.evaluate(gbt_predictions)\n",
    "print(\"Root Mean Squared Error (RMSE) on vector_output = %g\" % grmse)\n",
    "\n",
    "# Mean Absolute Error (MAE)\n",
    "gbt_evaluator_MAE = RegressionEvaluator(\n",
    "    labelCol=\"HUMAN FREEDOM (Rank)\", predictionCol=\"prediction\", metricName=\"mae\")\n",
    "gmae = gbt_evaluator_MAE.evaluate(gbt_predictions)\n",
    "print(\"Mean Absolute Error (MAE) on vector_output = %g\" % gmae)\n",
    "\n",
    "# R Squarred (R2)\n",
    "gbt_evaluator_R2 = RegressionEvaluator(\n",
    "    labelCol=\"HUMAN FREEDOM (Rank)\", predictionCol=\"prediction\", metricName=\"r2\")\n",
    "gr2 = gbt_evaluator_R2.evaluate(gbt_predictions)\n",
    "print(\"R Squarred (R2) on vector_output = %g\" % gr2)"
   ]
  },
  {
   "cell_type": "code",
   "execution_count": 25,
   "metadata": {},
   "outputs": [
    {
     "data": {
      "text/plain": [
       "SparseVector(31, {0: 0.016, 1: 0.0325, 2: 0.0149, 3: 0.0106, 4: 0.0363, 6: 0.0039, 7: 0.0143, 8: 0.0006, 9: 0.036, 11: 0.0008, 12: 0.038, 13: 0.3141, 14: 0.0001, 15: 0.0109, 16: 0.0404, 17: 0.0104, 18: 0.0272, 19: 0.0344, 20: 0.0272, 21: 0.0102, 22: 0.0244, 23: 0.006, 24: 0.0421, 25: 0.0085, 26: 0.0245, 27: 0.031, 28: 0.0012, 29: 0.0673, 30: 0.1162})"
      ]
     },
     "execution_count": 25,
     "metadata": {},
     "output_type": "execute_result"
    }
   ],
   "source": [
    "# Feature Importance of Gradient-boosted tree regression\n",
    "gbt_model.featureImportances"
   ]
  },
  {
   "cell_type": "code",
   "execution_count": 31,
   "metadata": {},
   "outputs": [
    {
     "data": {
      "text/plain": [
       "<matplotlib.axes._subplots.AxesSubplot at 0x7fa82824e588>"
      ]
     },
     "execution_count": 31,
     "metadata": {},
     "output_type": "execute_result"
    },
    {
     "data": {
      "image/png": "[encoded data removed]",
      "text/plain": [
       "<Figure size 432x288 with 1 Axes>"
      ]
     },
     "metadata": {},
     "output_type": "display_data"
    }
   ],
   "source": [
    "# Convert the Pyspark contructed dataframe to Pandas dataframe to visualize\n",
    "#Plotting for residuals.\n",
    "import pandas as pd\n",
    "import numpy as np\n",
    "import matplotlib.pyplot as plt\n",
    "\n",
    "gbt_predictionsPandas = gbt_predictions.toPandas()\n",
    "\n",
    "plt.style.use('Solarize_Light2')\n",
    "gbt_predictionsPandas.plot(x=\"HUMAN FREEDOM (Rank)\" ,y='prediction')"
   ]
  },
  {
   "cell_type": "code",
   "execution_count": 32,
   "metadata": {},
   "outputs": [
    {
     "name": "stdout",
     "output_type": "stream",
     "text": [
      "+-------+--------------------+-------------------+\n",
      "|summary|HUMAN FREEDOM (Rank)|         prediction|\n",
      "+-------+--------------------+-------------------+\n",
      "|  count|                1569|               1569|\n",
      "|   mean|   75.75780752071383|  75.75780752071373|\n",
      "| stddev|   45.59914326627794|  45.55832739546484|\n",
      "|    min|                   0|0.22200398957772965|\n",
      "|    max|                 162|  159.4400136321508|\n",
      "+-------+--------------------+-------------------+\n",
      "\n"
     ]
    }
   ],
   "source": [
    "gbt_predictions.describe().show()"
   ]
  },
  {
   "cell_type": "code",
   "execution_count": 33,
   "metadata": {},
   "outputs": [
    {
     "name": "stdout",
     "output_type": "stream",
     "text": [
      "+------------------+--------------------+--------------------+\n",
      "|        prediction|HUMAN FREEDOM (Rank)|            features|\n",
      "+------------------+--------------------+--------------------+\n",
      "|0.5777113775927617|                   0|(31,[0,2,4,9,12,1...|\n",
      "|0.5777113775927617|                   0|(31,[0,2,4,9,12,1...|\n",
      "|0.5777113775927617|                   0|(31,[0,2,4,9,12,1...|\n",
      "|0.5777113775927617|                   0|(31,[0,2,4,9,12,1...|\n",
      "|0.5777113775927617|                   0|(31,[0,2,4,9,12,1...|\n",
      "|0.5777113775927617|                   0|(31,[0,2,4,9,12,1...|\n",
      "|125.27382504056125|                 128|[2008.0,3.58,9.48...|\n",
      "|115.04114028208976|                 104|[2008.0,4.1,8.868...|\n",
      "| 75.35710470733295|                  74|[2008.0,4.26,10.0...|\n",
      "| 90.13390197105926|                  97|[2008.0,4.3,7.321...|\n",
      "| 91.28623214838665|                  95|[2008.0,4.4,10.0,...|\n",
      "+------------------+--------------------+--------------------+\n",
      "only showing top 11 rows\n",
      "\n"
     ]
    }
   ],
   "source": [
    "# Gradient-boosted Tree Regression on train and test data (split data)---I2\n",
    "\n",
    "from pyspark.ml.regression import GBTRegressor\n",
    "gbt = GBTRegressor(featuresCol = 'features', labelCol = 'HUMAN FREEDOM (Rank)', maxIter=15)\n",
    "gbt_model = gbt.fit(train_data)\n",
    "gbt_predictions = gbt_model.transform(test_data)\n",
    "gbt_predictions.select('prediction', 'HUMAN FREEDOM (Rank)', 'features').show(11)"
   ]
  },
  {
   "cell_type": "code",
   "execution_count": 34,
   "metadata": {},
   "outputs": [
    {
     "name": "stdout",
     "output_type": "stream",
     "text": [
      "Root Mean Squared Error (RMSE) = 6.29858\n",
      "Mean Absolute Error (MAE) = 4.59574\n",
      "R Squarred (R2) = 0.981071\n"
     ]
    }
   ],
   "source": [
    "# Root Mean Squared Error (RMSE)\n",
    "gbt_evaluator_RMSE = RegressionEvaluator(\n",
    "    labelCol=\"HUMAN FREEDOM (Rank)\", predictionCol=\"prediction\", metricName=\"rmse\")\n",
    "grmse = gbt_evaluator_RMSE.evaluate(gbt_predictions)\n",
    "print(\"Root Mean Squared Error (RMSE) = %g\" % grmse)\n",
    "\n",
    "# Mean Absolute Error (MAE)\n",
    "gbt_evaluator_MAE = RegressionEvaluator(\n",
    "    labelCol=\"HUMAN FREEDOM (Rank)\", predictionCol=\"prediction\", metricName=\"mae\")\n",
    "gmae = gbt_evaluator_MAE.evaluate(gbt_predictions)\n",
    "print(\"Mean Absolute Error (MAE) = %g\" % gmae)\n",
    "\n",
    "# R Squarred (R2)\n",
    "gbt_evaluator_R2 = RegressionEvaluator(\n",
    "    labelCol=\"HUMAN FREEDOM (Rank)\", predictionCol=\"prediction\", metricName=\"r2\")\n",
    "gr2 = gbt_evaluator_R2.evaluate(gbt_predictions)\n",
    "print(\"R Squarred (R2) = %g\" % gr2)"
   ]
  },
  {
   "cell_type": "code",
   "execution_count": 35,
   "metadata": {},
   "outputs": [
    {
     "name": "stdout",
     "output_type": "stream",
     "text": [
      "+-------------------+--------------------+--------------------+\n",
      "|         prediction|HUMAN FREEDOM (Rank)|            features|\n",
      "+-------------------+--------------------+--------------------+\n",
      "|0.41406482231579433|                   0|(31,[0,2,4,9,12,1...|\n",
      "|0.41406482231579433|                   0|(31,[0,2,4,9,12,1...|\n",
      "|0.41406482231579433|                   0|(31,[0,2,4,9,12,1...|\n",
      "|0.41406482231579433|                   0|(31,[0,2,4,9,12,1...|\n",
      "|0.41406482231579433|                   0|(31,[0,2,4,9,12,1...|\n",
      "|0.41406482231579433|                   0|(31,[0,2,4,9,12,1...|\n",
      "| 125.39453111072265|                 128|[2008.0,3.58,9.48...|\n",
      "| 114.47490317611391|                 104|[2008.0,4.1,8.868...|\n",
      "|  74.91333362787948|                  74|[2008.0,4.26,10.0...|\n",
      "|  89.78398531238139|                  97|[2008.0,4.3,7.321...|\n",
      "|  91.41697535483442|                  95|[2008.0,4.4,10.0,...|\n",
      "+-------------------+--------------------+--------------------+\n",
      "only showing top 11 rows\n",
      "\n",
      "Root Mean Squared Error (RMSE) = 6.2497\n",
      "Mean Absolute Error (MAE) = 4.46806\n",
      "R Squarred (R2) = 0.981364\n"
     ]
    }
   ],
   "source": [
    "# Gradient-boosted Tree Regression on train and test data (split data)---I3\n",
    "\n",
    "from pyspark.ml.regression import GBTRegressor\n",
    "gbt = GBTRegressor(featuresCol = 'features', labelCol = 'HUMAN FREEDOM (Rank)', maxIter=20)\n",
    "gbt_model = gbt.fit(train_data)\n",
    "gbt_predictions = gbt_model.transform(test_data)\n",
    "gbt_predictions.select('prediction', 'HUMAN FREEDOM (Rank)', 'features').show(11)\n",
    "\n",
    "# Root Mean Squared Error (RMSE)\n",
    "gbt_evaluator_RMSE = RegressionEvaluator(\n",
    "    labelCol=\"HUMAN FREEDOM (Rank)\", predictionCol=\"prediction\", metricName=\"rmse\")\n",
    "grmse = gbt_evaluator_RMSE.evaluate(gbt_predictions)\n",
    "print(\"Root Mean Squared Error (RMSE) = %g\" % grmse)\n",
    "\n",
    "# Mean Absolute Error (MAE)\n",
    "gbt_evaluator_MAE = RegressionEvaluator(\n",
    "    labelCol=\"HUMAN FREEDOM (Rank)\", predictionCol=\"prediction\", metricName=\"mae\")\n",
    "gmae = gbt_evaluator_MAE.evaluate(gbt_predictions)\n",
    "print(\"Mean Absolute Error (MAE) = %g\" % gmae)\n",
    "\n",
    "# R Squarred (R2)\n",
    "gbt_evaluator_R2 = RegressionEvaluator(\n",
    "    labelCol=\"HUMAN FREEDOM (Rank)\", predictionCol=\"prediction\", metricName=\"r2\")\n",
    "gr2 = gbt_evaluator_R2.evaluate(gbt_predictions)\n",
    "print(\"R Squarred (R2) = %g\" % gr2)"
   ]
  },
  {
   "cell_type": "code",
   "execution_count": null,
   "metadata": {},
   "outputs": [],
   "source": []
  }
 ],
 "metadata": {
  "kernelspec": {
   "display_name": "Python 3",
   "language": "python",
   "name": "python3"
  },
  "language_info": {
   "codemirror_mode": {
    "name": "ipython",
    "version": 3
   },
   "file_extension": ".py",
   "mimetype": "text/x-python",
   "name": "python",
   "nbconvert_exporter": "python",
   "pygments_lexer": "ipython3",
   "version": "3.5.2"
  }
 },
 "nbformat": 4,
 "nbformat_minor": 2
}
