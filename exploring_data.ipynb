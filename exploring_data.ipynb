{
 "cells": [
  {
   "cell_type": "code",
   "execution_count": 2,
   "metadata": {},
   "outputs": [],
   "source": [
    "import findspark\n",
    "findspark.init('/home/ubuntu/spark-2.1.1-bin-hadoop2.7')\n",
    "import pyspark\n",
    "from pyspark.sql import SparkSession\n",
    "spark = SparkSession.builder.appName('BDAS').getOrCreate()"
   ]
  },
  {
   "cell_type": "code",
   "execution_count": 3,
   "metadata": {},
   "outputs": [],
   "source": [
    "df = spark.read.load(\"./finalEdited-HumanHappiness - bdas.csv\", format=\"csv\", header=\"true\")"
   ]
  },
  {
   "cell_type": "code",
   "execution_count": 4,
   "metadata": {},
   "outputs": [
    {
     "name": "stdout",
     "output_type": "stream",
     "text": [
      "+----+--------------------+--------------------+---------------------+--------------------+------------------------+-----------+----------------------------------------+-----------------------+-----------------+--------------+-----------+---------------------------------+----------------------------------+------------------------+----------------------+-------+------------------------+-----------------------+--------------------------------------+----------------------------+------------------------------+---------------------+------------------------------+------------+---------------------------+-------------------------------------------+-------------------------+-----------------------------------------+--------------------------------+-----------------------------------+-------------------------+----------------------+--------------------+------------------------+-----------------------+\n",
      "|Year|           Countries|              Region|HUMAN FREEDOM (Score)|HUMAN FREEDOM (Rank)|HUMAN FREEDOM (Quartile)|Rule of Law|Disappearances, Conflicts, and Terrorism|Women Security & Safety|Security & Safety|Women Movement|   Movement|Legal and Regulatory Restrictions|State Control over Internet Access|Expression & Information|Same Sex Relationships|Divorce|PERSONAL FREEDOM (Score)|PERSONAL FREEDOM (Rank)|Government  enterprises and investment|Top marginal income tax rate|Legal enforcement of contracts|Reliability of police|Gender Legal Rights Adjustment|Money growth|Inflation: Most recent year|Compliance costs of importing and exporting|Regulatory trade barriers|Foreign ownership/investment restrictions|Freedom to trade internationally|Hiring regulations and minimum wage|Labour market regulations|Licensing restrictions|Business regulations|ECONOMIC FREEDOM (Score)|ECONOMIC FREEDOM (Rank)|\n",
      "+----+--------------------+--------------------+---------------------+--------------------+------------------------+-----------+----------------------------------------+-----------------------+-----------------+--------------+-----------+---------------------------------+----------------------------------+------------------------+----------------------+-------+------------------------+-----------------------+--------------------------------------+----------------------------+------------------------------+---------------------+------------------------------+------------+---------------------------+-------------------------------------------+-------------------------+-----------------------------------------+--------------------------------+-----------------------------------+-------------------------+----------------------+--------------------+------------------------+-----------------------+\n",
      "|2017|             Albania|      Eastern Europe|                 7.84|                  38|                       1|5.291751647|                                      10|                   8.75|      9.276666667|            10|         10|                      8.011111111|                                10|             8.607142857|                  null|    7.5|             8.005411457|                     46|                                     8|                           9|                   4.387444055|          6.824168762|                        0.9524| 9.253087019|                9.601214379|                                9.405327776|              7.706503738|                              6.306105852|                     8.343862962|                        5.566666667|              6.938448195|           6.031964728|         6.652097679|                    7.67|                     30|\n",
      "|2017|             Algeria|Middle East & Nor...|                 4.99|                 155|                       4| 3.79608038|                             8.865434414|                      5|      7.773896003|           2.5|5.833333333|                      2.961111111|                               7.5|             7.311802542|                  null|      0|             5.201489165|                    146|                                     0|                           7|                   4.392091659|          6.101120313|                        0.8333| 6.989729298|                8.881776818|                                0.473372781|              2.623042784|                              3.664828738|                     2.774951125|                        5.566666667|              5.418019148|           8.687187496|         5.715304296|                    4.77|                    159|\n",
      "|2017|              Angola|   SubSaharan Africa|                  5.4|                 151|                       4|3.411902803|                             8.876403002|                    7.5|      8.145554414|            10|6.666666667|                      7.455555556|                               7.5|             6.452380952|                  null|      5|             5.979935733|                    121|                                     6|                          10|                   2.302200397|           3.36206913|                        0.8095| 9.440197116|                3.661662772|                                2.514792899|              3.721164574|                               2.94691933|                     3.209363481|                                 10|              5.373491932|           8.096956912|         4.877379454|                    4.83|                    158|\n",
      "|2017|           Argentina|Latin America & t...|                 6.86|                  77|                       2|5.744791027|                                     8.5|                     10|             8.82|            10|         10|                             6.85|                                10|             8.738095238|                  null|     10|             8.044599873|                     41|                                     6|                           7|                   3.632871823|          3.702923656|                        0.7857| 5.011968979|                       4.86|                                 5.15562923|              4.894951737|                              5.358169476|                     6.548451324|                        2.766666667|              5.134506481|           5.351657424|          5.71906252|                    5.67|                    147|\n",
      "|2017|             Armenia|Caucasus & Centra...|                 7.42|                  54|                       2| 4.93260942|                                     9.5|                   8.75|      9.096666667|            10|8.333333333|                      5.088888889|                               7.5|             7.154761905|                  null|    7.5|             7.145017434|                     72|                                     8|                           5|                   5.196692523|          5.844934782|                             1| 8.555126573|                9.806089346|                                9.028408741|              7.358116018|                               5.10837853|                     8.203945164|                        6.666666667|              6.412287505|           9.318707386|         6.947624104|                     7.7|                     27|\n",
      "|2017|           Australia|             Oceania|                 8.62|                   5|                       1| 7.77627878|                             9.955016951|                     10|      9.878338984|            10|         10|                      8.938888889|                                10|             9.392857143|                     -|     10|             9.160532748|                     12|                                    10|                           6|                   6.025331188|          8.616040151|                             1| 8.954497731|                9.610270518|                                8.422491892|              7.547421626|                              6.853331724|                     7.562078349|                                8.9|              7.721704675|           8.944749093|         8.049348386|                    8.07|                      9|\n",
      "|2017|             Austria|      Western Europe|                 8.48|                  13|                       1|8.171748815|                             9.984844293|                     10|      9.907585478|            10|         10|                      5.644444444|                                10|             9.333333333|                     -|     10|             9.245685425|                      8|                                    10|                           4|                   6.220992578|          8.463282188|                             1| 8.224760081|                9.583746283|                                9.963313765|              8.241175625|                              6.899639766|                     8.093257051|                                8.9|              5.615307918|           7.296116368|         7.498820056|                    7.71|                     26|\n",
      "|2017|          Azerbaijan|Caucasus & Centra...|                 6.22|                 121|                       3|4.291270376|                             9.214499299|                     10|      9.471499766|            10|8.333333333|                      5.461111111|                               7.5|             4.011904762|                     -|    7.5|              6.10466079|                    119|                                     0|                           9|                   7.252962408|          6.170494557|                        0.6667| 9.185510542|                7.419021759|                                8.210066944|               7.08573778|                              6.226287286|                      7.28912396|                        8.333333333|              6.201494889|           9.024148024|         7.460583483|                    6.34|                    116|\n",
      "|2017|             Bahamas|Latin America & t...|                 7.56|                  48|                       2|6.400790273|                                      10|                     10|      6.666666667|            10|         10|                      6.433333333|                                 0|             8.895833333|                     -|     10|             7.871204513|                     48|                                     7|                          10|                   4.601283035|                    0|                          0.95| 8.859969977|                9.696358599|                                8.105924622|              7.409200517|                                        0|                     6.535609531|                                8.9|              8.361606213|           7.982215016|         7.685912284|                    7.25|                     58|\n",
      "|2017|             Bahrain|Middle East & Nor...|                 6.63|                  95|                       3|5.898037535|                             7.535230178|                      5|      7.441903866|           2.5|4.166666667|                      4.022222222|                               2.5|             4.130952381|                     -|      0|             5.910895403|                    126|                                    10|                          10|                   4.785814418|          7.764705817|                        0.5227| 9.961595769|                9.722531248|                                6.411257372|              6.561866892|                              7.456231912|                     7.416638186|                        8.333333333|              7.791071975|           8.074308493|         8.023765365|                    7.35|                     50|\n",
      "|2017|          Bangladesh|          South Asia|                 5.77|                 138|                       4|3.132892486|                             6.953118287|                      5|      7.024372762|            10|6.666666667|                      4.211111111|                               7.5|             6.995904411|                     5|      0|              5.36557342|                    142|                                     7|                           8|                   0.941148344|          3.904307087|                        0.7619| 9.301663444|                8.859585969|                                          0|              3.130572836|                              5.499794682|                     5.954579092|                                 10|              7.173622907|            6.60992723|          4.96067717|                    6.18|                    123|\n",
      "|2017|            Barbados|Latin America & t...|                 7.02|                  66|                       2|6.699287431|                                      10|                     10|              8.6|           2.5|        7.5|                      7.544444444|                                 0|                   9.125|                     0|     10|             7.589752413|                     57|                                     6|                           7|                   3.803003329|                    0|                         0.881| 6.434800471|                9.067963072|                                5.286997017|              5.286997017|                              6.842255023|                     6.955068799|                                8.9|              8.145757766|           4.999638041|         6.543270114|                    6.45|                    112|\n",
      "|2017|             Belarus|      Eastern Europe|                 6.65|                  92|                       3|5.128924941|                                       9|                     10|      9.188711522|            10|8.333333333|                      4.488888889|                                 5|              5.80952381|                    10|     10|             6.659028163|                     91|                                    10|                          10|                   6.970305125|                    0|                         0.675| 8.398370966|                 8.79363255|                                9.743788381|              7.947535982|                                        0|                      6.77724468|                                 10|              7.188794038|              8.306326|         7.987602227|                    6.64|                     99|\n",
      "|2017|             Belgium|      Western Europe|                 8.29|                  23|                       1|7.751100945|                             9.981257603|                     10|      9.767085868|            10|         10|                      6.061111111|                                10|                    9.75|                    10|     10|             9.067694851|                     14|                                    10|                           2|                   5.565037753|          7.634707689|                             1| 8.493565257|                9.574805828|                                9.963313765|              7.930379325|                              7.854413986|                     8.159225058|                                8.9|               7.37160999|           7.459800675|          7.38239585|                    7.51|                     40|\n",
      "|2017|              Belize|Latin America & t...|                 6.95|                  68|                       2|4.268872009|                                      10|                     10|      6.666666667|           2.5|        7.5|                      8.516666667|                                 0|             8.520833333|                    10|     10|             7.118363836|                     74|                                     4|                           9|                   3.329065561|                    0|                         0.775| 9.453595539|                       9.78|                                 5.82368947|              5.046968147|                              7.822641806|                     6.526278428|                        7.766666667|              7.545078755|           8.843606641|         6.760465283|                    6.78|                     85|\n",
      "|2017|               Benin|   SubSaharan Africa|                 6.77|                  85|                       3|4.180309414|                                     9.5|                   7.05|      8.703333333|           2.5|5.833333333|                      9.633333333|                                10|             8.988095238|                    10|    7.5|             7.469386877|                     62|                                     7|                           4|                   1.068746974|          5.811307033|                        0.7857|  7.19955935|                9.984185831|                                5.155640889|              4.943180903|                              5.217277606|                     6.084105112|                        7.766666667|              6.215474597|           9.479134063|         6.153522594|                    6.08|                    129|\n",
      "|2017|              Bhutan|          South Asia|                 6.53|                 105|                       3|6.187897766|                                     9.5|                     10|             9.62|            10|3.333333333|                      5.088888889|                                 0|                    7.25|                     0|    2.5|             6.286279997|                    111|                                     7|                           9|                   7.365354835|          2.460317612|                        0.9286| 8.673922932|                9.228350054|                                9.501185608|              7.209122667|                              3.942180474|                     6.276396561|                                 10|              7.940399579|           8.471096184|         6.661475086|                    6.77|                     87|\n",
      "|2017|             Bolivia|Latin America & t...|                 6.61|                  97|                       3|3.051401851|                                     9.5|                   8.75|      8.576641171|            10|8.333333333|                      8.933333333|                                10|             8.416666667|                    10|     10|              7.07482557|                     75|                                     0|                          10|                   4.491576292|          2.807519833|                         0.881| 9.807854726|                9.435448389|                                3.045000262|              3.913914376|                              4.038498776|                     7.032863317|                                1.1|              3.835975968|           5.664521697|         3.323844555|                    6.14|                    126|\n",
      "|2017|Bosnia and Herzeg...|      Eastern Europe|                 7.37|                  55|                       2|5.470080395|                                       9|                   8.75|             9.09|            10|8.333333333|                      7.127777778|                                10|             8.654761905|                    10|     10|             8.040348141|                     42|                                     4|                          10|                    3.79305681|          4.251511097|                        0.9286| 8.766542071|                9.766237473|                                9.595859387|              7.407250374|                              4.658517043|                     7.835847135|                        5.566666667|              7.346114678|           7.741898435|         5.140797479|                    6.69|                     92|\n",
      "|2017|            Botswana|   SubSaharan Africa|                 7.17|                  60|                       2|5.641683932|                                      10|                   8.75|      7.578237213|           2.5|        7.5|                      8.238888889|                                 0|                  7.8125|                     0|      5|             6.970084453|                     81|                                     7|                           9|                   3.072296317|          6.064388752|                        0.9524| 9.358700488|                9.338343846|                                9.392902984|              7.466504243|                              6.393007834|                     7.440205773|                                 10|              7.487312186|           9.255260633|         7.013877346|                    7.37|                     49|\n",
      "+----+--------------------+--------------------+---------------------+--------------------+------------------------+-----------+----------------------------------------+-----------------------+-----------------+--------------+-----------+---------------------------------+----------------------------------+------------------------+----------------------+-------+------------------------+-----------------------+--------------------------------------+----------------------------+------------------------------+---------------------+------------------------------+------------+---------------------------+-------------------------------------------+-------------------------+-----------------------------------------+--------------------------------+-----------------------------------+-------------------------+----------------------+--------------------+------------------------+-----------------------+\n",
      "only showing top 20 rows\n",
      "\n"
     ]
    }
   ],
   "source": [
    "#data exploration\n",
    "df.show()\n"
   ]
  },
  {
   "cell_type": "code",
   "execution_count": 5,
   "metadata": {},
   "outputs": [
    {
     "data": {
      "text/plain": [
       "['Year',\n",
       " 'Countries',\n",
       " 'Region',\n",
       " 'HUMAN FREEDOM (Score)',\n",
       " 'HUMAN FREEDOM (Rank)',\n",
       " 'HUMAN FREEDOM (Quartile)',\n",
       " 'Rule of Law',\n",
       " 'Disappearances, Conflicts, and Terrorism',\n",
       " 'Women Security & Safety',\n",
       " 'Security & Safety',\n",
       " 'Women Movement',\n",
       " 'Movement',\n",
       " 'Legal and Regulatory Restrictions',\n",
       " 'State Control over Internet Access',\n",
       " 'Expression & Information',\n",
       " 'Same Sex Relationships',\n",
       " 'Divorce',\n",
       " 'PERSONAL FREEDOM (Score)',\n",
       " 'PERSONAL FREEDOM (Rank)',\n",
       " 'Government  enterprises and investment',\n",
       " 'Top marginal income tax rate',\n",
       " 'Legal enforcement of contracts',\n",
       " 'Reliability of police',\n",
       " 'Gender Legal Rights Adjustment',\n",
       " 'Money growth',\n",
       " 'Inflation: Most recent year',\n",
       " 'Compliance costs of importing and exporting',\n",
       " 'Regulatory trade barriers',\n",
       " 'Foreign ownership/investment restrictions',\n",
       " 'Freedom to trade internationally',\n",
       " 'Hiring regulations and minimum wage',\n",
       " 'Labour market regulations',\n",
       " 'Licensing restrictions',\n",
       " 'Business regulations',\n",
       " 'ECONOMIC FREEDOM (Score)',\n",
       " 'ECONOMIC FREEDOM (Rank)']"
      ]
     },
     "execution_count": 5,
     "metadata": {},
     "output_type": "execute_result"
    }
   ],
   "source": [
    "df.columns"
   ]
  },
  {
   "cell_type": "code",
   "execution_count": 6,
   "metadata": {},
   "outputs": [
    {
     "name": "stdout",
     "output_type": "stream",
     "text": [
      "+-------+------------------+---------+--------------------+---------------------+--------------------+------------------------+------------------+----------------------------------------+-----------------------+-----------------+-----------------+------------------+---------------------------------+----------------------------------+------------------------+----------------------+------------------+------------------------+-----------------------+--------------------------------------+----------------------------+------------------------------+---------------------+------------------------------+------------------+---------------------------+-------------------------------------------+-------------------------+-----------------------------------------+--------------------------------+-----------------------------------+-------------------------+----------------------+--------------------+------------------------+-----------------------+\n",
      "|summary|              Year|Countries|              Region|HUMAN FREEDOM (Score)|HUMAN FREEDOM (Rank)|HUMAN FREEDOM (Quartile)|       Rule of Law|Disappearances, Conflicts, and Terrorism|Women Security & Safety|Security & Safety|   Women Movement|          Movement|Legal and Regulatory Restrictions|State Control over Internet Access|Expression & Information|Same Sex Relationships|           Divorce|PERSONAL FREEDOM (Score)|PERSONAL FREEDOM (Rank)|Government  enterprises and investment|Top marginal income tax rate|Legal enforcement of contracts|Reliability of police|Gender Legal Rights Adjustment|      Money growth|Inflation: Most recent year|Compliance costs of importing and exporting|Regulatory trade barriers|Foreign ownership/investment restrictions|Freedom to trade internationally|Hiring regulations and minimum wage|Labour market regulations|Licensing restrictions|Business regulations|ECONOMIC FREEDOM (Score)|ECONOMIC FREEDOM (Rank)|\n",
      "+-------+------------------+---------+--------------------+---------------------+--------------------+------------------------+------------------+----------------------------------------+-----------------------+-----------------+-----------------+------------------+---------------------------------+----------------------------------+------------------------+----------------------+------------------+------------------------+-----------------------+--------------------------------------+----------------------------+------------------------------+---------------------+------------------------------+------------------+---------------------------+-------------------------------------------+-------------------------+-----------------------------------------+--------------------------------+-----------------------------------+-------------------------+----------------------+--------------------+------------------------+-----------------------+\n",
      "|  count|              1569|     1569|                1569|                 1569|                1569|                    1569|              1569|                                    1569|                   1569|             1569|             1569|              1569|                             1569|                              1569|                    1569|                  1564|              1569|                    1569|                   1569|                                  1569|                        1569|                          1569|                 1569|                          1569|              1569|                       1569|                                       1569|                     1569|                                     1569|                            1569|                               1569|                     1569|                  1569|                1569|                    1569|                   1569|\n",
      "|   mean|2012.5838113448056|     null|                null|    6.863149820104525|   75.75780752071383|      2.4359464627151053| 5.175722687349915|                       8.675747841610587|      7.854397705544931|7.954735504124266|7.562141491395794|  7.69226683660929|                7.001596912420012|                 6.859464627151691|       7.725947063063099|    7.1648492623476585| 7.227533460803059|       7.033205288655199|      75.98024219247928|                      6.07138304652645|          7.0573613766730405|             4.283325869952198|    5.062500110864888|            0.8862738859719625| 8.598480420212235|           8.84313211344488|                          6.446762932535365|        5.998549546995541|                        5.450840356403443|               6.934980483012118|                  6.263140004493307|        6.304019218989789|     7.500461428565328|   6.206659466355005|       6.685682766297011|       75.7163798597833|\n",
      "| stddev|2.8534830140254956|     null|                null|   1.3297674649773994|   45.59914326627794|       1.161623989529443|1.6972816077319897|                      1.9496992323517779|     2.5495359791688297| 1.76913405339277|3.570329402694226|2.8031922139762018|                2.124553892180889|                 3.989262067694677|        1.77342504281151|     4.148915578159696|3.6999009358716095|      1.6593849440107105|      45.61174596070801|                     3.166913321591325|          2.7535734523917212|            1.7682362856654503|    2.434470949271373|           0.13652702832793803|1.0374325596538498|         1.4189639342461404|                         2.8070401139056296|       1.9367056740617101|                       2.0482059881275885|              1.4113688508743432|                  2.951887072077683|       1.6815563990547895|    2.1732375033666615|  1.4928202623052547|      1.1827777052342643|     45.595554441693196|\n",
      "|    min|              2008|  Albania|Caucasus & Centra...|          1.144439617|                   0|                       0|                 0|                             0.908745131|                      0|      0.915005069|                0|                 0|                                0|                                 0|             0.777473916|                     -|                 0|             0.622627625|                      0|                                     0|                           0|                             0|                    0|                    0.35080471|       3.833582146|                         10|                                          0|                        0|                                        0|                     1.028548698|                                  0|              0.165763631|                     0|         0.476910196|             1.305508135|                      0|\n",
      "|    max|              2017| Zimbabwe|      Western Europe|                 9.12|                  99|                       4|              8.72|                             9.999667599|                   9.75|      9.975522638|              7.5|       9.166666667|                      9.861111111|                               7.5|             9.797619048|                     5|               7.5|             9.560932011|                     99|                                     8|                           9|                   8.105416731|          9.688242277|                             1|       9.999030735|                    9.99918|                                9.963313765|              9.728995482|                                 9.252879|                     9.561530003|                               9.45|                    9.725|           9.999638041|         9.272599991|                    9.11|                     99|\n",
      "+-------+------------------+---------+--------------------+---------------------+--------------------+------------------------+------------------+----------------------------------------+-----------------------+-----------------+-----------------+------------------+---------------------------------+----------------------------------+------------------------+----------------------+------------------+------------------------+-----------------------+--------------------------------------+----------------------------+------------------------------+---------------------+------------------------------+------------------+---------------------------+-------------------------------------------+-------------------------+-----------------------------------------+--------------------------------+-----------------------------------+-------------------------+----------------------+--------------------+------------------------+-----------------------+\n",
      "\n"
     ]
    }
   ],
   "source": [
    "df.describe().show()"
   ]
  },
  {
   "cell_type": "code",
   "execution_count": 7,
   "metadata": {},
   "outputs": [
    {
     "name": "stdout",
     "output_type": "stream",
     "text": [
      "root\n",
      " |-- Year: string (nullable = true)\n",
      " |-- Countries: string (nullable = true)\n",
      " |-- Region: string (nullable = true)\n",
      " |-- HUMAN FREEDOM (Score): string (nullable = true)\n",
      " |-- HUMAN FREEDOM (Rank): string (nullable = true)\n",
      " |-- HUMAN FREEDOM (Quartile): string (nullable = true)\n",
      " |-- Rule of Law: string (nullable = true)\n",
      " |-- Disappearances, Conflicts, and Terrorism: string (nullable = true)\n",
      " |-- Women Security & Safety: string (nullable = true)\n",
      " |-- Security & Safety: string (nullable = true)\n",
      " |-- Women Movement: string (nullable = true)\n",
      " |-- Movement: string (nullable = true)\n",
      " |-- Legal and Regulatory Restrictions: string (nullable = true)\n",
      " |-- State Control over Internet Access: string (nullable = true)\n",
      " |-- Expression & Information: string (nullable = true)\n",
      " |-- Same Sex Relationships: string (nullable = true)\n",
      " |-- Divorce: string (nullable = true)\n",
      " |-- PERSONAL FREEDOM (Score): string (nullable = true)\n",
      " |-- PERSONAL FREEDOM (Rank): string (nullable = true)\n",
      " |-- Government  enterprises and investment: string (nullable = true)\n",
      " |-- Top marginal income tax rate: string (nullable = true)\n",
      " |-- Legal enforcement of contracts: string (nullable = true)\n",
      " |-- Reliability of police: string (nullable = true)\n",
      " |-- Gender Legal Rights Adjustment: string (nullable = true)\n",
      " |-- Money growth: string (nullable = true)\n",
      " |-- Inflation: Most recent year: string (nullable = true)\n",
      " |-- Compliance costs of importing and exporting: string (nullable = true)\n",
      " |-- Regulatory trade barriers: string (nullable = true)\n",
      " |-- Foreign ownership/investment restrictions: string (nullable = true)\n",
      " |-- Freedom to trade internationally: string (nullable = true)\n",
      " |-- Hiring regulations and minimum wage: string (nullable = true)\n",
      " |-- Labour market regulations: string (nullable = true)\n",
      " |-- Licensing restrictions: string (nullable = true)\n",
      " |-- Business regulations: string (nullable = true)\n",
      " |-- ECONOMIC FREEDOM (Score): string (nullable = true)\n",
      " |-- ECONOMIC FREEDOM (Rank): string (nullable = true)\n",
      "\n"
     ]
    }
   ],
   "source": [
    "df.printSchema()"
   ]
  },
  {
   "cell_type": "code",
   "execution_count": 8,
   "metadata": {},
   "outputs": [
    {
     "name": "stdout",
     "output_type": "stream",
     "text": [
      "Records: 1569\n",
      "root\n",
      " |-- Year: string (nullable = true)\n",
      " |-- Countries: string (nullable = true)\n",
      " |-- Region: string (nullable = true)\n",
      " |-- HUMAN FREEDOM (Score): string (nullable = true)\n",
      " |-- HUMAN FREEDOM (Rank): string (nullable = true)\n",
      " |-- HUMAN FREEDOM (Quartile): string (nullable = true)\n",
      " |-- Rule of Law: string (nullable = true)\n",
      " |-- Disappearances, Conflicts, and Terrorism: string (nullable = true)\n",
      " |-- Women Security & Safety: string (nullable = true)\n",
      " |-- Security & Safety: string (nullable = true)\n",
      " |-- Women Movement: string (nullable = true)\n",
      " |-- Movement: string (nullable = true)\n",
      " |-- Legal and Regulatory Restrictions: string (nullable = true)\n",
      " |-- State Control over Internet Access: string (nullable = true)\n",
      " |-- Expression & Information: string (nullable = true)\n",
      " |-- Same Sex Relationships: string (nullable = true)\n",
      " |-- Divorce: string (nullable = true)\n",
      " |-- PERSONAL FREEDOM (Score): string (nullable = true)\n",
      " |-- PERSONAL FREEDOM (Rank): string (nullable = true)\n",
      " |-- Government  enterprises and investment: string (nullable = true)\n",
      " |-- Top marginal income tax rate: string (nullable = true)\n",
      " |-- Legal enforcement of contracts: string (nullable = true)\n",
      " |-- Reliability of police: string (nullable = true)\n",
      " |-- Gender Legal Rights Adjustment: string (nullable = true)\n",
      " |-- Money growth: string (nullable = true)\n",
      " |-- Inflation: Most recent year: string (nullable = true)\n",
      " |-- Compliance costs of importing and exporting: string (nullable = true)\n",
      " |-- Regulatory trade barriers: string (nullable = true)\n",
      " |-- Foreign ownership/investment restrictions: string (nullable = true)\n",
      " |-- Freedom to trade internationally: string (nullable = true)\n",
      " |-- Hiring regulations and minimum wage: string (nullable = true)\n",
      " |-- Labour market regulations: string (nullable = true)\n",
      " |-- Licensing restrictions: string (nullable = true)\n",
      " |-- Business regulations: string (nullable = true)\n",
      " |-- ECONOMIC FREEDOM (Score): string (nullable = true)\n",
      " |-- ECONOMIC FREEDOM (Rank): string (nullable = true)\n",
      "\n"
     ]
    }
   ],
   "source": [
    "print(\"Records: {}\".format(df.count()))\n",
    "df.printSchema()"
   ]
  },
  {
   "cell_type": "code",
   "execution_count": 9,
   "metadata": {},
   "outputs": [
    {
     "name": "stdout",
     "output_type": "stream",
     "text": [
      "+--------------------+---------------------+-------------------------+----------------------+\n",
      "|           Countries|HUMAN FREEDOM (Score)|Regulatory trade barriers|Same Sex Relationships|\n",
      "+--------------------+---------------------+-------------------------+----------------------+\n",
      "|             Albania|                 7.84|              7.706503738|                  null|\n",
      "|             Algeria|                 4.99|              2.623042784|                  null|\n",
      "|              Angola|                  5.4|              3.721164574|                  null|\n",
      "|           Argentina|                 6.86|              4.894951737|                  null|\n",
      "|             Armenia|                 7.42|              7.358116018|                  null|\n",
      "|           Australia|                 8.62|              7.547421626|                     -|\n",
      "|             Austria|                 8.48|              8.241175625|                     -|\n",
      "|          Azerbaijan|                 6.22|               7.08573778|                     -|\n",
      "|             Bahamas|                 7.56|              7.409200517|                     -|\n",
      "|             Bahrain|                 6.63|              6.561866892|                     -|\n",
      "|          Bangladesh|                 5.77|              3.130572836|                     5|\n",
      "|            Barbados|                 7.02|              5.286997017|                     0|\n",
      "|             Belarus|                 6.65|              7.947535982|                    10|\n",
      "|             Belgium|                 8.29|              7.930379325|                    10|\n",
      "|              Belize|                 6.95|              5.046968147|                    10|\n",
      "|               Benin|                 6.77|              4.943180903|                    10|\n",
      "|              Bhutan|                 6.53|              7.209122667|                     0|\n",
      "|             Bolivia|                 6.61|              3.913914376|                    10|\n",
      "|Bosnia and Herzeg...|                 7.37|              7.407250374|                    10|\n",
      "|            Botswana|                 7.17|              7.466504243|                     0|\n",
      "+--------------------+---------------------+-------------------------+----------------------+\n",
      "only showing top 20 rows\n",
      "\n",
      "+-------+---------+---------------------+-------------------------+----------------------+\n",
      "|summary|Countries|HUMAN FREEDOM (Score)|Regulatory trade barriers|Same Sex Relationships|\n",
      "+-------+---------+---------------------+-------------------------+----------------------+\n",
      "|  count|     1569|                 1569|                     1569|                  1564|\n",
      "|   mean|     null|    6.863149820104525|        5.998549546995541|    7.1648492623476585|\n",
      "| stddev|     null|   1.3297674649773994|       1.9367056740617101|     4.148915578159696|\n",
      "|    min|  Albania|          1.144439617|                        0|                     -|\n",
      "|    max| Zimbabwe|                 9.12|              9.728995482|                     5|\n",
      "+-------+---------+---------------------+-------------------------+----------------------+\n",
      "\n"
     ]
    }
   ],
   "source": [
    "df.select(['Countries','HUMAN FREEDOM (Score)','Regulatory trade barriers','Same Sex Relationships']).show()\n",
    "num_cols = ['Countries','HUMAN FREEDOM (Score)','Regulatory trade barriers','Same Sex Relationships']\n",
    "df.select(num_cols).describe().show()"
   ]
  },
  {
   "cell_type": "code",
   "execution_count": 10,
   "metadata": {},
   "outputs": [
    {
     "data": {
      "text/plain": [
       "1569"
      ]
     },
     "execution_count": 10,
     "metadata": {},
     "output_type": "execute_result"
    }
   ],
   "source": [
    "df.count()"
   ]
  },
  {
   "cell_type": "code",
   "execution_count": 11,
   "metadata": {},
   "outputs": [
    {
     "data": {
      "text/plain": [
       "Row(Year='2017', Countries='Albania', Region='Eastern Europe', HUMAN FREEDOM (Score)='7.84', HUMAN FREEDOM (Rank)='38', HUMAN FREEDOM (Quartile)='1', Rule of Law='5.291751647', Disappearances, Conflicts, and Terrorism='10', Women Security & Safety='8.75', Security & Safety='9.276666667', Women Movement='10', Movement='10', Legal and Regulatory Restrictions='8.011111111', State Control over Internet Access='10', Expression & Information='8.607142857', Same Sex Relationships=None, Divorce='7.5', PERSONAL FREEDOM (Score)='8.005411457', PERSONAL FREEDOM (Rank)='46', Government  enterprises and investment='8', Top marginal income tax rate='9', Legal enforcement of contracts='4.387444055', Reliability of police='6.824168762', Gender Legal Rights Adjustment='0.9524', Money growth='9.253087019', Inflation: Most recent year='9.601214379', Compliance costs of importing and exporting='9.405327776', Regulatory trade barriers='7.706503738', Foreign ownership/investment restrictions='6.306105852', Freedom to trade internationally='8.343862962', Hiring regulations and minimum wage='5.566666667', Labour market regulations='6.938448195', Licensing restrictions='6.031964728', Business regulations='6.652097679', ECONOMIC FREEDOM (Score)='7.67', ECONOMIC FREEDOM (Rank)='30')"
      ]
     },
     "execution_count": 11,
     "metadata": {},
     "output_type": "execute_result"
    }
   ],
   "source": [
    "df.head()"
   ]
  },
  {
   "cell_type": "code",
   "execution_count": 12,
   "metadata": {},
   "outputs": [
    {
     "data": {
      "text/plain": [
       "[Row(Year='2017', Countries='Albania', Region='Eastern Europe', HUMAN FREEDOM (Score)='7.84', HUMAN FREEDOM (Rank)='38', HUMAN FREEDOM (Quartile)='1', Rule of Law='5.291751647', Disappearances, Conflicts, and Terrorism='10', Women Security & Safety='8.75', Security & Safety='9.276666667', Women Movement='10', Movement='10', Legal and Regulatory Restrictions='8.011111111', State Control over Internet Access='10', Expression & Information='8.607142857', Same Sex Relationships=None, Divorce='7.5', PERSONAL FREEDOM (Score)='8.005411457', PERSONAL FREEDOM (Rank)='46', Government  enterprises and investment='8', Top marginal income tax rate='9', Legal enforcement of contracts='4.387444055', Reliability of police='6.824168762', Gender Legal Rights Adjustment='0.9524', Money growth='9.253087019', Inflation: Most recent year='9.601214379', Compliance costs of importing and exporting='9.405327776', Regulatory trade barriers='7.706503738', Foreign ownership/investment restrictions='6.306105852', Freedom to trade internationally='8.343862962', Hiring regulations and minimum wage='5.566666667', Labour market regulations='6.938448195', Licensing restrictions='6.031964728', Business regulations='6.652097679', ECONOMIC FREEDOM (Score)='7.67', ECONOMIC FREEDOM (Rank)='30'),\n",
       " Row(Year='2017', Countries='Algeria', Region='Middle East & North Africa', HUMAN FREEDOM (Score)='4.99', HUMAN FREEDOM (Rank)='155', HUMAN FREEDOM (Quartile)='4', Rule of Law='3.79608038', Disappearances, Conflicts, and Terrorism='8.865434414', Women Security & Safety='5', Security & Safety='7.773896003', Women Movement='2.5', Movement='5.833333333', Legal and Regulatory Restrictions='2.961111111', State Control over Internet Access='7.5', Expression & Information='7.311802542', Same Sex Relationships=None, Divorce='0', PERSONAL FREEDOM (Score)='5.201489165', PERSONAL FREEDOM (Rank)='146', Government  enterprises and investment='0', Top marginal income tax rate='7', Legal enforcement of contracts='4.392091659', Reliability of police='6.101120313', Gender Legal Rights Adjustment='0.8333', Money growth='6.989729298', Inflation: Most recent year='8.881776818', Compliance costs of importing and exporting='0.473372781', Regulatory trade barriers='2.623042784', Foreign ownership/investment restrictions='3.664828738', Freedom to trade internationally='2.774951125', Hiring regulations and minimum wage='5.566666667', Labour market regulations='5.418019148', Licensing restrictions='8.687187496', Business regulations='5.715304296', ECONOMIC FREEDOM (Score)='4.77', ECONOMIC FREEDOM (Rank)='159'),\n",
       " Row(Year='2017', Countries='Angola', Region='SubSaharan Africa', HUMAN FREEDOM (Score)='5.4', HUMAN FREEDOM (Rank)='151', HUMAN FREEDOM (Quartile)='4', Rule of Law='3.411902803', Disappearances, Conflicts, and Terrorism='8.876403002', Women Security & Safety='7.5', Security & Safety='8.145554414', Women Movement='10', Movement='6.666666667', Legal and Regulatory Restrictions='7.455555556', State Control over Internet Access='7.5', Expression & Information='6.452380952', Same Sex Relationships=None, Divorce='5', PERSONAL FREEDOM (Score)='5.979935733', PERSONAL FREEDOM (Rank)='121', Government  enterprises and investment='6', Top marginal income tax rate='10', Legal enforcement of contracts='2.302200397', Reliability of police='3.36206913', Gender Legal Rights Adjustment='0.8095', Money growth='9.440197116', Inflation: Most recent year='3.661662772', Compliance costs of importing and exporting='2.514792899', Regulatory trade barriers='3.721164574', Foreign ownership/investment restrictions='2.94691933', Freedom to trade internationally='3.209363481', Hiring regulations and minimum wage='10', Labour market regulations='5.373491932', Licensing restrictions='8.096956912', Business regulations='4.877379454', ECONOMIC FREEDOM (Score)='4.83', ECONOMIC FREEDOM (Rank)='158'),\n",
       " Row(Year='2017', Countries='Argentina', Region='Latin America & the Caribbean', HUMAN FREEDOM (Score)='6.86', HUMAN FREEDOM (Rank)='77', HUMAN FREEDOM (Quartile)='2', Rule of Law='5.744791027', Disappearances, Conflicts, and Terrorism='8.5', Women Security & Safety='10', Security & Safety='8.82', Women Movement='10', Movement='10', Legal and Regulatory Restrictions='6.85', State Control over Internet Access='10', Expression & Information='8.738095238', Same Sex Relationships=None, Divorce='10', PERSONAL FREEDOM (Score)='8.044599873', PERSONAL FREEDOM (Rank)='41', Government  enterprises and investment='6', Top marginal income tax rate='7', Legal enforcement of contracts='3.632871823', Reliability of police='3.702923656', Gender Legal Rights Adjustment='0.7857', Money growth='5.011968979', Inflation: Most recent year='4.86', Compliance costs of importing and exporting='5.15562923', Regulatory trade barriers='4.894951737', Foreign ownership/investment restrictions='5.358169476', Freedom to trade internationally='6.548451324', Hiring regulations and minimum wage='2.766666667', Labour market regulations='5.134506481', Licensing restrictions='5.351657424', Business regulations='5.71906252', ECONOMIC FREEDOM (Score)='5.67', ECONOMIC FREEDOM (Rank)='147'),\n",
       " Row(Year='2017', Countries='Armenia', Region='Caucasus & Central Asia', HUMAN FREEDOM (Score)='7.42', HUMAN FREEDOM (Rank)='54', HUMAN FREEDOM (Quartile)='2', Rule of Law='4.93260942', Disappearances, Conflicts, and Terrorism='9.5', Women Security & Safety='8.75', Security & Safety='9.096666667', Women Movement='10', Movement='8.333333333', Legal and Regulatory Restrictions='5.088888889', State Control over Internet Access='7.5', Expression & Information='7.154761905', Same Sex Relationships=None, Divorce='7.5', PERSONAL FREEDOM (Score)='7.145017434', PERSONAL FREEDOM (Rank)='72', Government  enterprises and investment='8', Top marginal income tax rate='5', Legal enforcement of contracts='5.196692523', Reliability of police='5.844934782', Gender Legal Rights Adjustment='1', Money growth='8.555126573', Inflation: Most recent year='9.806089346', Compliance costs of importing and exporting='9.028408741', Regulatory trade barriers='7.358116018', Foreign ownership/investment restrictions='5.10837853', Freedom to trade internationally='8.203945164', Hiring regulations and minimum wage='6.666666667', Labour market regulations='6.412287505', Licensing restrictions='9.318707386', Business regulations='6.947624104', ECONOMIC FREEDOM (Score)='7.7', ECONOMIC FREEDOM (Rank)='27'),\n",
       " Row(Year='2017', Countries='Australia', Region='Oceania', HUMAN FREEDOM (Score)='8.62', HUMAN FREEDOM (Rank)='5', HUMAN FREEDOM (Quartile)='1', Rule of Law='7.77627878', Disappearances, Conflicts, and Terrorism='9.955016951', Women Security & Safety='10', Security & Safety='9.878338984', Women Movement='10', Movement='10', Legal and Regulatory Restrictions='8.938888889', State Control over Internet Access='10', Expression & Information='9.392857143', Same Sex Relationships='-', Divorce='10', PERSONAL FREEDOM (Score)='9.160532748', PERSONAL FREEDOM (Rank)='12', Government  enterprises and investment='10', Top marginal income tax rate='6', Legal enforcement of contracts='6.025331188', Reliability of police='8.616040151', Gender Legal Rights Adjustment='1', Money growth='8.954497731', Inflation: Most recent year='9.610270518', Compliance costs of importing and exporting='8.422491892', Regulatory trade barriers='7.547421626', Foreign ownership/investment restrictions='6.853331724', Freedom to trade internationally='7.562078349', Hiring regulations and minimum wage='8.9', Labour market regulations='7.721704675', Licensing restrictions='8.944749093', Business regulations='8.049348386', ECONOMIC FREEDOM (Score)='8.07', ECONOMIC FREEDOM (Rank)='9'),\n",
       " Row(Year='2017', Countries='Austria', Region='Western Europe', HUMAN FREEDOM (Score)='8.48', HUMAN FREEDOM (Rank)='13', HUMAN FREEDOM (Quartile)='1', Rule of Law='8.171748815', Disappearances, Conflicts, and Terrorism='9.984844293', Women Security & Safety='10', Security & Safety='9.907585478', Women Movement='10', Movement='10', Legal and Regulatory Restrictions='5.644444444', State Control over Internet Access='10', Expression & Information='9.333333333', Same Sex Relationships='-', Divorce='10', PERSONAL FREEDOM (Score)='9.245685425', PERSONAL FREEDOM (Rank)='8', Government  enterprises and investment='10', Top marginal income tax rate='4', Legal enforcement of contracts='6.220992578', Reliability of police='8.463282188', Gender Legal Rights Adjustment='1', Money growth='8.224760081', Inflation: Most recent year='9.583746283', Compliance costs of importing and exporting='9.963313765', Regulatory trade barriers='8.241175625', Foreign ownership/investment restrictions='6.899639766', Freedom to trade internationally='8.093257051', Hiring regulations and minimum wage='8.9', Labour market regulations='5.615307918', Licensing restrictions='7.296116368', Business regulations='7.498820056', ECONOMIC FREEDOM (Score)='7.71', ECONOMIC FREEDOM (Rank)='26'),\n",
       " Row(Year='2017', Countries='Azerbaijan', Region='Caucasus & Central Asia', HUMAN FREEDOM (Score)='6.22', HUMAN FREEDOM (Rank)='121', HUMAN FREEDOM (Quartile)='3', Rule of Law='4.291270376', Disappearances, Conflicts, and Terrorism='9.214499299', Women Security & Safety='10', Security & Safety='9.471499766', Women Movement='10', Movement='8.333333333', Legal and Regulatory Restrictions='5.461111111', State Control over Internet Access='7.5', Expression & Information='4.011904762', Same Sex Relationships='-', Divorce='7.5', PERSONAL FREEDOM (Score)='6.10466079', PERSONAL FREEDOM (Rank)='119', Government  enterprises and investment='0', Top marginal income tax rate='9', Legal enforcement of contracts='7.252962408', Reliability of police='6.170494557', Gender Legal Rights Adjustment='0.6667', Money growth='9.185510542', Inflation: Most recent year='7.419021759', Compliance costs of importing and exporting='8.210066944', Regulatory trade barriers='7.08573778', Foreign ownership/investment restrictions='6.226287286', Freedom to trade internationally='7.28912396', Hiring regulations and minimum wage='8.333333333', Labour market regulations='6.201494889', Licensing restrictions='9.024148024', Business regulations='7.460583483', ECONOMIC FREEDOM (Score)='6.34', ECONOMIC FREEDOM (Rank)='116'),\n",
       " Row(Year='2017', Countries='Bahamas', Region='Latin America & the Caribbean', HUMAN FREEDOM (Score)='7.56', HUMAN FREEDOM (Rank)='48', HUMAN FREEDOM (Quartile)='2', Rule of Law='6.400790273', Disappearances, Conflicts, and Terrorism='10', Women Security & Safety='10', Security & Safety='6.666666667', Women Movement='10', Movement='10', Legal and Regulatory Restrictions='6.433333333', State Control over Internet Access='0', Expression & Information='8.895833333', Same Sex Relationships='-', Divorce='10', PERSONAL FREEDOM (Score)='7.871204513', PERSONAL FREEDOM (Rank)='48', Government  enterprises and investment='7', Top marginal income tax rate='10', Legal enforcement of contracts='4.601283035', Reliability of police='0', Gender Legal Rights Adjustment='0.95', Money growth='8.859969977', Inflation: Most recent year='9.696358599', Compliance costs of importing and exporting='8.105924622', Regulatory trade barriers='7.409200517', Foreign ownership/investment restrictions='0', Freedom to trade internationally='6.535609531', Hiring regulations and minimum wage='8.9', Labour market regulations='8.361606213', Licensing restrictions='7.982215016', Business regulations='7.685912284', ECONOMIC FREEDOM (Score)='7.25', ECONOMIC FREEDOM (Rank)='58'),\n",
       " Row(Year='2017', Countries='Bahrain', Region='Middle East & North Africa', HUMAN FREEDOM (Score)='6.63', HUMAN FREEDOM (Rank)='95', HUMAN FREEDOM (Quartile)='3', Rule of Law='5.898037535', Disappearances, Conflicts, and Terrorism='7.535230178', Women Security & Safety='5', Security & Safety='7.441903866', Women Movement='2.5', Movement='4.166666667', Legal and Regulatory Restrictions='4.022222222', State Control over Internet Access='2.5', Expression & Information='4.130952381', Same Sex Relationships='-', Divorce='0', PERSONAL FREEDOM (Score)='5.910895403', PERSONAL FREEDOM (Rank)='126', Government  enterprises and investment='10', Top marginal income tax rate='10', Legal enforcement of contracts='4.785814418', Reliability of police='7.764705817', Gender Legal Rights Adjustment='0.5227', Money growth='9.961595769', Inflation: Most recent year='9.722531248', Compliance costs of importing and exporting='6.411257372', Regulatory trade barriers='6.561866892', Foreign ownership/investment restrictions='7.456231912', Freedom to trade internationally='7.416638186', Hiring regulations and minimum wage='8.333333333', Labour market regulations='7.791071975', Licensing restrictions='8.074308493', Business regulations='8.023765365', ECONOMIC FREEDOM (Score)='7.35', ECONOMIC FREEDOM (Rank)='50'),\n",
       " Row(Year='2017', Countries='Bangladesh', Region='South Asia', HUMAN FREEDOM (Score)='5.77', HUMAN FREEDOM (Rank)='138', HUMAN FREEDOM (Quartile)='4', Rule of Law='3.132892486', Disappearances, Conflicts, and Terrorism='6.953118287', Women Security & Safety='5', Security & Safety='7.024372762', Women Movement='10', Movement='6.666666667', Legal and Regulatory Restrictions='4.211111111', State Control over Internet Access='7.5', Expression & Information='6.995904411', Same Sex Relationships='5', Divorce='0', PERSONAL FREEDOM (Score)='5.36557342', PERSONAL FREEDOM (Rank)='142', Government  enterprises and investment='7', Top marginal income tax rate='8', Legal enforcement of contracts='0.941148344', Reliability of police='3.904307087', Gender Legal Rights Adjustment='0.7619', Money growth='9.301663444', Inflation: Most recent year='8.859585969', Compliance costs of importing and exporting='0', Regulatory trade barriers='3.130572836', Foreign ownership/investment restrictions='5.499794682', Freedom to trade internationally='5.954579092', Hiring regulations and minimum wage='10', Labour market regulations='7.173622907', Licensing restrictions='6.60992723', Business regulations='4.96067717', ECONOMIC FREEDOM (Score)='6.18', ECONOMIC FREEDOM (Rank)='123'),\n",
       " Row(Year='2017', Countries='Barbados', Region='Latin America & the Caribbean', HUMAN FREEDOM (Score)='7.02', HUMAN FREEDOM (Rank)='66', HUMAN FREEDOM (Quartile)='2', Rule of Law='6.699287431', Disappearances, Conflicts, and Terrorism='10', Women Security & Safety='10', Security & Safety='8.6', Women Movement='2.5', Movement='7.5', Legal and Regulatory Restrictions='7.544444444', State Control over Internet Access='0', Expression & Information='9.125', Same Sex Relationships='0', Divorce='10', PERSONAL FREEDOM (Score)='7.589752413', PERSONAL FREEDOM (Rank)='57', Government  enterprises and investment='6', Top marginal income tax rate='7', Legal enforcement of contracts='3.803003329', Reliability of police='0', Gender Legal Rights Adjustment='0.881', Money growth='6.434800471', Inflation: Most recent year='9.067963072', Compliance costs of importing and exporting='5.286997017', Regulatory trade barriers='5.286997017', Foreign ownership/investment restrictions='6.842255023', Freedom to trade internationally='6.955068799', Hiring regulations and minimum wage='8.9', Labour market regulations='8.145757766', Licensing restrictions='4.999638041', Business regulations='6.543270114', ECONOMIC FREEDOM (Score)='6.45', ECONOMIC FREEDOM (Rank)='112'),\n",
       " Row(Year='2017', Countries='Belarus', Region='Eastern Europe', HUMAN FREEDOM (Score)='6.65', HUMAN FREEDOM (Rank)='92', HUMAN FREEDOM (Quartile)='3', Rule of Law='5.128924941', Disappearances, Conflicts, and Terrorism='9', Women Security & Safety='10', Security & Safety='9.188711522', Women Movement='10', Movement='8.333333333', Legal and Regulatory Restrictions='4.488888889', State Control over Internet Access='5', Expression & Information='5.80952381', Same Sex Relationships='10', Divorce='10', PERSONAL FREEDOM (Score)='6.659028163', PERSONAL FREEDOM (Rank)='91', Government  enterprises and investment='10', Top marginal income tax rate='10', Legal enforcement of contracts='6.970305125', Reliability of police='0', Gender Legal Rights Adjustment='0.675', Money growth='8.398370966', Inflation: Most recent year='8.79363255', Compliance costs of importing and exporting='9.743788381', Regulatory trade barriers='7.947535982', Foreign ownership/investment restrictions='0', Freedom to trade internationally='6.77724468', Hiring regulations and minimum wage='10', Labour market regulations='7.188794038', Licensing restrictions='8.306326', Business regulations='7.987602227', ECONOMIC FREEDOM (Score)='6.64', ECONOMIC FREEDOM (Rank)='99'),\n",
       " Row(Year='2017', Countries='Belgium', Region='Western Europe', HUMAN FREEDOM (Score)='8.29', HUMAN FREEDOM (Rank)='23', HUMAN FREEDOM (Quartile)='1', Rule of Law='7.751100945', Disappearances, Conflicts, and Terrorism='9.981257603', Women Security & Safety='10', Security & Safety='9.767085868', Women Movement='10', Movement='10', Legal and Regulatory Restrictions='6.061111111', State Control over Internet Access='10', Expression & Information='9.75', Same Sex Relationships='10', Divorce='10', PERSONAL FREEDOM (Score)='9.067694851', PERSONAL FREEDOM (Rank)='14', Government  enterprises and investment='10', Top marginal income tax rate='2', Legal enforcement of contracts='5.565037753', Reliability of police='7.634707689', Gender Legal Rights Adjustment='1', Money growth='8.493565257', Inflation: Most recent year='9.574805828', Compliance costs of importing and exporting='9.963313765', Regulatory trade barriers='7.930379325', Foreign ownership/investment restrictions='7.854413986', Freedom to trade internationally='8.159225058', Hiring regulations and minimum wage='8.9', Labour market regulations='7.37160999', Licensing restrictions='7.459800675', Business regulations='7.38239585', ECONOMIC FREEDOM (Score)='7.51', ECONOMIC FREEDOM (Rank)='40'),\n",
       " Row(Year='2017', Countries='Belize', Region='Latin America & the Caribbean', HUMAN FREEDOM (Score)='6.95', HUMAN FREEDOM (Rank)='68', HUMAN FREEDOM (Quartile)='2', Rule of Law='4.268872009', Disappearances, Conflicts, and Terrorism='10', Women Security & Safety='10', Security & Safety='6.666666667', Women Movement='2.5', Movement='7.5', Legal and Regulatory Restrictions='8.516666667', State Control over Internet Access='0', Expression & Information='8.520833333', Same Sex Relationships='10', Divorce='10', PERSONAL FREEDOM (Score)='7.118363836', PERSONAL FREEDOM (Rank)='74', Government  enterprises and investment='4', Top marginal income tax rate='9', Legal enforcement of contracts='3.329065561', Reliability of police='0', Gender Legal Rights Adjustment='0.775', Money growth='9.453595539', Inflation: Most recent year='9.78', Compliance costs of importing and exporting='5.82368947', Regulatory trade barriers='5.046968147', Foreign ownership/investment restrictions='7.822641806', Freedom to trade internationally='6.526278428', Hiring regulations and minimum wage='7.766666667', Labour market regulations='7.545078755', Licensing restrictions='8.843606641', Business regulations='6.760465283', ECONOMIC FREEDOM (Score)='6.78', ECONOMIC FREEDOM (Rank)='85'),\n",
       " Row(Year='2017', Countries='Benin', Region='SubSaharan Africa', HUMAN FREEDOM (Score)='6.77', HUMAN FREEDOM (Rank)='85', HUMAN FREEDOM (Quartile)='3', Rule of Law='4.180309414', Disappearances, Conflicts, and Terrorism='9.5', Women Security & Safety='7.05', Security & Safety='8.703333333', Women Movement='2.5', Movement='5.833333333', Legal and Regulatory Restrictions='9.633333333', State Control over Internet Access='10', Expression & Information='8.988095238', Same Sex Relationships='10', Divorce='7.5', PERSONAL FREEDOM (Score)='7.469386877', PERSONAL FREEDOM (Rank)='62', Government  enterprises and investment='7', Top marginal income tax rate='4', Legal enforcement of contracts='1.068746974', Reliability of police='5.811307033', Gender Legal Rights Adjustment='0.7857', Money growth='7.19955935', Inflation: Most recent year='9.984185831', Compliance costs of importing and exporting='5.155640889', Regulatory trade barriers='4.943180903', Foreign ownership/investment restrictions='5.217277606', Freedom to trade internationally='6.084105112', Hiring regulations and minimum wage='7.766666667', Labour market regulations='6.215474597', Licensing restrictions='9.479134063', Business regulations='6.153522594', ECONOMIC FREEDOM (Score)='6.08', ECONOMIC FREEDOM (Rank)='129'),\n",
       " Row(Year='2017', Countries='Bhutan', Region='South Asia', HUMAN FREEDOM (Score)='6.53', HUMAN FREEDOM (Rank)='105', HUMAN FREEDOM (Quartile)='3', Rule of Law='6.187897766', Disappearances, Conflicts, and Terrorism='9.5', Women Security & Safety='10', Security & Safety='9.62', Women Movement='10', Movement='3.333333333', Legal and Regulatory Restrictions='5.088888889', State Control over Internet Access='0', Expression & Information='7.25', Same Sex Relationships='0', Divorce='2.5', PERSONAL FREEDOM (Score)='6.286279997', PERSONAL FREEDOM (Rank)='111', Government  enterprises and investment='7', Top marginal income tax rate='9', Legal enforcement of contracts='7.365354835', Reliability of police='2.460317612', Gender Legal Rights Adjustment='0.9286', Money growth='8.673922932', Inflation: Most recent year='9.228350054', Compliance costs of importing and exporting='9.501185608', Regulatory trade barriers='7.209122667', Foreign ownership/investment restrictions='3.942180474', Freedom to trade internationally='6.276396561', Hiring regulations and minimum wage='10', Labour market regulations='7.940399579', Licensing restrictions='8.471096184', Business regulations='6.661475086', ECONOMIC FREEDOM (Score)='6.77', ECONOMIC FREEDOM (Rank)='87'),\n",
       " Row(Year='2017', Countries='Bolivia', Region='Latin America & the Caribbean', HUMAN FREEDOM (Score)='6.61', HUMAN FREEDOM (Rank)='97', HUMAN FREEDOM (Quartile)='3', Rule of Law='3.051401851', Disappearances, Conflicts, and Terrorism='9.5', Women Security & Safety='8.75', Security & Safety='8.576641171', Women Movement='10', Movement='8.333333333', Legal and Regulatory Restrictions='8.933333333', State Control over Internet Access='10', Expression & Information='8.416666667', Same Sex Relationships='10', Divorce='10', PERSONAL FREEDOM (Score)='7.07482557', PERSONAL FREEDOM (Rank)='75', Government  enterprises and investment='0', Top marginal income tax rate='10', Legal enforcement of contracts='4.491576292', Reliability of police='2.807519833', Gender Legal Rights Adjustment='0.881', Money growth='9.807854726', Inflation: Most recent year='9.435448389', Compliance costs of importing and exporting='3.045000262', Regulatory trade barriers='3.913914376', Foreign ownership/investment restrictions='4.038498776', Freedom to trade internationally='7.032863317', Hiring regulations and minimum wage='1.1', Labour market regulations='3.835975968', Licensing restrictions='5.664521697', Business regulations='3.323844555', ECONOMIC FREEDOM (Score)='6.14', ECONOMIC FREEDOM (Rank)='126'),\n",
       " Row(Year='2017', Countries='Bosnia and Herzegovina', Region='Eastern Europe', HUMAN FREEDOM (Score)='7.37', HUMAN FREEDOM (Rank)='55', HUMAN FREEDOM (Quartile)='2', Rule of Law='5.470080395', Disappearances, Conflicts, and Terrorism='9', Women Security & Safety='8.75', Security & Safety='9.09', Women Movement='10', Movement='8.333333333', Legal and Regulatory Restrictions='7.127777778', State Control over Internet Access='10', Expression & Information='8.654761905', Same Sex Relationships='10', Divorce='10', PERSONAL FREEDOM (Score)='8.040348141', PERSONAL FREEDOM (Rank)='42', Government  enterprises and investment='4', Top marginal income tax rate='10', Legal enforcement of contracts='3.79305681', Reliability of police='4.251511097', Gender Legal Rights Adjustment='0.9286', Money growth='8.766542071', Inflation: Most recent year='9.766237473', Compliance costs of importing and exporting='9.595859387', Regulatory trade barriers='7.407250374', Foreign ownership/investment restrictions='4.658517043', Freedom to trade internationally='7.835847135', Hiring regulations and minimum wage='5.566666667', Labour market regulations='7.346114678', Licensing restrictions='7.741898435', Business regulations='5.140797479', ECONOMIC FREEDOM (Score)='6.69', ECONOMIC FREEDOM (Rank)='92'),\n",
       " Row(Year='2017', Countries='Botswana', Region='SubSaharan Africa', HUMAN FREEDOM (Score)='7.17', HUMAN FREEDOM (Rank)='60', HUMAN FREEDOM (Quartile)='2', Rule of Law='5.641683932', Disappearances, Conflicts, and Terrorism='10', Women Security & Safety='8.75', Security & Safety='7.578237213', Women Movement='2.5', Movement='7.5', Legal and Regulatory Restrictions='8.238888889', State Control over Internet Access='0', Expression & Information='7.8125', Same Sex Relationships='0', Divorce='5', PERSONAL FREEDOM (Score)='6.970084453', PERSONAL FREEDOM (Rank)='81', Government  enterprises and investment='7', Top marginal income tax rate='9', Legal enforcement of contracts='3.072296317', Reliability of police='6.064388752', Gender Legal Rights Adjustment='0.9524', Money growth='9.358700488', Inflation: Most recent year='9.338343846', Compliance costs of importing and exporting='9.392902984', Regulatory trade barriers='7.466504243', Foreign ownership/investment restrictions='6.393007834', Freedom to trade internationally='7.440205773', Hiring regulations and minimum wage='10', Labour market regulations='7.487312186', Licensing restrictions='9.255260633', Business regulations='7.013877346', ECONOMIC FREEDOM (Score)='7.37', ECONOMIC FREEDOM (Rank)='49'),\n",
       " Row(Year='2017', Countries='Brazil', Region='Latin America & the Caribbean', HUMAN FREEDOM (Score)='6.48', HUMAN FREEDOM (Rank)='109', HUMAN FREEDOM (Quartile)='3', Rule of Law='4.65167253', Disappearances, Conflicts, and Terrorism='10', Women Security & Safety='10', Security & Safety='6.666666667', Women Movement='10', Movement='10', Legal and Regulatory Restrictions='9.077777778', State Control over Internet Access='10', Expression & Information='8.524866198', Same Sex Relationships='10', Divorce='10', PERSONAL FREEDOM (Score)='6.739923271', PERSONAL FREEDOM (Rank)='88', Government  enterprises and investment='4', Top marginal income tax rate='8', Legal enforcement of contracts='3.64198601', Reliability of police='4.190087716', Gender Legal Rights Adjustment='0.9524', Money growth='9.142801377', Inflation: Most recent year='9.310726434', Compliance costs of importing and exporting='7.865689956', Regulatory trade barriers='5.943138979', Foreign ownership/investment restrictions='5.198825598', Freedom to trade internationally='7.133586025', Hiring regulations and minimum wage='2.233333333', Labour market regulations='4.210489174', Licensing restrictions='4.998733144', Business regulations='4.038711451', ECONOMIC FREEDOM (Score)='6.23', ECONOMIC FREEDOM (Rank)='120'),\n",
       " Row(Year='2017', Countries='Brunei Darussalam', Region='South Asia', HUMAN FREEDOM (Score)='5.69', HUMAN FREEDOM (Rank)='140', HUMAN FREEDOM (Quartile)='4', Rule of Law='6.218859344', Disappearances, Conflicts, and Terrorism='10', Women Security & Safety='5', Security & Safety='8.267605912', Women Movement='2.5', Movement='4.166666667', Legal and Regulatory Restrictions='0', State Control over Internet Access='2.5', Expression & Information='4.55952381', Same Sex Relationships='5', Divorce='0', PERSONAL FREEDOM (Score)='4.760902028', PERSONAL FREEDOM (Rank)='154', Government  enterprises and investment='0', Top marginal income tax rate='10', Legal enforcement of contracts='4.171103526', Reliability of police='6.706653833', Gender Legal Rights Adjustment='0.7857', Money growth='9.504035711', Inflation: Most recent year='9.965737695', Compliance costs of importing and exporting='2.337278107', Regulatory trade barriers='3.819714973', Foreign ownership/investment restrictions='5.130599738', Freedom to trade internationally='7.160732568', Hiring regulations and minimum wage='10', Labour market regulations='8.694097797', Licensing restrictions='9.562514542', Business regulations='7.735513394', ECONOMIC FREEDOM (Score)='6.62', ECONOMIC FREEDOM (Rank)='100'),\n",
       " Row(Year='2017', Countries='Bulgaria', Region='Eastern Europe', HUMAN FREEDOM (Score)='7.79', HUMAN FREEDOM (Rank)='39', HUMAN FREEDOM (Quartile)='1', Rule of Law='4.891372196', Disappearances, Conflicts, and Terrorism='10', Women Security & Safety='10', Security & Safety='9.8', Women Movement='10', Movement='10', Legal and Regulatory Restrictions='5.827777778', State Control over Internet Access='10', Expression & Information='8.821428571', Same Sex Relationships='10', Divorce='7.5', PERSONAL FREEDOM (Score)='8.035541462', PERSONAL FREEDOM (Rank)='44', Government  enterprises and investment='8', Top marginal income tax rate='10', Legal enforcement of contracts='5.083931827', Reliability of police='4.39266781', Gender Legal Rights Adjustment='1', Money growth='8.795612085', Inflation: Most recent year='9.587128987', Compliance costs of importing and exporting='9.839054187', Regulatory trade barriers='7.602806608', Foreign ownership/investment restrictions='5.301504136', Freedom to trade internationally='8.111780844', Hiring regulations and minimum wage='5.566666667', Labour market regulations='7.062315976', Licensing restrictions='9.330678015', Business regulations='6.163441731', ECONOMIC FREEDOM (Score)='7.54', ECONOMIC FREEDOM (Rank)='37'),\n",
       " Row(Year='2017', Countries='Burkina Faso', Region='SubSaharan Africa', HUMAN FREEDOM (Score)='6.73', HUMAN FREEDOM (Rank)='90', HUMAN FREEDOM (Quartile)='3', Rule of Law='4.860574888', Disappearances, Conflicts, and Terrorism='9.218653023', Women Security & Safety='4.95', Security & Safety='7.882884341', Women Movement='10', Movement='10', Legal and Regulatory Restrictions='8.427777778', State Control over Internet Access='7.5', Expression & Information='7.738095238', Same Sex Relationships='10', Divorce='7.5', PERSONAL FREEDOM (Score)='7.38656322', PERSONAL FREEDOM (Rank)='63', Government  enterprises and investment='2', Top marginal income tax rate='9', Legal enforcement of contracts='2.139195153', Reliability of police='5.981735388', Gender Legal Rights Adjustment='0.881', Money growth='9.461632852', Inflation: Most recent year='9.927750581', Compliance costs of importing and exporting='3.589965546', Regulatory trade barriers='4.429391247', Foreign ownership/investment restrictions='5.572018732', Freedom to trade internationally='6.493051938', Hiring regulations and minimum wage='6.666666667', Labour market regulations='6.91350711', Licensing restrictions='8.937509914', Business regulations='6.007504867', ECONOMIC FREEDOM (Score)='6.07', ECONOMIC FREEDOM (Rank)='130'),\n",
       " Row(Year='2017', Countries='Burundi', Region='SubSaharan Africa', HUMAN FREEDOM (Score)='5.56', HUMAN FREEDOM (Rank)='145', HUMAN FREEDOM (Quartile)='4', Rule of Law='2.944911108', Disappearances, Conflicts, and Terrorism='5.915820734', Women Security & Safety='10', Security & Safety='7.835870645', Women Movement='10', Movement='6.666666667', Legal and Regulatory Restrictions='8.105555556', State Control over Internet Access='0', Expression & Information='3.202380952', Same Sex Relationships='0', Divorce='7.5', PERSONAL FREEDOM (Score)='4.953952052', PERSONAL FREEDOM (Rank)='150', Government  enterprises and investment='7', Top marginal income tax rate='8', Legal enforcement of contracts='2.806518791', Reliability of police='3.36015145', Gender Legal Rights Adjustment='0.9524', Money growth='7.723092406', Inflation: Most recent year='6.789492939', Compliance costs of importing and exporting='1.140264513', Regulatory trade barriers='2.403250258', Foreign ownership/investment restrictions='3.887162805', Freedom to trade internationally='5.878725704', Hiring regulations and minimum wage='10', Labour market regulations='7.803309627', Licensing restrictions='9.758672127', Business regulations='6.016451306', ECONOMIC FREEDOM (Score)='6.17', ECONOMIC FREEDOM (Rank)='124'),\n",
       " Row(Year='2017', Countries='Cambodia', Region='South Asia', HUMAN FREEDOM (Score)='7.13', HUMAN FREEDOM (Rank)='63', HUMAN FREEDOM (Quartile)='2', Rule of Law='2.566741147', Disappearances, Conflicts, and Terrorism='8.5', Women Security & Safety='8.75', Security & Safety='8.837538771', Women Movement='7.5', Movement='7.5', Legal and Regulatory Restrictions='6.2', State Control over Internet Access='10', Expression & Information='7.714345661', Same Sex Relationships='10', Divorce='7.5', PERSONAL FREEDOM (Score)='6.824763805', PERSONAL FREEDOM (Rank)='86', Government  enterprises and investment='8', Top marginal income tax rate='10', Legal enforcement of contracts='1.824541681', Reliability of police='3.513947726', Gender Legal Rights Adjustment='1', Money growth='8.267707874', Inflation: Most recent year='9.421815062', Compliance costs of importing and exporting='3.988193662', Regulatory trade barriers='4.648373719', Foreign ownership/investment restrictions='5.776210626', Freedom to trade internationally='7.337273375', Hiring regulations and minimum wage='6.666666667', Labour market regulations='6.512747149', Licensing restrictions='4.994027677', Business regulations='5.126374736', ECONOMIC FREEDOM (Score)='7.44', ECONOMIC FREEDOM (Rank)='43'),\n",
       " Row(Year='2017', Countries='Cameroon', Region='SubSaharan Africa', HUMAN FREEDOM (Score)='5.64', HUMAN FREEDOM (Rank)='143', HUMAN FREEDOM (Quartile)='4', Rule of Law='3.02691825', Disappearances, Conflicts, and Terrorism='6.289376798', Women Security & Safety='8.7', Security & Safety='8.143125599', Women Movement='2.5', Movement='2.5', Legal and Regulatory Restrictions='7.683333333', State Control over Internet Access='7.5', Expression & Information='6.762569531', Same Sex Relationships='0', Divorce='7.5', PERSONAL FREEDOM (Score)='5.433064212', PERSONAL FREEDOM (Rank)='141', Government  enterprises and investment='7', Top marginal income tax rate='5', Legal enforcement of contracts='2.168525641', Reliability of police='5.312779348', Gender Legal Rights Adjustment='0.5909', Money growth='9.863885461', Inflation: Most recent year='9.87191817', Compliance costs of importing and exporting='0', Regulatory trade barriers='2.52643158', Foreign ownership/investment restrictions='5.69458127', Freedom to trade internationally='5.154388813', Hiring regulations and minimum wage='7.233333333', Labour market regulations='7.330306977', Licensing restrictions='8.693366781', Business regulations='5.215290768', ECONOMIC FREEDOM (Score)='5.84', ECONOMIC FREEDOM (Rank)='140'),\n",
       " Row(Year='2017', Countries='Canada', Region='North America', HUMAN FREEDOM (Score)='8.65', HUMAN FREEDOM (Rank)='4', HUMAN FREEDOM (Quartile)='1', Rule of Law='7.738323946', Disappearances, Conflicts, and Terrorism='9.961861261', Women Security & Safety='10', Security & Safety='9.747287087', Women Movement='10', Movement='10', Legal and Regulatory Restrictions='8.566666667', State Control over Internet Access='10', Expression & Information='9.511904762', Same Sex Relationships='10', Divorce='10', PERSONAL FREEDOM (Score)='9.222963605', PERSONAL FREEDOM (Rank)='11', Government  enterprises and investment='8', Top marginal income tax rate='5', Legal enforcement of contracts='3.645024073', Reliability of police='8.763545354', Gender Legal Rights Adjustment='1', Money growth='8.992624796', Inflation: Most recent year='9.680623174', Compliance costs of importing and exporting='9.889941295', Regulatory trade barriers='7.900202711', Foreign ownership/investment restrictions='7.017939091', Freedom to trade internationally='7.912400304', Hiring regulations and minimum wage='8.9', Labour market regulations='8.127471298', Licensing restrictions='6.854548794', Business regulations='7.742054024', ECONOMIC FREEDOM (Score)='8.08', ECONOMIC FREEDOM (Rank)='8'),\n",
       " Row(Year='2017', Countries='Cape Verde', Region='SubSaharan Africa', HUMAN FREEDOM (Score)='7.45', HUMAN FREEDOM (Rank)='52', HUMAN FREEDOM (Quartile)='2', Rule of Law='5.843866236', Disappearances, Conflicts, and Terrorism='10', Women Security & Safety='10', Security & Safety='8.468556123', Women Movement='10', Movement='10', Legal and Regulatory Restrictions='6.438888889', State Control over Internet Access='0', Expression & Information='8.9375', Same Sex Relationships='10', Divorce='2.5', PERSONAL FREEDOM (Score)='7.740084756', PERSONAL FREEDOM (Rank)='50', Government  enterprises and investment='7', Top marginal income tax rate='8', Legal enforcement of contracts='6.058581633', Reliability of police='5.415041447', Gender Legal Rights Adjustment='1', Money growth='8.774886244', Inflation: Most recent year='9.843219804', Compliance costs of importing and exporting='6.655636226', Regulatory trade barriers='5.786873', Foreign ownership/investment restrictions='5.957953533', Freedom to trade internationally='7.178264883', Hiring regulations and minimum wage='3.9', Labour market regulations='4.889982526', Licensing restrictions='9.156108955', Business regulations='6.835577083', ECONOMIC FREEDOM (Score)='7.16', ECONOMIC FREEDOM (Rank)='63'),\n",
       " Row(Year='2017', Countries='Central Afr. Rep.', Region='SubSaharan Africa', HUMAN FREEDOM (Score)='5.41', HUMAN FREEDOM (Rank)='150', HUMAN FREEDOM (Quartile)='4', Rule of Law='2.406485895', Disappearances, Conflicts, and Terrorism='4', Women Security & Safety='7.55', Security & Safety='4.549016539', Women Movement='10', Movement='5', Legal and Regulatory Restrictions='7.777777778', State Control over Internet Access='10', Expression & Information='8', Same Sex Relationships='10', Divorce='7.5', PERSONAL FREEDOM (Score)='5.592764497', PERSONAL FREEDOM (Rank)='137', Government  enterprises and investment='4', Top marginal income tax rate='3', Legal enforcement of contracts='0.508171469', Reliability of police='0', Gender Legal Rights Adjustment='0.7045', Money growth='8.448279616', Inflation: Most recent year='9.18', Compliance costs of importing and exporting='2.282277902', Regulatory trade barriers='2.779623151', Foreign ownership/investment restrictions='0', Freedom to trade internationally='4.689535703', Hiring regulations and minimum wage='0', Labour market regulations='3.251725385', Licensing restrictions='7.319178711', Business regulations='5.168011542', ECONOMIC FREEDOM (Score)='5.23', ECONOMIC FREEDOM (Rank)='151'),\n",
       " Row(Year='2017', Countries='Chad', Region='SubSaharan Africa', HUMAN FREEDOM (Score)='5.46', HUMAN FREEDOM (Rank)='147', HUMAN FREEDOM (Quartile)='4', Rule of Law='3.105606868', Disappearances, Conflicts, and Terrorism='6.964876742', Women Security & Safety='5.6', Security & Safety='6.316252208', Women Movement='10', Movement='6.666666667', Legal and Regulatory Restrictions='7.772222222', State Control over Internet Access='10', Expression & Information='7.523809524', Same Sex Relationships='0', Divorce='5', PERSONAL FREEDOM (Score)='5.490401277', PERSONAL FREEDOM (Rank)='139', Government  enterprises and investment='8', Top marginal income tax rate='1', Legal enforcement of contracts='2.223210769', Reliability of police='2.902821501', Gender Legal Rights Adjustment='0.7045', Money growth='8.802987792', Inflation: Most recent year='9.82', Compliance costs of importing and exporting='0.774586216', Regulatory trade barriers='2.221888113', Foreign ownership/investment restrictions='3.463340004', Freedom to trade internationally='5.170283268', Hiring regulations and minimum wage='5', Labour market regulations='5.382116675', Licensing restrictions='7.211314035', Business regulations='3.540311466', ECONOMIC FREEDOM (Score)='5.42', ECONOMIC FREEDOM (Rank)='150'),\n",
       " Row(Year='2017', Countries='Chile', Region='Latin America & the Caribbean', HUMAN FREEDOM (Score)='8.15', HUMAN FREEDOM (Rank)='28', HUMAN FREEDOM (Quartile)='1', Rule of Law='6.516104054', Disappearances, Conflicts, and Terrorism='9.995569027', Women Security & Safety='10', Security & Safety='9.425189676', Women Movement='10', Movement='10', Legal and Regulatory Restrictions='8.655555556', State Control over Internet Access='10', Expression & Information='9.154761905', Same Sex Relationships='10', Divorce='7.5', PERSONAL FREEDOM (Score)='8.410725549', PERSONAL FREEDOM (Rank)='36', Government  enterprises and investment='10', Top marginal income tax rate='7', Legal enforcement of contracts='5.291662902', Reliability of police='7.986096541', Gender Legal Rights Adjustment='0.9091', Money growth='9.099368569', Inflation: Most recent year='9.563456306', Compliance costs of importing and exporting='6.829598857', Regulatory trade barriers='6.990131594', Foreign ownership/investment restrictions='7.573222319', Freedom to trade internationally='8.336431341', Hiring regulations and minimum wage='6.666666667', Labour market regulations='5.31723073', Licensing restrictions='7.736417085', Business regulations='6.974038842', ECONOMIC FREEDOM (Score)='7.89', ECONOMIC FREEDOM (Rank)='13'),\n",
       " Row(Year='2017', Countries='China', Region='East Asia', HUMAN FREEDOM (Score)='6.17', HUMAN FREEDOM (Rank)='126', HUMAN FREEDOM (Quartile)='4', Rule of Law='4.704818051', Disappearances, Conflicts, and Terrorism='7.997037881', Women Security & Safety='10', Security & Safety='9.250265865', Women Movement='10', Movement='5', Legal and Regulatory Restrictions='3.516666667', State Control over Internet Access='5', Expression & Information='5.171008005', Same Sex Relationships='10', Divorce='10', PERSONAL FREEDOM (Score)='5.922501409', PERSONAL FREEDOM (Rank)='124', Government  enterprises and investment='2', Top marginal income tax rate='6', Legal enforcement of contracts='5.724855082', Reliability of police='5.981355508', Gender Legal Rights Adjustment='0.8571', Money growth='9.977727081', Inflation: Most recent year='9.681372549', Compliance costs of importing and exporting='8.168644494', Regulatory trade barriers='6.988641613', Foreign ownership/investment restrictions='5.889389913', Freedom to trade internationally='6.812570246', Hiring regulations and minimum wage='8.9', Labour market regulations='5.539547608', Licensing restrictions='8.410286626', Business regulations='6.966617282', ECONOMIC FREEDOM (Score)='6.42', ECONOMIC FREEDOM (Rank)='113'),\n",
       " Row(Year='2017', Countries='Colombia', Region='Latin America & the Caribbean', HUMAN FREEDOM (Score)='6.93', HUMAN FREEDOM (Rank)='71', HUMAN FREEDOM (Quartile)='2', Rule of Law='4.422972598', Disappearances, Conflicts, and Terrorism='6.29048464', Women Security & Safety='10', Security & Safety='5.44349488', Women Movement='10', Movement='10', Legal and Regulatory Restrictions='8.011111111', State Control over Internet Access='10', Expression & Information='8.355329183', Same Sex Relationships='10', Divorce='10', PERSONAL FREEDOM (Score)='7.176223862', PERSONAL FREEDOM (Rank)='69', Government  enterprises and investment='10', Top marginal income tax rate='7', Legal enforcement of contracts='2.217134643', Reliability of police='3.964827657', Gender Legal Rights Adjustment='0.9286', Money growth='9.425589385', Inflation: Most recent year='9.137571794', Compliance costs of importing and exporting='3.630795969', Regulatory trade barriers='4.269821392', Foreign ownership/investment restrictions='5.544995069', Freedom to trade internationally='6.679424652', Hiring regulations and minimum wage='8.9', Labour market regulations='5.821340025', Licensing restrictions='8.7537109', Business regulations='6.277098682', ECONOMIC FREEDOM (Score)='6.68', ECONOMIC FREEDOM (Rank)='94'),\n",
       " Row(Year='2017', Countries='Congo, Dem. R.', Region='SubSaharan Africa', HUMAN FREEDOM (Score)='5.36', HUMAN FREEDOM (Rank)='152', HUMAN FREEDOM (Quartile)='4', Rule of Law='2.473277084', Disappearances, Conflicts, and Terrorism='5.53639017', Women Security & Safety='8.75', Security & Safety='6.28927827', Women Movement='10', Movement='6.666666667', Legal and Regulatory Restrictions='9.116666667', State Control over Internet Access='0', Expression & Information='6.867157382', Same Sex Relationships='10', Divorce='2.5', PERSONAL FREEDOM (Score)='5.7272974', PERSONAL FREEDOM (Rank)='133', Government  enterprises and investment='8', Top marginal income tax rate='5', Legal enforcement of contracts='0.970058556', Reliability of police='3.561637004', Gender Legal Rights Adjustment='0.9048', Money growth='8.069551669', Inflation: Most recent year='2.332087168', Compliance costs of importing and exporting='0', Regulatory trade barriers='2.206538816', Foreign ownership/investment restrictions='5.711344083', Freedom to trade internationally='5.557027908', Hiring regulations and minimum wage='1.666666667', Labour market regulations='5.725322657', Licensing restrictions='8.901107053', Business regulations='5.084424783', ECONOMIC FREEDOM (Score)='5', ECONOMIC FREEDOM (Rank)='157'),\n",
       " Row(Year='2017', Countries='Congo, Rep. Of', Region='SubSaharan Africa', HUMAN FREEDOM (Score)='5.8', HUMAN FREEDOM (Rank)='137', HUMAN FREEDOM (Quartile)='4', Rule of Law='3.41270431', Disappearances, Conflicts, and Terrorism='8', Women Security & Safety='8.75', Security & Safety='7.673673145', Women Movement='2.5', Movement='4.166666667', Legal and Regulatory Restrictions='8.516666667', State Control over Internet Access='7.5', Expression & Information='6.680828146', Same Sex Relationships='10', Divorce='7.5', PERSONAL FREEDOM (Score)='6.516343845', PERSONAL FREEDOM (Rank)='100', Government  enterprises and investment='4', Top marginal income tax rate='5', Legal enforcement of contracts='3.011738204', Reliability of police='0', Gender Legal Rights Adjustment='0.6591', Money growth='7.584314939', Inflation: Most recent year='9.909987235', Compliance costs of importing and exporting='0', Regulatory trade barriers='2.012674041', Foreign ownership/investment restrictions='0', Freedom to trade internationally='5.386393297', Hiring regulations and minimum wage='1.1', Labour market regulations='5.657673442', Licensing restrictions='8.230210683', Business regulations='5.051473531', ECONOMIC FREEDOM (Score)='5.08', ECONOMIC FREEDOM (Rank)='154'),\n",
       " Row(Year='2017', Countries='Costa Rica', Region='Latin America & the Caribbean', HUMAN FREEDOM (Score)='7.7', HUMAN FREEDOM (Rank)='43', HUMAN FREEDOM (Quartile)='2', Rule of Law='6.626877443', Disappearances, Conflicts, and Terrorism='10', Women Security & Safety='7.5', Security & Safety='7.526666667', Women Movement='10', Movement='10', Legal and Regulatory Restrictions='4.811111111', State Control over Internet Access='10', Expression & Information='9.595238095', Same Sex Relationships='10', Divorce='5', PERSONAL FREEDOM (Score)='7.989761689', PERSONAL FREEDOM (Rank)='47', Government  enterprises and investment='8', Top marginal income tax rate='9', Legal enforcement of contracts='3.523501568', Reliability of police='6.104907592', Gender Legal Rights Adjustment='0.881', Money growth='9.837688118', Inflation: Most recent year='9.674855339', Compliance costs of importing and exporting='7.468645893', Regulatory trade barriers='6.16101738', Foreign ownership/investment restrictions='6.89982454', Freedom to trade internationally='7.956392465', Hiring regulations and minimum wage='2.233333333', Labour market regulations='6.142797071', Licensing restrictions='8.714179423', Business regulations='6.442538843', ECONOMIC FREEDOM (Score)='7.41', ECONOMIC FREEDOM (Rank)='46'),\n",
       " Row(Year='2017', Countries=\"Côte d'Ivoire\", Region='SubSaharan Africa', HUMAN FREEDOM (Score)='6.59', HUMAN FREEDOM (Rank)='101', HUMAN FREEDOM (Quartile)='3', Rule of Law='4.033755934', Disappearances, Conflicts, and Terrorism='8.988474876', Women Security & Safety='6.9', Security & Safety='7.078755053', Women Movement='10', Movement='6.666666667', Legal and Regulatory Restrictions='8.888888889', State Control over Internet Access='10', Expression & Information='8.654761905', Same Sex Relationships='10', Divorce='10', PERSONAL FREEDOM (Score)='7.204715048', PERSONAL FREEDOM (Rank)='67', Government  enterprises and investment='4', Top marginal income tax rate='3', Legal enforcement of contracts='3.974267539', Reliability of police='3.851540487', Gender Legal Rights Adjustment='0.9286', Money growth='9.341843746', Inflation: Most recent year='9.862823787', Compliance costs of importing and exporting='1.834319527', Regulatory trade barriers='3.897640355', Foreign ownership/investment restrictions='6.446567236', Freedom to trade internationally='5.918251376', Hiring regulations and minimum wage='5.566666667', Labour market regulations='6.120832224', Licensing restrictions='8.267725403', Business regulations='6.185718384', ECONOMIC FREEDOM (Score)='5.97', ECONOMIC FREEDOM (Rank)='134'),\n",
       " Row(Year='2017', Countries='Croatia', Region='Eastern Europe', HUMAN FREEDOM (Score)='7.86', HUMAN FREEDOM (Rank)='37', HUMAN FREEDOM (Quartile)='1', Rule of Law='5.700537868', Disappearances, Conflicts, and Terrorism='10', Women Security & Safety='10', Security & Safety='9.853333333', Women Movement='10', Movement='10', Legal and Regulatory Restrictions='7.55', State Control over Internet Access='7.5', Expression & Information='8.607142857', Same Sex Relationships='10', Divorce='10', PERSONAL FREEDOM (Score)='8.454330234', PERSONAL FREEDOM (Rank)='34', Government  enterprises and investment='10', Top marginal income tax rate='5', Legal enforcement of contracts='4.642387391', Reliability of police='5.870582263', Gender Legal Rights Adjustment='1', Money growth='8.653306381', Inflation: Most recent year='9.774125579', Compliance costs of importing and exporting='9.963313765', Regulatory trade barriers='8.329169366', Foreign ownership/investment restrictions='5.385522048', Freedom to trade internationally='8.18362089', Hiring regulations and minimum wage='5.566666667', Labour market regulations='6.364912015', Licensing restrictions='8.518435762', Business regulations='6.163933668', ECONOMIC FREEDOM (Score)='7.26', ECONOMIC FREEDOM (Rank)='56'),\n",
       " Row(Year='2017', Countries='Cyprus', Region='Eastern Europe', HUMAN FREEDOM (Score)='7.93', HUMAN FREEDOM (Rank)='36', HUMAN FREEDOM (Quartile)='1', Rule of Law='6.600529166', Disappearances, Conflicts, and Terrorism='9.5', Women Security & Safety='10', Security & Safety='9.753333333', Women Movement='2.5', Movement='7.5', Legal and Regulatory Restrictions='5.366666667', State Control over Internet Access='10', Expression & Information='9.452380952', Same Sex Relationships='10', Divorce='5', PERSONAL FREEDOM (Score)='8.182962979', PERSONAL FREEDOM (Rank)='39', Government  enterprises and investment='8', Top marginal income tax rate='7', Legal enforcement of contracts='4.003515462', Reliability of police='6.305299998', Gender Legal Rights Adjustment='0.9286', Money growth='8.022818488', Inflation: Most recent year='9.893646701', Compliance costs of importing and exporting='9.310653997', Regulatory trade barriers='7.876044707', Foreign ownership/investment restrictions='6.319682995', Freedom to trade internationally='8.274157411', Hiring regulations and minimum wage='5.566666667', Labour market regulations='6.248106775', Licensing restrictions='4.998190205', Business regulations='6.926011354', ECONOMIC FREEDOM (Score)='7.68', ECONOMIC FREEDOM (Rank)='28'),\n",
       " Row(Year='2017', Countries='Czech Rep.', Region='Eastern Europe', HUMAN FREEDOM (Score)='8.34', HUMAN FREEDOM (Rank)='21', HUMAN FREEDOM (Quartile)='1', Rule of Law='7.786692219', Disappearances, Conflicts, and Terrorism='10', Women Security & Safety='10', Security & Safety='9.92', Women Movement='10', Movement='10', Legal and Regulatory Restrictions='7.311111111', State Control over Internet Access='10', Expression & Information='9.523809524', Same Sex Relationships='10', Divorce='7.5', PERSONAL FREEDOM (Score)='8.922165118', PERSONAL FREEDOM (Rank)='18', Government  enterprises and investment='10', Top marginal income tax rate='9', Legal enforcement of contracts='3.301208151', Reliability of police='6.375187238', Gender Legal Rights Adjustment='0.9524', Money growth='7.825421551', Inflation: Most recent year='9.509893203', Compliance costs of importing and exporting='9.963313765', Regulatory trade barriers='8.404501491', Foreign ownership/investment restrictions='7.945795457', Freedom to trade internationally='8.221268158', Hiring regulations and minimum wage='8.9', Labour market regulations='8.094544986', Licensing restrictions='6.906386877', Business regulations='6.460669608', ECONOMIC FREEDOM (Score)='7.75', ECONOMIC FREEDOM (Rank)='22'),\n",
       " Row(Year='2017', Countries='Denmark', Region='Western Europe', HUMAN FREEDOM (Score)='8.56', HUMAN FREEDOM (Rank)='6', HUMAN FREEDOM (Quartile)='1', Rule of Law='8.687100828', Disappearances, Conflicts, and Terrorism='10', Women Security & Safety='10', Security & Safety='9.84', Women Movement='10', Movement='10', Legal and Regulatory Restrictions='5.366666667', State Control over Internet Access='10', Expression & Information='8.864470764', Same Sex Relationships='10', Divorce='10', PERSONAL FREEDOM (Score)='9.238444506', PERSONAL FREEDOM (Rank)='9', Government  enterprises and investment='8', Top marginal income tax rate='3', Legal enforcement of contracts='5.393731649', Reliability of police='7.817128898', Gender Legal Rights Adjustment='1', Money growth='9.835639469', Inflation: Most recent year='9.770573566', Compliance costs of importing and exporting='9.963313765', Regulatory trade barriers='8.270670586', Foreign ownership/investment restrictions='7.451079687', Freedom to trade internationally='8.467096938', Hiring regulations and minimum wage='10', Labour market regulations='7.267282367', Licensing restrictions='9.87356902', Business regulations='7.853168283', ECONOMIC FREEDOM (Score)='7.89', ECONOMIC FREEDOM (Rank)='13'),\n",
       " Row(Year='2017', Countries='Dominican Rep.', Region='Latin America & the Caribbean', HUMAN FREEDOM (Score)='6.95', HUMAN FREEDOM (Rank)='68', HUMAN FREEDOM (Quartile)='2', Rule of Law='4.352093305', Disappearances, Conflicts, and Terrorism='9.483901424', Women Security & Safety='10', Security & Safety='8.321300475', Women Movement='10', Movement='8.333333333', Legal and Regulatory Restrictions='5.461111111', State Control over Internet Access='10', Expression & Information='7.984510488', Same Sex Relationships='10', Divorce='7.5', PERSONAL FREEDOM (Score)='6.982169864', PERSONAL FREEDOM (Rank)='77', Government  enterprises and investment='0', Top marginal income tax rate='9', Legal enforcement of contracts='3.533008807', Reliability of police='2.679889997', Gender Legal Rights Adjustment='1', Money growth='9.178954335', Inflation: Most recent year='9.344088611', Compliance costs of importing and exporting='8.868643095', Regulatory trade barriers='7.03085127', Foreign ownership/investment restrictions='6.535142263', Freedom to trade internationally='7.937276382', Hiring regulations and minimum wage='5.566666667', Labour market regulations='6.021571293', Licensing restrictions='7.554608846', Business regulations='5.537636559', ECONOMIC FREEDOM (Score)='6.92', ECONOMIC FREEDOM (Rank)='77'),\n",
       " Row(Year='2017', Countries='Ecuador', Region='Latin America & the Caribbean', HUMAN FREEDOM (Score)='6.82', HUMAN FREEDOM (Rank)='82', HUMAN FREEDOM (Quartile)='2', Rule of Law='4.258770863', Disappearances, Conflicts, and Terrorism='9.5', Women Security & Safety='8.75', Security & Safety='8.643333333', Women Movement='10', Movement='10', Legal and Regulatory Restrictions='9.077777778', State Control over Internet Access='10', Expression & Information='7.854546348', Same Sex Relationships='10', Divorce='7.5', PERSONAL FREEDOM (Score)='7.358017721', PERSONAL FREEDOM (Rank)='64', Government  enterprises and investment='6', Top marginal income tax rate='6', Legal enforcement of contracts='4.870378551', Reliability of police='4.736213287', Gender Legal Rights Adjustment='0.9524', Money growth='9.262907355', Inflation: Most recent year='9.916532882', Compliance costs of importing and exporting='5.242622205', Regulatory trade barriers='4.240421707', Foreign ownership/investment restrictions='3.424505592', Freedom to trade internationally='6.520068927', Hiring regulations and minimum wage='4.433333333', Labour market regulations='4.979011181', Licensing restrictions='8.763121833', Business regulations='4.567423927', ECONOMIC FREEDOM (Score)='6.28', ECONOMIC FREEDOM (Rank)='118'),\n",
       " Row(Year='2017', Countries='Egypt', Region='Middle East & North Africa', HUMAN FREEDOM (Score)='4.5', HUMAN FREEDOM (Rank)='157', HUMAN FREEDOM (Quartile)='4', Rule of Law='3.626147505', Disappearances, Conflicts, and Terrorism='5.304344106', Women Security & Safety='0.65', Security & Safety='4.983009643', Women Movement='2.5', Movement='4.166666667', Legal and Regulatory Restrictions='2.822222222', State Control over Internet Access='7.5', Expression & Information='6.540452701', Same Sex Relationships='0', Divorce='0', PERSONAL FREEDOM (Score)='3.946334557', PERSONAL FREEDOM (Rank)='159', Government  enterprises and investment='0', Top marginal income tax rate='9', Legal enforcement of contracts='3.408055189', Reliability of police='6.324063143', Gender Legal Rights Adjustment='0.5476', Money growth='6.546007782', Inflation: Most recent year='4.099613454', Compliance costs of importing and exporting='2.022506349', Regulatory trade barriers='3.704028305', Foreign ownership/investment restrictions='4.302721023', Freedom to trade internationally='5.807466308', Hiring regulations and minimum wage='10', Labour market regulations='4.971039567', Licensing restrictions='8.094785159', Business regulations='5.707529733', ECONOMIC FREEDOM (Score)='5.05', ECONOMIC FREEDOM (Rank)='155'),\n",
       " Row(Year='2017', Countries='El Salvador', Region='Latin America & the Caribbean', HUMAN FREEDOM (Score)='6.89', HUMAN FREEDOM (Rank)='75', HUMAN FREEDOM (Quartile)='2', Rule of Law='4.355099989', Disappearances, Conflicts, and Terrorism='8.5', Women Security & Safety='8.75', Security & Safety='5.75', Women Movement='10', Movement='8.333333333', Legal and Regulatory Restrictions='7.822222222', State Control over Internet Access='10', Expression & Information='8.880952381', Same Sex Relationships='10', Divorce='10', PERSONAL FREEDOM (Score)='6.623259124', PERSONAL FREEDOM (Rank)='93', Government  enterprises and investment='8', Top marginal income tax rate='8', Legal enforcement of contracts='3.833383955', Reliability of police='2.418105603', Gender Legal Rights Adjustment='1', Money growth='9.809795987', Inflation: Most recent year='9.797529193', Compliance costs of importing and exporting='8.552667852', Regulatory trade barriers='6.651756344', Foreign ownership/investment restrictions='5.285210609', Freedom to trade internationally='7.633421168', Hiring regulations and minimum wage='4.433333333', Labour market regulations='4.41798786', Licensing restrictions='5.787071695', Business regulations='5.350570245', ECONOMIC FREEDOM (Score)='7.16', ECONOMIC FREEDOM (Rank)='63'),\n",
       " Row(Year='2017', Countries='Estonia', Region='Eastern Europe', HUMAN FREEDOM (Score)='8.46', HUMAN FREEDOM (Rank)='15', HUMAN FREEDOM (Quartile)='1', Rule of Law='7.801085558', Disappearances, Conflicts, and Terrorism='10', Women Security & Safety='10', Security & Safety='9.706666667', Women Movement='10', Movement='10', Legal and Regulatory Restrictions='8.377777778', State Control over Internet Access='10', Expression & Information='9.619047619', Same Sex Relationships='10', Divorce='10', PERSONAL FREEDOM (Score)='9.021805781', PERSONAL FREEDOM (Rank)='15', Government  enterprises and investment='7', Top marginal income tax rate='10', Legal enforcement of contracts='5.704890202', Reliability of police='8.309993347', Gender Legal Rights Adjustment='1', Money growth='8.308517285', Inflation: Most recent year='9.316552901', Compliance costs of importing and exporting='9.919527094', Regulatory trade barriers='8.458293736', Foreign ownership/investment restrictions='7.815367778', Freedom to trade internationally='8.416154939', Hiring regulations and minimum wage='6.666666667', Labour market regulations='6.238581742', Licensing restrictions='9.239308455', Business regulations='8.408750594', ECONOMIC FREEDOM (Score)='7.89', ECONOMIC FREEDOM (Rank)='13'),\n",
       " Row(Year='2017', Countries='Eswatini', Region='SubSaharan Africa', HUMAN FREEDOM (Score)='6.4', HUMAN FREEDOM (Rank)='111', HUMAN FREEDOM (Quartile)='3', Rule of Law='4.717391782', Disappearances, Conflicts, and Terrorism='9.5', Women Security & Safety='6.25', Security & Safety='7.316666667', Women Movement='7.5', Movement='7.5', Legal and Regulatory Restrictions='6.616666667', State Control over Internet Access='0', Expression & Information='5.958333333', Same Sex Relationships='5', Divorce='2.5', PERSONAL FREEDOM (Score)='6.289625723', PERSONAL FREEDOM (Rank)='110', Government  enterprises and investment='0', Top marginal income tax rate='7', Legal enforcement of contracts='1.591293744', Reliability of police='7.215108077', Gender Legal Rights Adjustment='0.8537', Money growth='8.65805788', Inflation: Most recent year='8.755700755', Compliance costs of importing and exporting='9.808876361', Regulatory trade barriers='7.833398305', Foreign ownership/investment restrictions='6.131306887', Freedom to trade internationally='7.008096947', Hiring regulations and minimum wage='8.9', Labour market regulations='7.749389249', Licensing restrictions='9.021252352', Business regulations='6.687309092', ECONOMIC FREEDOM (Score)='6.52', ECONOMIC FREEDOM (Rank)='107'),\n",
       " Row(Year='2017', Countries='Ethiopia', Region='SubSaharan Africa', HUMAN FREEDOM (Score)='5.25', HUMAN FREEDOM (Rank)='153', HUMAN FREEDOM (Quartile)='4', Rule of Law='3.302472672', Disappearances, Conflicts, and Terrorism='7.437244403', Women Security & Safety='5.5', Security & Safety='6.637533148', Women Movement='10', Movement='6.666666667', Legal and Regulatory Restrictions='6.016666667', State Control over Internet Access='2.5', Expression & Information='5.408135679', Same Sex Relationships='0', Divorce='7.5', PERSONAL FREEDOM (Score)='4.772703912', PERSONAL FREEDOM (Rank)='153', Government  enterprises and investment='4', Top marginal income tax rate='7', Legal enforcement of contracts='5.546758592', Reliability of police='5.022476515', Gender Legal Rights Adjustment='0.8', Money growth='9.019101689', Inflation: Most recent year='8.030349952', Compliance costs of importing and exporting='3.284635127', Regulatory trade barriers='3.992384861', Foreign ownership/investment restrictions='4.38018024', Freedom to trade internationally='5.134059953', Hiring regulations and minimum wage='6.666666667', Labour market regulations='7.286482154', Licensing restrictions='8.707871123', Business regulations='5.812867346', ECONOMIC FREEDOM (Score)='5.72', ECONOMIC FREEDOM (Rank)='143'),\n",
       " Row(Year='2017', Countries='Fiji', Region='Oceania', HUMAN FREEDOM (Score)='7.17', HUMAN FREEDOM (Rank)='60', HUMAN FREEDOM (Quartile)='2', Rule of Law='4.788216475', Disappearances, Conflicts, and Terrorism='10', Women Security & Safety='8.75', Security & Safety='9.282289237', Women Movement='2.5', Movement='5.833333333', Legal and Regulatory Restrictions='9.35', State Control over Internet Access='0', Expression & Information='7.666666667', Same Sex Relationships='10', Divorce='10', PERSONAL FREEDOM (Score)='7.60547365', PERSONAL FREEDOM (Rank)='56', Government  enterprises and investment='6', Top marginal income tax rate='5', Legal enforcement of contracts='4.884245026', Reliability of police='0', Gender Legal Rights Adjustment='0.9', Money growth='9.325521086', Inflation: Most recent year='9.329782512', Compliance costs of importing and exporting='6.42368605', Regulatory trade barriers='6.005196821', Foreign ownership/investment restrictions='0', Freedom to trade internationally='6.426854761', Hiring regulations and minimum wage='8.9', Labour market regulations='9.293303107', Licensing restrictions='8.618828314', Business regulations='7.767277266', ECONOMIC FREEDOM (Score)='6.74', ECONOMIC FREEDOM (Rank)='90')]"
      ]
     },
     "execution_count": 12,
     "metadata": {},
     "output_type": "execute_result"
    }
   ],
   "source": [
    "df.head(50)"
   ]
  },
  {
   "cell_type": "code",
   "execution_count": 13,
   "metadata": {},
   "outputs": [
    {
     "data": {
      "text/plain": [
       "[('Year', 'string'),\n",
       " ('Countries', 'string'),\n",
       " ('Region', 'string'),\n",
       " ('HUMAN FREEDOM (Score)', 'string'),\n",
       " ('HUMAN FREEDOM (Rank)', 'string'),\n",
       " ('HUMAN FREEDOM (Quartile)', 'string'),\n",
       " ('Rule of Law', 'string'),\n",
       " ('Disappearances, Conflicts, and Terrorism', 'string'),\n",
       " ('Women Security & Safety', 'string'),\n",
       " ('Security & Safety', 'string'),\n",
       " ('Women Movement', 'string'),\n",
       " ('Movement', 'string'),\n",
       " ('Legal and Regulatory Restrictions', 'string'),\n",
       " ('State Control over Internet Access', 'string'),\n",
       " ('Expression & Information', 'string'),\n",
       " ('Same Sex Relationships', 'string'),\n",
       " ('Divorce', 'string'),\n",
       " ('PERSONAL FREEDOM (Score)', 'string'),\n",
       " ('PERSONAL FREEDOM (Rank)', 'string'),\n",
       " ('Government  enterprises and investment', 'string'),\n",
       " ('Top marginal income tax rate', 'string'),\n",
       " ('Legal enforcement of contracts', 'string'),\n",
       " ('Reliability of police', 'string'),\n",
       " ('Gender Legal Rights Adjustment', 'string'),\n",
       " ('Money growth', 'string'),\n",
       " ('Inflation: Most recent year', 'string'),\n",
       " ('Compliance costs of importing and exporting', 'string'),\n",
       " ('Regulatory trade barriers', 'string'),\n",
       " ('Foreign ownership/investment restrictions', 'string'),\n",
       " ('Freedom to trade internationally', 'string'),\n",
       " ('Hiring regulations and minimum wage', 'string'),\n",
       " ('Labour market regulations', 'string'),\n",
       " ('Licensing restrictions', 'string'),\n",
       " ('Business regulations', 'string'),\n",
       " ('ECONOMIC FREEDOM (Score)', 'string'),\n",
       " ('ECONOMIC FREEDOM (Rank)', 'string')]"
      ]
     },
     "execution_count": 13,
     "metadata": {},
     "output_type": "execute_result"
    }
   ],
   "source": [
    "df.dtypes"
   ]
  },
  {
   "cell_type": "code",
   "execution_count": 14,
   "metadata": {},
   "outputs": [
    {
     "name": "stdout",
     "output_type": "stream",
     "text": [
      "+----+-----+\n",
      "|Year|count|\n",
      "+----+-----+\n",
      "|2016|  162|\n",
      "|2012|  159|\n",
      "|2017|  162|\n",
      "|2014|  159|\n",
      "|2013|  159|\n",
      "|2009|  147|\n",
      "|2011|  159|\n",
      "|2008|  145|\n",
      "|2015|  159|\n",
      "|2010|  158|\n",
      "+----+-----+\n",
      "\n"
     ]
    }
   ],
   "source": [
    "df_summary = df.groupBy(\"Year\").count().show()"
   ]
  },
  {
   "cell_type": "code",
   "execution_count": 16,
   "metadata": {},
   "outputs": [
    {
     "data": {
      "text/plain": [
       "[Row(Year='2017', Countries='Albania', Region='Eastern Europe', HUMAN FREEDOM (Score)='7.84', HUMAN FREEDOM (Rank)='38', HUMAN FREEDOM (Quartile)='1', Rule of Law='5.291751647', Disappearances, Conflicts, and Terrorism='10', Women Security & Safety='8.75', Security & Safety='9.276666667', Women Movement='10', Movement='10', Legal and Regulatory Restrictions='8.011111111', State Control over Internet Access='10', Expression & Information='8.607142857', Same Sex Relationships=None, Divorce='7.5', PERSONAL FREEDOM (Score)='8.005411457', PERSONAL FREEDOM (Rank)='46', Government  enterprises and investment='8', Top marginal income tax rate='9', Legal enforcement of contracts='4.387444055', Reliability of police='6.824168762', Gender Legal Rights Adjustment='0.9524', Money growth='9.253087019', Inflation: Most recent year='9.601214379', Compliance costs of importing and exporting='9.405327776', Regulatory trade barriers='7.706503738', Foreign ownership/investment restrictions='6.306105852', Freedom to trade internationally='8.343862962', Hiring regulations and minimum wage='5.566666667', Labour market regulations='6.938448195', Licensing restrictions='6.031964728', Business regulations='6.652097679', ECONOMIC FREEDOM (Score)='7.67', ECONOMIC FREEDOM (Rank)='30')]"
      ]
     },
     "execution_count": 16,
     "metadata": {},
     "output_type": "execute_result"
    }
   ],
   "source": [
    "df.head(1)"
   ]
  },
  {
   "cell_type": "code",
   "execution_count": 17,
   "metadata": {},
   "outputs": [
    {
     "name": "stdout",
     "output_type": "stream",
     "text": [
      "+--------------------+\n",
      "|Business regulations|\n",
      "+--------------------+\n",
      "|         6.652097679|\n",
      "|         5.715304296|\n",
      "|         4.877379454|\n",
      "|          5.71906252|\n",
      "|         6.947624104|\n",
      "|         8.049348386|\n",
      "|         7.498820056|\n",
      "|         7.460583483|\n",
      "|         7.685912284|\n",
      "|         8.023765365|\n",
      "|          4.96067717|\n",
      "|         6.543270114|\n",
      "|         7.987602227|\n",
      "|          7.38239585|\n",
      "|         6.760465283|\n",
      "|         6.153522594|\n",
      "|         6.661475086|\n",
      "|         3.323844555|\n",
      "|         5.140797479|\n",
      "|         7.013877346|\n",
      "+--------------------+\n",
      "only showing top 20 rows\n",
      "\n"
     ]
    }
   ],
   "source": [
    "# We can also select various columns from a DataFrame. \n",
    "df.select('Business regulations').show()\n"
   ]
  },
  {
   "cell_type": "code",
   "execution_count": 19,
   "metadata": {},
   "outputs": [
    {
     "name": "stdout",
     "output_type": "stream",
     "text": [
      "+----+-----------------------+\n",
      "|Year|Women Security & Safety|\n",
      "+----+-----------------------+\n",
      "|2017|                   6.05|\n",
      "|2016|                    3.5|\n",
      "|2013|                    3.8|\n",
      "|2012|                   4.75|\n",
      "|2011|                    7.5|\n",
      "|2016|                    7.3|\n",
      "|2013|                   7.45|\n",
      "|2012|                    5.7|\n",
      "|2010|                      3|\n",
      "|2009|                   6.65|\n",
      "|2011|                    3.1|\n",
      "|2014|                      5|\n",
      "|2010|                      4|\n",
      "|2008|                   0.75|\n",
      "|2014|                    2.8|\n",
      "|2011|                      4|\n",
      "|2017|                    8.5|\n",
      "|2008|                   3.65|\n",
      "|2008|                   9.75|\n",
      "|2013|                    6.3|\n",
      "+----+-----------------------+\n",
      "only showing top 20 rows\n",
      "\n"
     ]
    }
   ],
   "source": [
    "df.groupBy('Year', 'Women Security & Safety').mean().show()"
   ]
  },
  {
   "cell_type": "code",
   "execution_count": 20,
   "metadata": {},
   "outputs": [
    {
     "name": "stdout",
     "output_type": "stream",
     "text": [
      "+----------------------------+\n",
      "|avg(Women Security & Safety)|\n",
      "+----------------------------+\n",
      "|           7.854397705544931|\n",
      "+----------------------------+\n",
      "\n"
     ]
    }
   ],
   "source": [
    "df.agg({\"Women Security & Safety\":\"mean\"}).show()"
   ]
  },
  {
   "cell_type": "code",
   "execution_count": null,
   "metadata": {},
   "outputs": [],
   "source": []
  }
 ],
 "metadata": {
  "kernelspec": {
   "display_name": "Python 3",
   "language": "python",
   "name": "python3"
  },
  "language_info": {
   "codemirror_mode": {
    "name": "ipython",
    "version": 3
   },
   "file_extension": ".py",
   "mimetype": "text/x-python",
   "name": "python",
   "nbconvert_exporter": "python",
   "pygments_lexer": "ipython3",
   "version": "3.5.2"
  }
 },
 "nbformat": 4,
 "nbformat_minor": 2
}
